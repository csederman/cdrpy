{
 "cells": [
  {
   "cell_type": "code",
   "execution_count": 14,
   "metadata": {},
   "outputs": [],
   "source": [
    "import itertools\n",
    "\n",
    "import numpy as np\n",
    "import pandas as pd\n",
    "\n",
    "from pathlib import Path\n",
    "from tensorflow import keras\n",
    "\n",
    "from sklearn.model_selection import train_test_split\n",
    "from sklearn.preprocessing import StandardScaler\n",
    "\n",
    "from screendl import model as screendl\n",
    "\n",
    "from cdrpy.feat.encoders import PandasEncoder\n",
    "from cdrpy.datasets import Dataset\n",
    "from cdrpy.data.preprocess import normalize_responses\n",
    "from cdrpy.mapper import BatchedResponseGenerator\n",
    "from cdrpy.metrics import tf_metrics"
   ]
  },
  {
   "cell_type": "code",
   "execution_count": 8,
   "metadata": {},
   "outputs": [],
   "source": [
    "root = Path(\"../../../../datastore\")\n",
    "\n",
    "data_dir = root /  \"inputs/CellModelPassportsGDSCv1v2HCIv9AllDrugsHallmarkCombat\"\n",
    "\n",
    "exp_path = data_dir / \"ScreenDL/FeatureGeneExpression.csv\"\n",
    "mol_path = data_dir / \"ScreenDL/FeatureMorganFingerprints.csv\"\n",
    "labels_path = data_dir / \"LabelsLogIC50.csv\""
   ]
  },
  {
   "cell_type": "code",
   "execution_count": 22,
   "metadata": {},
   "outputs": [],
   "source": [
    "obs = pd.read_csv(labels_path)\n",
    "\n",
    "exp_feat = pd.read_csv(exp_path, index_col=0)\n",
    "mol_feat = pd.read_csv(mol_path, index_col=0)"
   ]
  },
  {
   "cell_type": "code",
   "execution_count": 21,
   "metadata": {},
   "outputs": [
    {
     "name": "stdout",
     "output_type": "stream",
     "text": [
      "Dataset(name=None, size=281_924, n_cells=887, n_drugs=455)\n"
     ]
    }
   ],
   "source": [
    "exp_enc = PandasEncoder(exp_feat)\n",
    "mol_enc = PandasEncoder(mol_feat)\n",
    "\n",
    "cell_encoders = {\"exp\": exp_enc}\n",
    "drug_encoders = {\"mol\": mol_enc}\n",
    "\n",
    "D = Dataset(obs, cell_encoders=cell_encoders, drug_encoders=drug_encoders)\n",
    "print(D)"
   ]
  },
  {
   "cell_type": "code",
   "execution_count": 41,
   "metadata": {},
   "outputs": [
    {
     "name": "stdout",
     "output_type": "stream",
     "text": [
      "Model: \"ScreenDL\"\n",
      "__________________________________________________________________________________________________\n",
      " Layer (type)                   Output Shape         Param #     Connected to                     \n",
      "==================================================================================================\n",
      " exp_input (InputLayer)         [(None, 4366)]       0           []                               \n",
      "                                                                                                  \n",
      " mol_input (InputLayer)         [(None, 512)]        0           []                               \n",
      "                                                                                                  \n",
      " exp_mlp_1 (MLPBlock)           (None, 128)          558976      ['exp_input[0][0]']              \n",
      "                                                                                                  \n",
      " mol_mlp_1 (MLPBlock)           (None, 128)          65664       ['mol_input[0][0]']              \n",
      "                                                                                                  \n",
      " exp_mlp_2 (MLPBlock)           (None, 64)           8256        ['exp_mlp_1[0][0]']              \n",
      "                                                                                                  \n",
      " mol_mlp_2 (MLPBlock)           (None, 64)           8256        ['mol_mlp_1[0][0]']              \n",
      "                                                                                                  \n",
      " concat (Concatenate)           (None, 128)          0           ['exp_mlp_2[0][0]',              \n",
      "                                                                  'mol_mlp_2[0][0]']              \n",
      "                                                                                                  \n",
      " shared_mlp_1 (MLPBlock)        (None, 64)           8256        ['concat[0][0]']                 \n",
      "                                                                                                  \n",
      " shared_mlp_2 (MLPBlock)        (None, 32)           2080        ['shared_mlp_1[0][0]']           \n",
      "                                                                                                  \n",
      " final_act (Dense)              (None, 1)            33          ['shared_mlp_2[0][0]']           \n",
      "                                                                                                  \n",
      "==================================================================================================\n",
      "Total params: 651,521\n",
      "Trainable params: 651,521\n",
      "Non-trainable params: 0\n",
      "__________________________________________________________________________________________________\n"
     ]
    }
   ],
   "source": [
    "model = screendl.create_model(\n",
    "    exp_dim=D.cell_encoders[\"exp\"].shape[-1],\n",
    "    mol_dim=D.drug_encoders[\"mol\"].shape[-1],\n",
    "    exp_hidden_dims=[128, 64],\n",
    "    mol_hidden_dims=[128, 64],\n",
    "    shared_hidden_dims=[64, 32],\n",
    "    activation=\"relu\",\n",
    ")\n",
    "\n",
    "model.summary()"
   ]
  },
  {
   "cell_type": "code",
   "execution_count": 42,
   "metadata": {},
   "outputs": [],
   "source": [
    "model.compile(\n",
    "    optimizer=keras.optimizers.Adam(1e-4),\n",
    "    loss=\"mean_squared_error\",\n",
    "    metrics=[tf_metrics.pearson],\n",
    ")"
   ]
  },
  {
   "cell_type": "code",
   "execution_count": 43,
   "metadata": {},
   "outputs": [],
   "source": [
    "gen = BatchedResponseGenerator(D, 32)\n",
    "seq = gen.flow_from_dataset(D)"
   ]
  },
  {
   "cell_type": "code",
   "execution_count": null,
   "metadata": {},
   "outputs": [],
   "source": [
    "history = model.fit(seq, epochs=50, verbose=2)"
   ]
  }
 ],
 "metadata": {
  "kernelspec": {
   "display_name": "cdrpy-tf-cpu-v2",
   "language": "python",
   "name": "python3"
  },
  "language_info": {
   "codemirror_mode": {
    "name": "ipython",
    "version": 3
   },
   "file_extension": ".py",
   "mimetype": "text/x-python",
   "name": "python",
   "nbconvert_exporter": "python",
   "pygments_lexer": "ipython3",
   "version": "3.9.13"
  }
 },
 "nbformat": 4,
 "nbformat_minor": 2
}
