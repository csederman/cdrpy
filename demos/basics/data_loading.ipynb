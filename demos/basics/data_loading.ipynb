{
 "cells": [
  {
   "cell_type": "markdown",
   "metadata": {},
   "source": [
    "# Loading CDRPY Datasets\n",
    "\n",
    "The `Dataset` class standardizes how cancer drug response datasets are represented in cdrpy.\n",
    "\n",
    "In this tutorial, we will walk through a simple example of loading and exploring a custom dataset using cdrpy."
   ]
  },
  {
   "cell_type": "markdown",
   "metadata": {},
   "source": [
    "## Creating a Dataset"
   ]
  },
  {
   "cell_type": "code",
   "execution_count": null,
   "metadata": {},
   "outputs": [],
   "source": [
    "import itertools\n",
    "\n",
    "import numpy as np\n",
    "import pandas as pd\n",
    "\n",
    "from pathlib import Path"
   ]
  },
  {
   "cell_type": "markdown",
   "metadata": {},
   "source": [
    "The `Dataset` class is available in the `datasets` module of cdrpy."
   ]
  },
  {
   "cell_type": "code",
   "execution_count": null,
   "metadata": {},
   "outputs": [],
   "source": [
    "from cdrpy.datasets import Dataset"
   ]
  },
  {
   "cell_type": "markdown",
   "metadata": {},
   "source": [
    "The only requirement for creating a cdrpy dataset is a `pandas.DataFrame` instance containing drug response observations. This DataFrame must contain the following four columns:\n",
    "\n",
    "1. *id* - the drug response ID (unique to each combination of sample and drug)\n",
    "2. *cell_id* - the unique identifier for the corresponding sample (e.g., cell line)\n",
    "3. *drug_id* - the unique identifier for the corresponding drug/treatment\n",
    "4. *label* - the observed drug response value (e.g., an IC50 value)\n",
    "\n",
    "As an example, we will generate some synthetic drug response data and create a new `Dataset`."
   ]
  },
  {
   "cell_type": "code",
   "execution_count": null,
   "metadata": {},
   "outputs": [],
   "source": [
    "def simulate_response_data(n_drugs: int, n_cells: int) -> pd.DataFrame:\n",
    "    \"\"\"Generates simulated drug response observations.\"\"\"\n",
    "    n_responses = n_cells * n_drugs\n",
    "\n",
    "    cell_ids = [f\"C{i+1}\" for i in range(n_cells)]\n",
    "    drug_ids = [f\"D{i+1}\" for i in range(n_drugs)]\n",
    "\n",
    "    pairs = zip(*itertools.product(cell_ids, drug_ids))\n",
    "    data = zip(range(n_responses), *pairs, np.random.normal(size=n_responses))\n",
    "\n",
    "    return pd.DataFrame(data, columns=[\"id\", \"cell_id\", \"drug_id\", \"label\"])\n",
    "\n",
    "\n",
    "response_data = simulate_response_data(n_drugs=10, n_cells=20)\n",
    "response_data.head()"
   ]
  },
  {
   "cell_type": "code",
   "execution_count": null,
   "metadata": {},
   "outputs": [],
   "source": [
    "D = Dataset(response_data, name=\"sim-dataset\")\n",
    "print(D)"
   ]
  },
  {
   "cell_type": "markdown",
   "metadata": {},
   "source": [
    "## Subsetting and selection\n",
    "\n",
    "cdrpy provides an intuitive interface for subsetting/selecting cancer drug response data. Specific cell lines/samples can be selected using the `Dataset.select_cells` method."
   ]
  },
  {
   "cell_type": "code",
   "execution_count": null,
   "metadata": {},
   "outputs": [],
   "source": [
    "cell_ids = [\"C1\", \"C2\", \"C3\"]\n",
    "D.select_cells(cell_ids)"
   ]
  },
  {
   "cell_type": "markdown",
   "metadata": {},
   "source": [
    "Specific drugs can be selected using the `Dataset.select_drugs` method."
   ]
  },
  {
   "cell_type": "code",
   "execution_count": null,
   "metadata": {},
   "outputs": [],
   "source": [
    "drug_ids = [\"D1\", \"D2\", \"D3\"]\n",
    "D.select_drugs(drug_ids)"
   ]
  },
  {
   "cell_type": "markdown",
   "metadata": {},
   "source": [
    "## Loading data from CSV files\n",
    "\n",
    "In many cases, raw response data may be stored as csv files. cdrpy can load csv files"
   ]
  }
 ],
 "metadata": {
  "kernelspec": {
   "display_name": "cdrpy-tf-cpu-v2",
   "language": "python",
   "name": "python3"
  },
  "language_info": {
   "codemirror_mode": {
    "name": "ipython",
    "version": 3
   },
   "file_extension": ".py",
   "mimetype": "text/x-python",
   "name": "python",
   "nbconvert_exporter": "python",
   "pygments_lexer": "ipython3",
   "version": "3.9.13"
  }
 },
 "nbformat": 4,
 "nbformat_minor": 2
}
