{
 "cells": [
  {
   "cell_type": "markdown",
   "metadata": {},
   "source": [
    "# Loading CDRPY Datasets\n",
    "\n",
    "The `Dataset` class standardizes how cancer drug response datasets are represented in cdrpy.\n",
    "\n",
    "In this tutorial, we will walk through a simple example of loading and exploring a custom dataset using cdrpy."
   ]
  },
  {
   "cell_type": "markdown",
   "metadata": {},
   "source": [
    "## Creating a Dataset"
   ]
  },
  {
   "cell_type": "code",
   "execution_count": 11,
   "metadata": {},
   "outputs": [],
   "source": [
    "import itertools\n",
    "\n",
    "import numpy as np\n",
    "import pandas as pd\n",
    "\n",
    "from pathlib import Path"
   ]
  },
  {
   "cell_type": "markdown",
   "metadata": {},
   "source": [
    "The `Dataset` class is available in the `data` module of cdrpy."
   ]
  },
  {
   "cell_type": "code",
   "execution_count": 12,
   "metadata": {},
   "outputs": [],
   "source": [
    "from cdrpy.data import Dataset"
   ]
  },
  {
   "cell_type": "markdown",
   "metadata": {},
   "source": [
    "The only requirement for creating a cdrpy dataset is a `pandas.DataFrame` instance containing drug response observations. This DataFrame must contain the following four columns:\n",
    "\n",
    "1. *id* - the drug response ID (unique to each combination of sample and drug)\n",
    "2. *cell_id* - the unique identifier for the corresponding sample (e.g., cell line)\n",
    "3. *drug_id* - the unique identifier for the corresponding drug/treatment\n",
    "4. *label* - the observed drug response value (e.g., an IC50 value)\n",
    "\n",
    "As an example, we will generate some synthetic drug response data and create a new `Dataset`."
   ]
  },
  {
   "cell_type": "code",
   "execution_count": 13,
   "metadata": {},
   "outputs": [
    {
     "data": {
      "text/html": [
       "<div>\n",
       "<style scoped>\n",
       "    .dataframe tbody tr th:only-of-type {\n",
       "        vertical-align: middle;\n",
       "    }\n",
       "\n",
       "    .dataframe tbody tr th {\n",
       "        vertical-align: top;\n",
       "    }\n",
       "\n",
       "    .dataframe thead th {\n",
       "        text-align: right;\n",
       "    }\n",
       "</style>\n",
       "<table border=\"1\" class=\"dataframe\">\n",
       "  <thead>\n",
       "    <tr style=\"text-align: right;\">\n",
       "      <th></th>\n",
       "      <th>id</th>\n",
       "      <th>cell_id</th>\n",
       "      <th>drug_id</th>\n",
       "      <th>label</th>\n",
       "    </tr>\n",
       "  </thead>\n",
       "  <tbody>\n",
       "    <tr>\n",
       "      <th>0</th>\n",
       "      <td>0</td>\n",
       "      <td>C1</td>\n",
       "      <td>D1</td>\n",
       "      <td>-0.291930</td>\n",
       "    </tr>\n",
       "    <tr>\n",
       "      <th>1</th>\n",
       "      <td>1</td>\n",
       "      <td>C1</td>\n",
       "      <td>D2</td>\n",
       "      <td>-2.285385</td>\n",
       "    </tr>\n",
       "    <tr>\n",
       "      <th>2</th>\n",
       "      <td>2</td>\n",
       "      <td>C1</td>\n",
       "      <td>D3</td>\n",
       "      <td>0.576527</td>\n",
       "    </tr>\n",
       "    <tr>\n",
       "      <th>3</th>\n",
       "      <td>3</td>\n",
       "      <td>C1</td>\n",
       "      <td>D4</td>\n",
       "      <td>-0.126431</td>\n",
       "    </tr>\n",
       "    <tr>\n",
       "      <th>4</th>\n",
       "      <td>4</td>\n",
       "      <td>C1</td>\n",
       "      <td>D5</td>\n",
       "      <td>1.501209</td>\n",
       "    </tr>\n",
       "  </tbody>\n",
       "</table>\n",
       "</div>"
      ],
      "text/plain": [
       "   id cell_id drug_id     label\n",
       "0   0      C1      D1 -0.291930\n",
       "1   1      C1      D2 -2.285385\n",
       "2   2      C1      D3  0.576527\n",
       "3   3      C1      D4 -0.126431\n",
       "4   4      C1      D5  1.501209"
      ]
     },
     "execution_count": 13,
     "metadata": {},
     "output_type": "execute_result"
    }
   ],
   "source": [
    "def simulate_response_data(n_drugs: int, n_cells: int) -> pd.DataFrame:\n",
    "    \"\"\"Generates simulated drug response observations.\"\"\"\n",
    "    n_responses = n_cells * n_drugs\n",
    "\n",
    "    cell_ids = [f\"C{i+1}\" for i in range(n_cells)]\n",
    "    drug_ids = [f\"D{i+1}\" for i in range(n_drugs)]\n",
    "\n",
    "    pairs = zip(*itertools.product(cell_ids, drug_ids))\n",
    "    data = zip(range(n_responses), *pairs, np.random.normal(size=n_responses))\n",
    "\n",
    "    return pd.DataFrame(data, columns=[\"id\", \"cell_id\", \"drug_id\", \"label\"])\n",
    "\n",
    "\n",
    "response_data = simulate_response_data(n_drugs=10, n_cells=20)\n",
    "response_data.head()"
   ]
  },
  {
   "cell_type": "code",
   "execution_count": 14,
   "metadata": {},
   "outputs": [
    {
     "name": "stdout",
     "output_type": "stream",
     "text": [
      "Dataset(name=sim-dataset, size=200, n_cells=20, n_drugs=10)\n"
     ]
    }
   ],
   "source": [
    "D = Dataset(response_data, name=\"sim-dataset\")\n",
    "print(D)"
   ]
  },
  {
   "cell_type": "markdown",
   "metadata": {},
   "source": [
    "## Subsetting and selection\n",
    "\n",
    "cdrpy provides an intuitive interface for subsetting/selecting cancer drug response data. Specific cell lines/samples can be selected using the `Dataset.select_cells` method."
   ]
  },
  {
   "cell_type": "code",
   "execution_count": 15,
   "metadata": {},
   "outputs": [
    {
     "data": {
      "text/plain": [
       "Dataset(name=None, size=30, n_cells=3, n_drugs=10)"
      ]
     },
     "execution_count": 15,
     "metadata": {},
     "output_type": "execute_result"
    }
   ],
   "source": [
    "cell_ids = [\"C1\", \"C2\", \"C3\"]\n",
    "D.select_cells(cell_ids)"
   ]
  },
  {
   "cell_type": "markdown",
   "metadata": {},
   "source": [
    "Specific drugs can be selected using the `Dataset.select_drugs` method."
   ]
  },
  {
   "cell_type": "code",
   "execution_count": 16,
   "metadata": {},
   "outputs": [
    {
     "data": {
      "text/plain": [
       "Dataset(name=None, size=60, n_cells=20, n_drugs=3)"
      ]
     },
     "execution_count": 16,
     "metadata": {},
     "output_type": "execute_result"
    }
   ],
   "source": [
    "drug_ids = [\"D1\", \"D2\", \"D3\"]\n",
    "D.select_drugs(drug_ids)"
   ]
  },
  {
   "cell_type": "markdown",
   "metadata": {},
   "source": [
    "## Loading data from CSV files\n",
    "\n",
    "In many cases, raw response data may be stored as csv files. cdrpy can load csv files"
   ]
  }
 ],
 "metadata": {
  "kernelspec": {
   "display_name": "cdrpy-tf-cpu-v2",
   "language": "python",
   "name": "python3"
  },
  "language_info": {
   "codemirror_mode": {
    "name": "ipython",
    "version": 3
   },
   "file_extension": ".py",
   "mimetype": "text/x-python",
   "name": "python",
   "nbconvert_exporter": "python",
   "pygments_lexer": "ipython3",
   "version": "3.9.13"
  }
 },
 "nbformat": 4,
 "nbformat_minor": 2
}
