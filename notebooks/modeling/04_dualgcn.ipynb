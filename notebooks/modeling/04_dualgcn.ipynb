{
 "cells": [
  {
   "cell_type": "markdown",
   "metadata": {},
   "source": [
    "# DualGCN Modeling Sandbox\n",
    "\n",
    "## TODO\n",
    "\n",
    "- [ ] Replace the preprocessing functions with tensorflow ops\n",
    "  - [ ] Use tf.RaggedTensor for the lists of variable length\n",
    "  - [ ] Apply the ops to the tf.RaggedTensor\n",
    "- [ ] Decide if I should just spin up an instance for these other models\n",
    "- [ ] For parsing results, read the config and sources from the hydra conf output"
   ]
  },
  {
   "cell_type": "code",
   "execution_count": null,
   "metadata": {},
   "outputs": [],
   "source": [
    "from __future__ import annotations\n",
    "\n",
    "import typing as t\n",
    "\n",
    "import numpy as np\n",
    "import pandas as pd\n",
    "import tensorflow as tf\n",
    "\n",
    "from pathlib import Path\n",
    "from tensorflow import keras\n",
    "\n",
    "from cdrpy.models import dualgcn\n",
    "from cdrpy.metrics import tf_metrics\n",
    "from cdrpy.data.datasets import Dataset, EncodedDataset\n",
    "from cdrpy.splits import load_splits"
   ]
  },
  {
   "cell_type": "code",
   "execution_count": null,
   "metadata": {},
   "outputs": [],
   "source": [
    "DegList = list[np.int32]\n",
    "AdjList = list[list[int]]\n",
    "DrugInput = t.Tuple[np.ndarray, DegList, AdjList]"
   ]
  },
  {
   "cell_type": "code",
   "execution_count": null,
   "metadata": {},
   "outputs": [],
   "source": [
    "cpu_device = tf.config.experimental.list_physical_devices(\"CPU\")[0]\n",
    "with tf.device(\"CPU:0\"):\n",
    "    print(cpu_device.name)\n",
    "\n"
   ]
  },
  {
   "cell_type": "code",
   "execution_count": null,
   "metadata": {},
   "outputs": [],
   "source": [
    "data_folder = Path(\"../../data/inputs/GDSCv2DepMap\")\n",
    "dgcn_folder = data_folder / \"DualGCN\"\n",
    "split_folder = Path(data_folder / \"splits/tumor_blind\")\n",
    "\n",
    "drug_path = data_folder / \"DrugToConvMolFeatures.pickle\"\n",
    "ppi_path = dgcn_folder / \"MetadataPPIEdgeList.csv\"\n",
    "cnv_path = (\n",
    "    dgcn_folder / \"FeatureCellToCopyNumber689DualGCNGenesCNRatioLogp1.csv\"\n",
    ")\n",
    "exp_path = dgcn_folder / \"FeatureCellToExpression689DualGCNGenesTPMLogp1.csv\"\n",
    "label_path = data_folder / \"LabelsLogIC50.csv\""
   ]
  },
  {
   "cell_type": "code",
   "execution_count": null,
   "metadata": {},
   "outputs": [],
   "source": [
    "drug_feat_encoder, drug_adj_encoder = dualgcn.load_drug_features(drug_path)\n",
    "cell_feat_encoder, cell_adj_encoder = dualgcn.load_cell_features(\n",
    "    exp_path, cnv_path, ppi_path\n",
    ")\n",
    "\n",
    "encoders = {\n",
    "    \"cell_encoders\": [cell_feat_encoder, cell_adj_encoder],\n",
    "    \"drug_encoders\": [drug_feat_encoder, drug_adj_encoder],\n",
    "}\n",
    "\n",
    "ds = Dataset.from_csv(label_path, name=\"gdsc_v2_depmap\")\n",
    "split = list(load_splits(split_folder))[0]\n",
    "\n",
    "train_ds = ds.select(split.train_ids, name=\"train\")\n",
    "val_ds = ds.select(split.val_ids, name=\"val\")\n",
    "test_ds = ds.select(split.test_ids, name=\"test\")"
   ]
  },
  {
   "cell_type": "code",
   "execution_count": null,
   "metadata": {},
   "outputs": [],
   "source": [
    "cell_feat_norm = keras.layers.Normalization(axis=(1, 2))\n",
    "cell_feat_norm.adapt(np.array(cell_feat_encoder.encode(train_ds.cell_ids)))\n",
    "\n",
    "cell_dim = cell_feat_encoder.shape[-1]\n",
    "drug_dim = drug_feat_encoder.shape[-1]\n",
    "\n",
    "model = dualgcn.create_model(cell_dim, drug_dim, cell_feat_norm)\n",
    "model.compile(\n",
    "    optimizer=keras.optimizers.Adam(\n",
    "        learning_rate=0.001,\n",
    "        epsilon=None,\n",
    "        decay=0.0,\n",
    "        amsgrad=False,\n",
    "    ),\n",
    "    loss=\"mean_squared_error\",\n",
    "    metrics=[\"mse\", tf_metrics.pearson],\n",
    ")"
   ]
  },
  {
   "cell_type": "code",
   "execution_count": null,
   "metadata": {},
   "outputs": [],
   "source": []
  },
  {
   "cell_type": "code",
   "execution_count": null,
   "metadata": {},
   "outputs": [],
   "source": [
    "samples = train_ds.obs[\"id\"].sample(n=1000)\n",
    "sample_ds = train_ds.select(samples, name=\"sample\")\n",
    "sample_ds"
   ]
  },
  {
   "cell_type": "code",
   "execution_count": null,
   "metadata": {},
   "outputs": [],
   "source": [
    "hx = model.fit(\n",
    "    sample_ds.encode_tf(**encoders).shuffle(10000).batch(32), epochs=1\n",
    ")"
   ]
  },
  {
   "cell_type": "code",
   "execution_count": null,
   "metadata": {},
   "outputs": [],
   "source": [
    "model.inputs"
   ]
  },
  {
   "cell_type": "code",
   "execution_count": null,
   "metadata": {},
   "outputs": [],
   "source": [
    "gen = sample_ds.encode_batches(**encoders, batch_size=32, return_ids=True)\n",
    "x, y, cell_ids, drug_ids = list(gen)[0]"
   ]
  },
  {
   "cell_type": "code",
   "execution_count": null,
   "metadata": {},
   "outputs": [],
   "source": [
    "x_arr = [np.array(f) for f in x]\n",
    "a = {0: 1, 1: 2}\n",
    "{\"a\":1, **a}"
   ]
  },
  {
   "cell_type": "code",
   "execution_count": null,
   "metadata": {},
   "outputs": [],
   "source": [
    "model.predict_on_batch(x_arr)"
   ]
  },
  {
   "cell_type": "code",
   "execution_count": null,
   "metadata": {},
   "outputs": [],
   "source": [
    "# exp_encoder = PandasEncoder.from_csv(exp_path, index_col=0, name=\"exp_encoder\")\n",
    "# ids = [\"SIDM00046\", \"SIDM00078\", \"SIDM00079\", \"SIDM00080\", \"SIDM00081\"]\n",
    "# temp = exp_encoder.encode_tf(ids)\n",
    "# temp"
   ]
  },
  {
   "cell_type": "code",
   "execution_count": null,
   "metadata": {},
   "outputs": [],
   "source": [
    "foo = {0: [1, 2, 3], 1: [1, 2, 3]}\n",
    "len(set(type(v) for v in foo.values())) == 1"
   ]
  },
  {
   "cell_type": "code",
   "execution_count": null,
   "metadata": {},
   "outputs": [],
   "source": [
    "ds = Dataset.from_csv(label_path, name=\"gdsc_v2_depmap\")\n",
    "split = list(load_splits(split_folder))[0]\n",
    "\n",
    "train_ds = ds.select(split.train_ids, name=\"train\")\n",
    "val_ds = ds.select(split.val_ids, name=\"val\")\n",
    "test_ds = ds.select(split.test_ids, name=\"test\")"
   ]
  },
  {
   "cell_type": "code",
   "execution_count": null,
   "metadata": {},
   "outputs": [],
   "source": [
    "drug_feat_encoder, drug_adj_encoder = load_drug_features(drug_path)\n",
    "cell_feat_encoder, cell_adj_encoder = load_cell_features(\n",
    "    exp_path, cnv_path, ppi_path\n",
    ")"
   ]
  },
  {
   "cell_type": "code",
   "execution_count": null,
   "metadata": {},
   "outputs": [],
   "source": [
    "encoders = {\n",
    "    \"cell_encoders\": [cell_feat_encoder, cell_adj_encoder],\n",
    "    \"drug_encoders\": [drug_feat_encoder, drug_adj_encoder],\n",
    "}\n",
    "\n",
    "temp = val_ds.encode_tf(**encoders)\n",
    "temp"
   ]
  },
  {
   "cell_type": "code",
   "execution_count": null,
   "metadata": {},
   "outputs": [],
   "source": [
    "temp_batch = temp.batch(32)\n",
    "for batch_features, batch_labels in temp_batch:\n",
    "    pass\n",
    "batch_features"
   ]
  },
  {
   "cell_type": "code",
   "execution_count": null,
   "metadata": {},
   "outputs": [],
   "source": []
  }
 ],
 "metadata": {
  "kernelspec": {
   "display_name": "cdrpy-tf-cpu",
   "language": "python",
   "name": "python3"
  },
  "language_info": {
   "codemirror_mode": {
    "name": "ipython",
    "version": 3
   },
   "file_extension": ".py",
   "mimetype": "text/x-python",
   "name": "python",
   "nbconvert_exporter": "python",
   "pygments_lexer": "ipython3",
   "version": "3.9.13"
  }
 },
 "nbformat": 4,
 "nbformat_minor": 2
}
