{
 "cells": [
  {
   "cell_type": "markdown",
   "metadata": {},
   "source": [
    "# DualGCN Modeling Sandbox\n",
    "\n",
    "## TODO\n",
    "\n",
    "- [ ] Replace the preprocessing functions with tensorflow ops\n",
    "  - [ ] Use tf.RaggedTensor for the lists of variable length\n",
    "  - [ ] Apply the ops to the tf.RaggedTensor\n",
    "- [ ] Decide if I should just spin up an instance for these other models\n",
    "- [ ] For parsing results, read the config and sources from the hydra conf output"
   ]
  },
  {
   "cell_type": "code",
   "execution_count": 1,
   "metadata": {},
   "outputs": [
    {
     "name": "stderr",
     "output_type": "stream",
     "text": [
      "2023-07-26 14:01:14.572269: I tensorflow/core/platform/cpu_feature_guard.cc:182] This TensorFlow binary is optimized to use available CPU instructions in performance-critical operations.\n",
      "To enable the following instructions: AVX2 AVX512F FMA, in other operations, rebuild TensorFlow with the appropriate compiler flags.\n",
      "2023-07-26 14:01:15.886158: W tensorflow/compiler/tf2tensorrt/utils/py_utils.cc:38] TF-TRT Warning: Could not find TensorRT\n"
     ]
    }
   ],
   "source": [
    "from __future__ import annotations\n",
    "\n",
    "import numpy as np\n",
    "import pandas as pd\n",
    "import tensorflow as tf\n",
    "\n",
    "from pathlib import Path\n",
    "from tensorflow import keras\n",
    "\n",
    "from cdrpy.models import dualgcn as dgcn\n",
    "from cdrpy.data.datasets import Dataset, get_predictions\n",
    "from cdrpy.data.preprocess import normalize_responses\n",
    "from cdrpy.feat.transformers import PandasGroupedStandardScaler\n",
    "from cdrpy.splits import load_splits"
   ]
  },
  {
   "cell_type": "code",
   "execution_count": 2,
   "metadata": {},
   "outputs": [],
   "source": [
    "data_folder = Path(\"../../data/inputs/GDSCv2DepMap\")\n",
    "dgcn_folder = data_folder / \"DualGCN\"\n",
    "split_folder = Path(data_folder / \"splits/tumor_blind\")\n",
    "\n",
    "drug_path = data_folder / \"DrugToConvMolFeatures.pickle\"\n",
    "ppi_path = dgcn_folder / \"MetadataPPIEdgeList.csv\"\n",
    "cnv_path = (\n",
    "    dgcn_folder / \"FeatureCellToCopyNumber689DualGCNGenesCNRatioLogp1.csv\"\n",
    ")\n",
    "exp_path = dgcn_folder / \"FeatureCellToExpression689DualGCNGenesTPMLogp1.csv\"\n",
    "label_path = data_folder / \"LabelsLogIC50.csv\""
   ]
  },
  {
   "cell_type": "code",
   "execution_count": 3,
   "metadata": {},
   "outputs": [],
   "source": [
    "drug_feat_encoder, drug_adj_encoder = dgcn.load_drug_features(drug_path)\n",
    "cell_feat_encoder, cell_adj_encoder = dgcn.load_cell_features(\n",
    "    exp_path, cnv_path, ppi_path\n",
    ")\n",
    "\n",
    "encoders = {\n",
    "    \"cell_encoders\": [cell_feat_encoder, cell_adj_encoder],\n",
    "    \"drug_encoders\": [drug_feat_encoder, drug_adj_encoder],\n",
    "}\n",
    "\n",
    "ds = Dataset.from_csv(label_path, name=\"gdsc_v2_depmap\")"
   ]
  },
  {
   "cell_type": "code",
   "execution_count": 4,
   "metadata": {},
   "outputs": [],
   "source": [
    "split = list(load_splits(split_folder))[0]\n",
    "\n",
    "train_ds = ds.select(split.train_ids, name=\"train\")\n",
    "val_ds = ds.select(split.val_ids, name=\"val\")\n",
    "test_ds = ds.select(split.test_ids, name=\"test\")\n",
    "\n",
    "# gss = PandasGroupedStandardScaler(\"label\", \"drug_id\")\n",
    "\n",
    "# train_ds.obs = gss.fit_transform(train_ds.obs)\n",
    "# val_ds.obs = gss.transform(val_ds.obs)\n",
    "# test_ds.obs = gss.transform(test_ds.obs)"
   ]
  },
  {
   "cell_type": "code",
   "execution_count": 7,
   "metadata": {},
   "outputs": [
    {
     "ename": "AttributeError",
     "evalue": "'RepeatEncoder' object has no attribute 'shape'",
     "output_type": "error",
     "traceback": [
      "\u001b[0;31m---------------------------------------------------------------------------\u001b[0m",
      "\u001b[0;31mAttributeError\u001b[0m                            Traceback (most recent call last)",
      "Cell \u001b[0;32mIn[7], line 1\u001b[0m\n\u001b[0;32m----> 1\u001b[0m encoders[\u001b[39m\"\u001b[39;49m\u001b[39mcell_encoders\u001b[39;49m\u001b[39m\"\u001b[39;49m][\u001b[39m1\u001b[39;49m]\u001b[39m.\u001b[39;49mshape\n",
      "\u001b[0;31mAttributeError\u001b[0m: 'RepeatEncoder' object has no attribute 'shape'"
     ]
    }
   ],
   "source": [
    "encoders[\"cell_encoders\"][1].shape"
   ]
  },
  {
   "cell_type": "code",
   "execution_count": 5,
   "metadata": {},
   "outputs": [
    {
     "data": {
      "text/plain": [
       "drug_id\n",
       "B(C(CC(C)C)NC(=O)C(CC1=CC=CC=C1)NC(=O)C2=NC=CN=C2)(O)O                              1.00\n",
       "C(C(C1C(=C(C(=O)O1)O)O)O)O                                                          0.77\n",
       "C(CC(=O)NC(CS)C(=O)NCC(=O)O)C(C(=O)O)N                                              0.78\n",
       "C1=C(C(=O)NC(=O)N1)F                                                                0.97\n",
       "C1=CC(=C(C=C1I)F)NC2=C(C=CC(=C2F)F)C(=O)NOCC(CO)O                                   0.91\n",
       "                                                                                    ... \n",
       "CS(=O)(=O)C1=CC(=C(C=C1)C(=O)NC2=CC(=C(C=C2)Cl)C3=CC=CC=N3)Cl                       0.99\n",
       "CS(=O)(=O)C1=CC=C(C=C1)C2=CN=C(C(=N2)C(=O)NC3=CC=CC=C3)N                            1.02\n",
       "CS(=O)(=O)CCNCC1=CC=C(O1)C2=CC3=C(C=C2)N=CN=C3NC4=CC(=C(C=C4)OCC5=CC(=CC=C5)F)Cl    0.84\n",
       "CS(=O)(=O)N1CCN(CC1)CC2=CC3=C(S2)C(=NC(=N3)C4=C5C=NNC5=CC=C4)N6CCOCC6               1.16\n",
       "N.N.Cl[Pt]Cl                                                                        0.93\n",
       "Name: label, Length: 232, dtype: float64"
      ]
     },
     "execution_count": 5,
     "metadata": {},
     "output_type": "execute_result"
    }
   ],
   "source": [
    "train_ds, val_ds, test_ds = normalize_responses(\n",
    "    train_ds,\n",
    "    val_ds,\n",
    "    test_ds,\n",
    "    \"grouped\",\n",
    "    value_col=\"label\",\n",
    "    group_col=\"drug_id\",\n",
    ")\n",
    "test_ds.obs.groupby(\"drug_id\")[\"label\"].std().round(2)"
   ]
  },
  {
   "cell_type": "code",
   "execution_count": null,
   "metadata": {},
   "outputs": [],
   "source": [
    "save_dir = \".\" if True else None\n",
    "save_dir"
   ]
  },
  {
   "cell_type": "code",
   "execution_count": null,
   "metadata": {},
   "outputs": [],
   "source": [
    "train_ds.obs[\"label\"].mean()"
   ]
  },
  {
   "cell_type": "code",
   "execution_count": null,
   "metadata": {},
   "outputs": [],
   "source": [
    "ss = StandardScaler()\n",
    "train_ds.obs[\"label\"] = ss.fit_transform(train_ds.obs[[\"label\"]])\n",
    "print(train_ds.obs[\"label\"].mean())\n",
    "print(train_ds.obs[\"label\"].std())"
   ]
  },
  {
   "cell_type": "code",
   "execution_count": null,
   "metadata": {},
   "outputs": [],
   "source": [
    "train_ds.obs.groupby(\"drug_id\")[\"label\"].std().round(3)"
   ]
  },
  {
   "cell_type": "code",
   "execution_count": null,
   "metadata": {},
   "outputs": [],
   "source": [
    "cell_feat_norm = keras.layers.Normalization(axis=(1, 2))\n",
    "cell_feat_norm.adapt(np.array(cell_feat_encoder.encode(train_ds.cell_ids)))\n",
    "\n",
    "cell_dim = cell_feat_encoder.shape[-1]\n",
    "drug_dim = drug_feat_encoder.shape[-1]\n",
    "\n",
    "model = dgcn.create_model(cell_dim, drug_dim, cell_feat_norm)\n",
    "model.compile(\n",
    "    optimizer=keras.optimizers.Adam(\n",
    "        learning_rate=0.001,\n",
    "        epsilon=None,\n",
    "        decay=0.0,\n",
    "        amsgrad=False,\n",
    "    ),\n",
    "    loss=\"mean_squared_error\",\n",
    "    # metrics=[\"mse\", tf_metrics.pearson],\n",
    ")"
   ]
  },
  {
   "cell_type": "code",
   "execution_count": null,
   "metadata": {},
   "outputs": [],
   "source": []
  },
  {
   "cell_type": "code",
   "execution_count": null,
   "metadata": {},
   "outputs": [],
   "source": [
    "samples = train_ds.obs[\"id\"].sample(n=1000)\n",
    "sample_ds = train_ds.select(samples, name=\"sample\")\n",
    "sample_ds"
   ]
  },
  {
   "cell_type": "code",
   "execution_count": null,
   "metadata": {},
   "outputs": [],
   "source": [
    "hx = model.fit(\n",
    "    sample_ds.encode_tf(**encoders).shuffle(10000).batch(32), epochs=1\n",
    ")"
   ]
  },
  {
   "cell_type": "code",
   "execution_count": null,
   "metadata": {},
   "outputs": [],
   "source": [
    "model.inputs"
   ]
  },
  {
   "cell_type": "code",
   "execution_count": null,
   "metadata": {},
   "outputs": [],
   "source": [
    "gen = sample_ds.encode_batches(**encoders, batch_size=32, return_ids=True)\n",
    "x, y, cell_ids, drug_ids = list(gen)[0]"
   ]
  },
  {
   "cell_type": "code",
   "execution_count": null,
   "metadata": {},
   "outputs": [],
   "source": [
    "x_arr = [np.array(f) for f in x]\n",
    "a = {0: 1, 1: 2}\n",
    "{\"a\":1, **a}"
   ]
  },
  {
   "cell_type": "code",
   "execution_count": null,
   "metadata": {},
   "outputs": [],
   "source": [
    "model.predict_on_batch(x_arr)"
   ]
  },
  {
   "cell_type": "code",
   "execution_count": null,
   "metadata": {},
   "outputs": [],
   "source": [
    "# exp_encoder = PandasEncoder.from_csv(exp_path, index_col=0, name=\"exp_encoder\")\n",
    "# ids = [\"SIDM00046\", \"SIDM00078\", \"SIDM00079\", \"SIDM00080\", \"SIDM00081\"]\n",
    "# temp = exp_encoder.encode_tf(ids)\n",
    "# temp"
   ]
  },
  {
   "cell_type": "code",
   "execution_count": null,
   "metadata": {},
   "outputs": [],
   "source": [
    "foo = {0: [1, 2, 3], 1: [1, 2, 3]}\n",
    "len(set(type(v) for v in foo.values())) == 1"
   ]
  },
  {
   "cell_type": "code",
   "execution_count": null,
   "metadata": {},
   "outputs": [],
   "source": [
    "ds = Dataset.from_csv(label_path, name=\"gdsc_v2_depmap\")\n",
    "split = list(load_splits(split_folder))[0]\n",
    "\n",
    "train_ds = ds.select(split.train_ids, name=\"train\")\n",
    "val_ds = ds.select(split.val_ids, name=\"val\")\n",
    "test_ds = ds.select(split.test_ids, name=\"test\")"
   ]
  },
  {
   "cell_type": "code",
   "execution_count": null,
   "metadata": {},
   "outputs": [],
   "source": [
    "drug_feat_encoder, drug_adj_encoder = load_drug_features(drug_path)\n",
    "cell_feat_encoder, cell_adj_encoder = load_cell_features(\n",
    "    exp_path, cnv_path, ppi_path\n",
    ")"
   ]
  },
  {
   "cell_type": "code",
   "execution_count": null,
   "metadata": {},
   "outputs": [],
   "source": [
    "encoders = {\n",
    "    \"cell_encoders\": [cell_feat_encoder, cell_adj_encoder],\n",
    "    \"drug_encoders\": [drug_feat_encoder, drug_adj_encoder],\n",
    "}\n",
    "\n",
    "temp = val_ds.encode_tf(**encoders)\n",
    "temp"
   ]
  },
  {
   "cell_type": "code",
   "execution_count": null,
   "metadata": {},
   "outputs": [],
   "source": [
    "temp_batch = temp.batch(32)\n",
    "for batch_features, batch_labels in temp_batch:\n",
    "    pass\n",
    "batch_features"
   ]
  },
  {
   "cell_type": "code",
   "execution_count": null,
   "metadata": {},
   "outputs": [],
   "source": []
  }
 ],
 "metadata": {
  "kernelspec": {
   "display_name": "cdrpy-tf-cpu",
   "language": "python",
   "name": "python3"
  },
  "language_info": {
   "codemirror_mode": {
    "name": "ipython",
    "version": 3
   },
   "file_extension": ".py",
   "mimetype": "text/x-python",
   "name": "python",
   "nbconvert_exporter": "python",
   "pygments_lexer": "ipython3",
   "version": "3.9.13"
  }
 },
 "nbformat": 4,
 "nbformat_minor": 2
}
