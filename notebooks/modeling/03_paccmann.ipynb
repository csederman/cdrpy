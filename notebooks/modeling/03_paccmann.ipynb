{
 "cells": [
  {
   "attachments": {},
   "cell_type": "markdown",
   "metadata": {},
   "source": [
    "# PaccMann modeling sandbox"
   ]
  },
  {
   "cell_type": "code",
   "execution_count": null,
   "metadata": {},
   "outputs": [],
   "source": [
    "from __future__ import annotations\n",
    "\n",
    "import tensorflow as tf\n",
    "\n",
    "from tensorflow import keras\n",
    "\n",
    "from cdrpy.data import datasets\n",
    "from cdrpy.splits import Split\n",
    "from cdrpy.layers import util as layer_utils"
   ]
  },
  {
   "cell_type": "code",
   "execution_count": null,
   "metadata": {},
   "outputs": [],
   "source": [
    "smiles_length = 100\n",
    "smiles_vocab = None\n",
    "smiles_embedding_size = 100\n",
    "filter = []\n",
    "\n",
    "x = keras.Input(shape=(smiles_length,), name=\"input_smiles\")\n",
    "x = layer_utils.Embedding()(x)\n",
    "x = layer_utils.ExpandDim(axis=3)(x)\n"
   ]
  },
  {
   "cell_type": "code",
   "execution_count": null,
   "metadata": {},
   "outputs": [],
   "source": [
    "input_zeros = keras.Input(shape=(1,), name=\"input_zeros\")\n",
    "pad = layer_utils.Embedding(smiles_vocab, smiles_embedding_size)(input_zeros)\n",
    "pad = layer_utils.ExpandDim(axis=3)(pad)\n",
    "\n",
    "convolved_smiles = []\n",
    "for index, (filter_size, kernel_size) in enumerate(zip(params[\"filter\"], params[\"kernels\"])):\n",
    "    smiles_pad = keras.layers.concatenate([pad]*(kernel_size[0] // 2) + [smiles_expand] + [pad]*(kernel_size[0] // 2), axis=1)\n",
    "\n",
    "    conv_smiles = keras.layers.Conv2D(filters=filter_size, kernel_size=kernel_size, activation=tf.nn.relu) (smiles_pad)\n",
    "    conv_smiles = SqueezeLayer(axis=2) (conv_smiles)\n",
    "    conv_smiles = keras.layers.Dropout(rate=params[\"dropout\"]) (conv_smiles)\n",
    "    convolved_smiles.append(keras.layers.BatchNormalization() (conv_smiles))\n",
    "\n",
    "convolved_smiles.insert(0, embedding_smiles)\n",
    "\n",
    "input_genes = keras.Input(shape=(params[\"genes_number\"],), name=\"input_genes\")\n",
    "encoded_genes = [DenseAttentionLayer(params[\"genes_number\"])(input_genes) for i in range(len(params[\"multiheads\"]))]\n",
    "\n",
    "encoding_coefficients = [ContextualAttentionLayer(\n",
    "                            attention_size=params[\"smiles_attention_size\"], \n",
    "                            hidden_size=convolved_smiles[layer].shape[2],\n",
    "                            num_genes=params[\"genes_number\"]) ([encoded_genes[layer], convolved_smiles[layer]])\n",
    "                        for layer in range(len(convolved_smiles)) for _ in range(params[\"multiheads\"][layer])]\n",
    "\n",
    "encoding = keras.layers.concatenate(encoding_coefficients, axis=1)\n",
    "encoding = keras.layers.Reshape((params[\"smiles_embedding_size\"] * params[\"multiheads\"][0] + sum([a*b for a,b in zip(params[\"multiheads\"][1:], params[\"filter\"])]),)) (encoding)\n",
    "\n",
    "x = keras.layers.BatchNormalization() (encoding) \n",
    "\n",
    "for index, size in enumerate(params[\"stacked_dense_hidden_sizes\"]):\n",
    "    x = keras.layers.Dense(size, activation=None) (x)\n",
    "    x = keras.layers.BatchNormalization() (x) \n",
    "    x = keras.layers.ReLU() (x)\n",
    "    x = keras.layers.Dropout(rate=params[\"dropout\"]) (x) \n",
    "\n",
    "output = keras.layers.Dense(1) (x)\n",
    "\n",
    "model = keras.Model(inputs=[input_smiles, input_zeros, input_genes], outputs=output)\n",
    "opt = tf.keras.optimizers.Adam()#learning_rate=learning_rate)\n",
    "loss = tf.keras.losses.MeanSquaredError()\n",
    "model.compile(optimizer = opt, loss = loss, \n",
    "            metrics=[\"mse\"])"
   ]
  }
 ],
 "metadata": {
  "kernelspec": {
   "display_name": "cdrpy-tf-cpu",
   "language": "python",
   "name": "python3"
  },
  "language_info": {
   "codemirror_mode": {
    "name": "ipython",
    "version": 3
   },
   "file_extension": ".py",
   "mimetype": "text/x-python",
   "name": "python",
   "nbconvert_exporter": "python",
   "pygments_lexer": "ipython3",
   "version": "3.9.13"
  }
 },
 "nbformat": 4,
 "nbformat_minor": 2
}
