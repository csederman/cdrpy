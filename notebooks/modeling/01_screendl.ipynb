{
 "cells": [
  {
   "cell_type": "markdown",
   "metadata": {},
   "source": [
    "# ScreenDL Modeling Sandbox"
   ]
  },
  {
   "cell_type": "code",
   "execution_count": null,
   "metadata": {},
   "outputs": [],
   "source": [
    "from __future__ import annotations\n",
    "\n",
    "import functools\n",
    "\n",
    "import numpy as np\n",
    "import pandas as pd\n",
    "import tensorflow as tf\n",
    "import typing as t\n",
    "\n",
    "from pathlib import Path\n",
    "from tensorflow import keras\n",
    "\n",
    "from cdrpy.models import screendl\n",
    "from cdrpy.data.datasets import Dataset, get_predictions\n",
    "from cdrpy.data.preprocess import normalize_responses\n",
    "from cdrpy.splits import load_split"
   ]
  },
  {
   "cell_type": "code",
   "execution_count": null,
   "metadata": {},
   "outputs": [],
   "source": [
    "input_dir = Path(\"../../data/inputs/GDSCv2DepMap\")\n",
    "exp_path = (\n",
    "    input_dir / \"ScreenDL/FeatureCellToExpression1771MCGGenesTPMLogp1.csv\"\n",
    ")\n",
    "mol_path = input_dir / \"DrugToMorganFingerprint1024Bit.csv\"\n",
    "label_path = input_dir / \"LabelsLogIC50.csv\"\n",
    "split_path = input_dir / \"splits/mixed\"\n",
    "\n",
    "cell_enc = screendl.load_cell_features(exp_path)\n",
    "drug_enc = screendl.load_drug_features(mol_path)\n",
    "\n",
    "dataset = Dataset.from_csv(\n",
    "    label_path,\n",
    "    name=\"GDSCv2DepMap\",\n",
    "    cell_encoders=[cell_enc],\n",
    "    drug_encoders=[drug_enc],\n",
    ")\n",
    "\n",
    "split = load_split(split_path, 1)\n",
    "\n",
    "train_ds = dataset.select(split.train_ids, name=\"train\")\n",
    "val_ds = dataset.select(split.val_ids, name=\"val\")\n",
    "test_ds = dataset.select(split.test_ids, name=\"test\")\n",
    "\n",
    "mini_ds = test_ds.sample(1000)"
   ]
  },
  {
   "cell_type": "code",
   "execution_count": null,
   "metadata": {},
   "outputs": [],
   "source": [
    "test_ds.encode_tf_v2().shuffle(10000).batch(32)"
   ]
  },
  {
   "cell_type": "code",
   "execution_count": null,
   "metadata": {},
   "outputs": [],
   "source": [
    "# I will need to encode the tensor shapes here somehow\n",
    "\n",
    "encoders = [cell_enc, drug_enc]\n",
    "get_tspec = lambda e: tf.TensorSpec(e.shape, tf.as_dtype(e.dtype), e.name)\n",
    "\n",
    "# encoders = [cell_enc, drug_enc]\n",
    "# # output_sig = ((tf.TensorSpec(shape=e.shape) for e in encoders), tf.TensorSpec()\n",
    "\n",
    "ds = tf.data.Dataset.from_generator(\n",
    "    mini_ds.encode_generator,\n",
    "    output_signature=(\n",
    "        tuple((get_tspec(e) for e in encoders)),\n",
    "        tf.TensorSpec(shape=(), dtype=tf.float32, name=\"label\"),\n",
    "    ),\n",
    ")\n",
    "\n",
    "for item in ds.take(1):\n",
    "    print(item)\n"
   ]
  },
  {
   "cell_type": "code",
   "execution_count": null,
   "metadata": {},
   "outputs": [],
   "source": [
    "def gen():\n",
    "    for index, row in test_ds.obs.iterrows():\n",
    "        cell_ids = [row[\"cell_id\"]]\n",
    "        drug_ids = [row[\"drug_id\"]]\n",
    "\n",
    "        cell_feat = [e.encode(cell_ids)[0] for e in [cell_enc]]\n",
    "        drug_feat = [e.encode(drug_ids)[0] for e in [drug_enc]]\n",
    "        features = tuple(cell_feat + drug_feat)\n",
    "\n",
    "        yield (features, row[\"label\"])"
   ]
  },
  {
   "cell_type": "code",
   "execution_count": null,
   "metadata": {},
   "outputs": [],
   "source": [
    "# NOTE: add a .get method to the encoders for getting a single value"
   ]
  },
  {
   "cell_type": "code",
   "execution_count": null,
   "metadata": {},
   "outputs": [],
   "source": [
    "\n",
    "\n",
    "# Now, I just need to encode as a generator\n",
    "\n",
    "mini_ds_tf = tf.data.Dataset.from_generator(\n",
    "    gen,\n",
    "    output_signature=(\n",
    "        (\n",
    "            (\n",
    "                tf.TensorSpec(shape=(1771,), dtype=tf.float32),\n",
    "                tf.TensorSpec(shape=(1024,), dtype=tf.int32),\n",
    "            ),\n",
    "            tf.TensorSpec(shape=(), dtype=tf.float32),\n",
    "        )\n",
    "    ),\n",
    ")\n",
    "for item in mini_ds_tf.take(1):\n",
    "    print(item)"
   ]
  },
  {
   "cell_type": "code",
   "execution_count": null,
   "metadata": {},
   "outputs": [],
   "source": [
    "gen = list(test_ds.encode_batches(32, as_numpy=True))\n",
    "gen[0][0][0].shape"
   ]
  },
  {
   "cell_type": "code",
   "execution_count": null,
   "metadata": {},
   "outputs": [],
   "source": [
    "mini_ds.obs"
   ]
  },
  {
   "cell_type": "code",
   "execution_count": null,
   "metadata": {},
   "outputs": [],
   "source": [
    "split_inds = np.arange(32, 1000, 32)\n",
    "np.array_split(mini_ds.obs, split_inds)[0]"
   ]
  },
  {
   "cell_type": "code",
   "execution_count": null,
   "metadata": {},
   "outputs": [],
   "source": [
    "\n",
    "\n",
    "temp_path = \"https://raw.githubusercontent.com/JDACS4C-IMPROVE/DeepCDR/develop/data/CCLE/genomic_expression_561celllines_697genes_demap_features.csv\"\n",
    "temp = pd.read_csv(temp_path, index_col=0)\n",
    "temp.head()"
   ]
  },
  {
   "cell_type": "code",
   "execution_count": null,
   "metadata": {},
   "outputs": [],
   "source": [
    "from sklearn.preprocessing import QuantileTransformer\n",
    "\n",
    "temp[:] = QuantileTransformer(output_distribution=\"normal\").fit_transform(temp)\n",
    "temp"
   ]
  }
 ],
 "metadata": {
  "kernelspec": {
   "display_name": "cdrpy-tf-cpu-v2",
   "language": "python",
   "name": "python3"
  },
  "language_info": {
   "codemirror_mode": {
    "name": "ipython",
    "version": 3
   },
   "file_extension": ".py",
   "mimetype": "text/x-python",
   "name": "python",
   "nbconvert_exporter": "python",
   "pygments_lexer": "ipython3",
   "version": "3.9.13"
  }
 },
 "nbformat": 4,
 "nbformat_minor": 2
}
