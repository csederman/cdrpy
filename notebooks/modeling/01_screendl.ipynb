{
 "cells": [
  {
   "cell_type": "markdown",
   "metadata": {},
   "source": [
    "# ScreenDL Modeling Sandbox"
   ]
  },
  {
   "cell_type": "code",
   "execution_count": 1,
   "metadata": {},
   "outputs": [
    {
     "name": "stderr",
     "output_type": "stream",
     "text": [
      "2023-07-26 13:53:31.991080: I tensorflow/core/platform/cpu_feature_guard.cc:182] This TensorFlow binary is optimized to use available CPU instructions in performance-critical operations.\n",
      "To enable the following instructions: AVX2 AVX512F FMA, in other operations, rebuild TensorFlow with the appropriate compiler flags.\n",
      "2023-07-26 13:53:33.459840: W tensorflow/compiler/tf2tensorrt/utils/py_utils.cc:38] TF-TRT Warning: Could not find TensorRT\n"
     ]
    }
   ],
   "source": [
    "from __future__ import annotations\n",
    "\n",
    "import functools\n",
    "\n",
    "import numpy as np\n",
    "import pandas as pd\n",
    "import tensorflow as tf\n",
    "import typing as t\n",
    "\n",
    "from pathlib import Path\n",
    "from tensorflow import keras\n",
    "\n",
    "from cdrpy.models import screendl\n",
    "from cdrpy.data.datasets import Dataset, get_predictions\n",
    "from cdrpy.data.preprocess import normalize_responses\n",
    "from cdrpy.splits import load_split"
   ]
  },
  {
   "cell_type": "code",
   "execution_count": 3,
   "metadata": {},
   "outputs": [],
   "source": [
    "input_dir = Path(\"../../data/inputs/GDSCv2DepMap\")\n",
    "exp_path = (\n",
    "    input_dir / \"ScreenDL/FeatureCellToExpression1771MCGGenesTPMLogp1.csv\"\n",
    ")\n",
    "mol_path = input_dir / \"DrugToMorganFingerprint1024Bit.csv\"\n",
    "label_path = input_dir / \"LabelsLogIC50.csv\"\n",
    "split_path = input_dir / \"splits/mixed\"\n",
    "\n",
    "cell_enc = screendl.load_cell_features(exp_path)\n",
    "drug_enc = screendl.load_drug_features(mol_path)\n",
    "\n",
    "dataset = Dataset.from_csv(\n",
    "    label_path,\n",
    "    name=\"GDSCv2DepMap\",\n",
    "    cell_encoders=[cell_enc],\n",
    "    drug_encoders=[drug_enc],\n",
    ")\n",
    "\n",
    "split = load_split(split_path, 1)\n",
    "\n",
    "train_ds = dataset.select(split.train_ids, name=\"train\")\n",
    "val_ds = dataset.select(split.val_ids, name=\"val\")\n",
    "test_ds = dataset.select(split.test_ids, name=\"test\")\n",
    "\n",
    "mini_ds = test_ds.sample(1000)"
   ]
  },
  {
   "cell_type": "code",
   "execution_count": 4,
   "metadata": {},
   "outputs": [
    {
     "name": "stderr",
     "output_type": "stream",
     "text": [
      "2023-07-26 13:54:15.260290: E tensorflow/compiler/xla/stream_executor/cuda/cuda_driver.cc:268] failed call to cuInit: CUDA_ERROR_NO_DEVICE: no CUDA-capable device is detected\n"
     ]
    },
    {
     "data": {
      "text/plain": [
       "<_ZipDataset element_spec=((TensorSpec(shape=(1771,), dtype=tf.float32, name=None), TensorSpec(shape=(1024,), dtype=tf.int32, name=None)), TensorSpec(shape=(), dtype=tf.float32, name=None))>"
      ]
     },
     "execution_count": 4,
     "metadata": {},
     "output_type": "execute_result"
    }
   ],
   "source": [
    "mini_ds.encode_tf()"
   ]
  },
  {
   "cell_type": "code",
   "execution_count": 9,
   "metadata": {},
   "outputs": [
    {
     "data": {
      "text/plain": [
       "<_FlatMapDataset element_spec=((TensorSpec(shape=(), dtype=tf.float32, name=None), TensorSpec(shape=(1024,), dtype=tf.int32, name=None)), TensorSpec(shape=(), dtype=tf.float32, name=None))>"
      ]
     },
     "execution_count": 9,
     "metadata": {},
     "output_type": "execute_result"
    }
   ],
   "source": [
    "# I will need to encode the tensor shapes here somehow\n",
    "\n",
    "tf.data.Dataset.from_generator(\n",
    "    mini_ds.encode_generator,\n",
    "    output_signature=(\n",
    "        (\n",
    "            (\n",
    "                tf.TensorSpec(shape=(1771,), dtype=tf.float32),\n",
    "                tf.TensorSpec(shape=(1024,), dtype=tf.int32),\n",
    "            ),\n",
    "            tf.TensorSpec(shape=(), dtype=tf.float32),\n",
    "        )\n",
    "    ),\n",
    ")\n",
    "\n"
   ]
  },
  {
   "cell_type": "code",
   "execution_count": 7,
   "metadata": {},
   "outputs": [
    {
     "data": {
      "text/plain": [
       "1771"
      ]
     },
     "execution_count": 7,
     "metadata": {},
     "output_type": "execute_result"
    }
   ],
   "source": [
    "cell_enc.shape[-1]"
   ]
  },
  {
   "cell_type": "code",
   "execution_count": 11,
   "metadata": {},
   "outputs": [],
   "source": [
    "def gen():\n",
    "    for index, row in test_ds.obs.iterrows():\n",
    "        cell_ids = [row[\"cell_id\"]]\n",
    "        drug_ids = [row[\"drug_id\"]]\n",
    "\n",
    "        cell_feat = [e.encode(cell_ids)[0] for e in [cell_enc]]\n",
    "        drug_feat = [e.encode(drug_ids)[0] for e in [drug_enc]]\n",
    "        features = tuple(cell_feat + drug_feat)\n",
    "\n",
    "        yield (features, row[\"label\"])"
   ]
  },
  {
   "cell_type": "code",
   "execution_count": null,
   "metadata": {},
   "outputs": [],
   "source": [
    "# NOTE: add a .get method to the encoders for getting a single value"
   ]
  },
  {
   "cell_type": "code",
   "execution_count": 14,
   "metadata": {},
   "outputs": [
    {
     "name": "stdout",
     "output_type": "stream",
     "text": [
      "((<tf.Tensor: shape=(1771,), dtype=float32, numpy=\n",
      "array([1.       , 0.5753123, 4.08151  , ..., 2.711495 , 0.9708536,\n",
      "       6.743623 ], dtype=float32)>, <tf.Tensor: shape=(1024,), dtype=int32, numpy=array([0, 0, 0, ..., 0, 0, 0], dtype=int32)>), <tf.Tensor: shape=(), dtype=float32, numpy=3.10755>)\n"
     ]
    }
   ],
   "source": [
    "\n",
    "\n",
    "# Now, I just need to encode as a generator\n",
    "\n",
    "mini_ds_tf = tf.data.Dataset.from_generator(\n",
    "    gen,\n",
    "    output_signature=(\n",
    "        (\n",
    "            (\n",
    "                tf.TensorSpec(shape=(1771,), dtype=tf.float32),\n",
    "                tf.TensorSpec(shape=(1024,), dtype=tf.int32),\n",
    "            ),\n",
    "            tf.TensorSpec(shape=(), dtype=tf.float32),\n",
    "        )\n",
    "    ),\n",
    ")\n",
    "for item in mini_ds_tf.take(1):\n",
    "    print(item)"
   ]
  },
  {
   "cell_type": "code",
   "execution_count": null,
   "metadata": {},
   "outputs": [],
   "source": [
    "gen = list(test_ds.encode_batches(32, as_numpy=True))\n",
    "gen[0][0][0].shape"
   ]
  },
  {
   "cell_type": "code",
   "execution_count": null,
   "metadata": {},
   "outputs": [],
   "source": [
    "mini_ds.obs"
   ]
  },
  {
   "cell_type": "code",
   "execution_count": null,
   "metadata": {},
   "outputs": [],
   "source": [
    "split_inds = np.arange(32, 1000, 32)\n",
    "np.array_split(mini_ds.obs, split_inds)[0]"
   ]
  },
  {
   "cell_type": "code",
   "execution_count": null,
   "metadata": {},
   "outputs": [],
   "source": [
    "\n",
    "\n",
    "temp_path = \"https://raw.githubusercontent.com/JDACS4C-IMPROVE/DeepCDR/develop/data/CCLE/genomic_expression_561celllines_697genes_demap_features.csv\"\n",
    "temp = pd.read_csv(temp_path, index_col=0)\n",
    "temp.head()"
   ]
  },
  {
   "cell_type": "code",
   "execution_count": null,
   "metadata": {},
   "outputs": [],
   "source": [
    "from sklearn.preprocessing import QuantileTransformer\n",
    "\n",
    "temp[:] = QuantileTransformer(output_distribution=\"normal\").fit_transform(temp)\n",
    "temp"
   ]
  }
 ],
 "metadata": {
  "kernelspec": {
   "display_name": "cdrpy-tf-cpu-v2",
   "language": "python",
   "name": "python3"
  },
  "language_info": {
   "codemirror_mode": {
    "name": "ipython",
    "version": 3
   },
   "file_extension": ".py",
   "mimetype": "text/x-python",
   "name": "python",
   "nbconvert_exporter": "python",
   "pygments_lexer": "ipython3",
   "version": "3.9.13"
  }
 },
 "nbformat": 4,
 "nbformat_minor": 2
}
