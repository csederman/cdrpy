{
 "cells": [
  {
   "cell_type": "code",
   "execution_count": null,
   "metadata": {},
   "outputs": [],
   "source": [
    "from __future__ import annotations\n",
    "\n",
    "import numpy as np\n",
    "import pandas as pd\n",
    "import tensorflow as tf\n",
    "import typing as t\n",
    "\n",
    "from pathlib import Path\n",
    "from tensorflow import keras\n",
    "\n",
    "from cdrpy.models import deepcdr\n",
    "from cdrpy.data.datasets import Dataset, get_predictions\n",
    "from cdrpy.data.preprocess import normalize_responses\n",
    "from cdrpy.splits import load_split\n",
    "from cdrpy.metrics import tf_metrics"
   ]
  },
  {
   "cell_type": "code",
   "execution_count": null,
   "metadata": {},
   "outputs": [],
   "source": [
    "input_dir = Path(\"../../data/inputs/GDSCv2DepMap\")\n",
    "\n",
    "exp_path = input_dir / \"DeepCDR/FeatureCellToExpression717CGCGenesTPMLogp1.csv\"\n",
    "mut_path = input_dir / \"DeepCDR/FeatureCellToSomaticMutationsPositionEncoded716CGCGenesAll.csv\"\n",
    "mol_path = input_dir / \"DrugToConvMolFeatures.pickle\"\n",
    "\n",
    "label_path = input_dir / \"LabelsLogIC50.csv\"\n",
    "split_path = input_dir / \"splits/mixed\"\n",
    "\n",
    "cell_exp_enc, cell_mut_enc, _ = deepcdr.load_cell_features(exp_path, mut_path)\n",
    "drug_feat_enc, drug_adj_enc = deepcdr.load_drug_features(mol_path)"
   ]
  },
  {
   "cell_type": "code",
   "execution_count": null,
   "metadata": {},
   "outputs": [],
   "source": [
    "dataset = Dataset.from_csv(\n",
    "    label_path,\n",
    "    name=\"GDSCv2DepMap\",\n",
    "    cell_encoders=[cell_exp_enc, cell_mut_enc],\n",
    "    drug_encoders=[drug_feat_enc, drug_adj_enc],\n",
    ")\n",
    "\n",
    "split = load_split(split_path, 1)\n",
    "\n",
    "train_ds = dataset.select(split.train_ids, name=\"train\")\n",
    "val_ds = dataset.select(split.val_ids, name=\"val\")\n",
    "test_ds = dataset.select(split.test_ids, name=\"test\")\n",
    "\n",
    "train_ds, val_ds, test_ds = normalize_responses(\n",
    "    train_ds, val_ds, test_ds, norm_method=\"global\"\n",
    ")"
   ]
  },
  {
   "cell_type": "code",
   "execution_count": null,
   "metadata": {},
   "outputs": [],
   "source": [
    "exp_dim = cell_exp_enc.shape[-1]\n",
    "mut_dim = cell_mut_enc.shape[1]\n",
    "drug_dim = drug_feat_enc.shape[-1]\n",
    "\n",
    "model = deepcdr.create_model(exp_dim, mut_dim, drug_dim)"
   ]
  },
  {
   "cell_type": "code",
   "execution_count": null,
   "metadata": {},
   "outputs": [],
   "source": []
  },
  {
   "cell_type": "code",
   "execution_count": null,
   "metadata": {},
   "outputs": [],
   "source": [
    "cell_norm = keras.layers.Normalization()\n",
    "X = np.array(cell_exp_enc.encode(val_ds.cell_ids))\n",
    "cell_norm.adapt(X)"
   ]
  },
  {
   "cell_type": "code",
   "execution_count": null,
   "metadata": {},
   "outputs": [],
   "source": [
    "X.mean(axis=0)"
   ]
  },
  {
   "cell_type": "code",
   "execution_count": null,
   "metadata": {},
   "outputs": [],
   "source": [
    "cell_norm(X).numpy().std(axis=0).round(2)"
   ]
  },
  {
   "cell_type": "code",
   "execution_count": null,
   "metadata": {},
   "outputs": [],
   "source": [
    "mini_ds = train_ds.sample(1000).encode_tf().shuffle(100).batch(32)\n",
    "\n",
    "model.compile(\n",
    "    optimizer=keras.optimizers.Adam(learning_rate=0.001),\n",
    "    loss=\"mean_squared_error\",\n",
    "    metrics=[\"mse\", tf_metrics.pearson],\n",
    ")"
   ]
  },
  {
   "cell_type": "code",
   "execution_count": null,
   "metadata": {},
   "outputs": [],
   "source": [
    "model.fit(\n",
    "    mini_ds,\n",
    "    epochs=1,\n",
    "    # validation_data=val_tfds,\n",
    "    # callbacks=callbacks,\n",
    ")"
   ]
  },
  {
   "cell_type": "code",
   "execution_count": null,
   "metadata": {},
   "outputs": [],
   "source": []
  }
 ],
 "metadata": {
  "kernelspec": {
   "display_name": "cdrpy-tf-cpu-v2",
   "language": "python",
   "name": "python3"
  },
  "language_info": {
   "codemirror_mode": {
    "name": "ipython",
    "version": 3
   },
   "file_extension": ".py",
   "mimetype": "text/x-python",
   "name": "python",
   "nbconvert_exporter": "python",
   "pygments_lexer": "ipython3",
   "version": "3.9.13"
  }
 },
 "nbformat": 4,
 "nbformat_minor": 2
}
