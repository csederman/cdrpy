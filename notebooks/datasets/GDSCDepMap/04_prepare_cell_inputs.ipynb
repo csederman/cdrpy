{
 "cells": [
  {
   "attachments": {},
   "cell_type": "markdown",
   "metadata": {},
   "source": [
    "# Prepare Cell/Tumor Input Features"
   ]
  },
  {
   "cell_type": "code",
   "execution_count": null,
   "metadata": {},
   "outputs": [],
   "source": [
    "from __future__ import annotations\n",
    "\n",
    "import pickle\n",
    "\n",
    "import pandas as pd\n",
    "import networkx as nx\n",
    "import numpy as np\n",
    "import typing as t\n",
    "\n",
    "from pathlib import Path\n",
    "\n",
    "from cdrpy.util.io import read_list\n",
    "from cdrpy.util.io import read_gmt"
   ]
  },
  {
   "cell_type": "code",
   "execution_count": null,
   "metadata": {},
   "outputs": [],
   "source": [
    "dataset_folder = Path(\"../../../data/datasets/GDSCv2DepMap\")\n",
    "input_folder = Path(\"../../../data/inputs/GDSCv2DepMap\")\n",
    "genelist_folder =  Path(\"../../../data/genelists\")"
   ]
  },
  {
   "cell_type": "markdown",
   "metadata": {},
   "source": [
    "## Generate labels"
   ]
  },
  {
   "cell_type": "code",
   "execution_count": null,
   "metadata": {},
   "outputs": [],
   "source": [
    "screen_data = pd.read_csv(dataset_folder / \"ScreenDoseResponseLabels.csv\")\n",
    "\n",
    "# screen_data[[\"id\", \"cell_id\", \"drug_id\", \"ln_ic50\"]].rename(\n",
    "#     columns={\"ln_ic50\": \"label\"}\n",
    "# ).to_csv(input_folder / \"LabelsLogIC50.csv\", index=False)\n",
    "\n",
    "# screen_data[[\"id\", \"cell_id\", \"drug_id\", \"auc\"]].rename(\n",
    "#     columns={\"auc\": \"label\"}\n",
    "# ).to_csv(input_folder / \"LabelsAUC.csv\", index=False)"
   ]
  },
  {
   "cell_type": "code",
   "execution_count": null,
   "metadata": {},
   "outputs": [],
   "source": [
    "# load gene lists\n",
    "mcg_genes = pd.read_csv(genelist_folder / \"VermaatMiniCancerGenome.csv\")\n",
    "mcg_genes = set(mcg_genes[\"HGNC_SYMBOL\"].to_list())\n",
    "\n",
    "cgc_genes = pd.read_csv(genelist_folder / \"CancerGeneCensusFeb062023.csv\")\n",
    "cgc_genes = set(cgc_genes[\"Gene Symbol\"].to_list())\n",
    "\n",
    "lincs_genes = pd.read_csv(\"../../../data/raw/LINCS/geneinfo_beta.txt\", sep=\"\\t\")\n",
    "lincs_genes = lincs_genes[lincs_genes[\"feature_space\"] == \"landmark\"]\n",
    "lincs_genes = set(lincs_genes[\"gene_symbol\"])\n",
    "\n",
    "hallmark_sets = read_gmt(\"../../../data/raw/MSigDB/h.all.v2023.1.Hs.symbols.gmt\")\n",
    "hallmark_genes = set([g for gs in hallmark_sets.values() for g in gs])"
   ]
  },
  {
   "cell_type": "code",
   "execution_count": null,
   "metadata": {},
   "outputs": [],
   "source": [
    "dualgcn_folder = Path(\"../../../data/raw/DualGCN\")\n",
    "dualgcn_genes = read_list(dualgcn_folder / \"gene_list.txt\")\n",
    "dualgcn_genes = set(dualgcn_genes)"
   ]
  },
  {
   "attachments": {},
   "cell_type": "markdown",
   "metadata": {},
   "source": [
    "### Load omics data"
   ]
  },
  {
   "cell_type": "code",
   "execution_count": null,
   "metadata": {},
   "outputs": [],
   "source": [
    "# load gene expression data\n",
    "exp_matrix = pd.read_csv(\n",
    "    dataset_folder / \"OmicsExpressionProteinCodingGenesTPMLogp1.csv\",\n",
    "    index_col=0,\n",
    ")\n",
    "exp_matrix.head()"
   ]
  },
  {
   "cell_type": "code",
   "execution_count": null,
   "metadata": {},
   "outputs": [],
   "source": [
    "# load copy number data\n",
    "cnv_matrix = pd.read_csv(\n",
    "    dataset_folder / \"OmicsCNGeneCNRatioLogp1.csv\", index_col=0\n",
    ")\n",
    "\n",
    "cnv_matrix.head()"
   ]
  },
  {
   "cell_type": "code",
   "execution_count": null,
   "metadata": {},
   "outputs": [],
   "source": [
    "# load mutation data\n",
    "mut_maf = pd.read_csv(\n",
    "    dataset_folder / \"OmicsSomaticMutationsHarmonizedMAF.csv\", low_memory=False\n",
    ")\n",
    "\n",
    "mut_maf[\"Chrom\"] = mut_maf[\"Chrom\"].map(lambda v: str(v).replace(\"chr\", \"\"))\n",
    "mut_maf[\"id\"] = (\n",
    "    mut_maf[[\"HugoSymbol\", \"Chrom\", \"Pos\"]].astype(str).agg(\":\".join, axis=1)\n",
    ")\n",
    "\n",
    "mut_maf.head()"
   ]
  },
  {
   "cell_type": "code",
   "execution_count": null,
   "metadata": {},
   "outputs": [],
   "source": [
    "exp_genes = set(exp_matrix.columns)\n",
    "cnv_genes = set(cnv_matrix.columns)\n",
    "mut_genes = set(mut_maf[\"HugoSymbol\"].unique())"
   ]
  },
  {
   "cell_type": "markdown",
   "metadata": {},
   "source": [
    "## Generate HiDRA features"
   ]
  },
  {
   "cell_type": "code",
   "execution_count": null,
   "metadata": {},
   "outputs": [],
   "source": [
    "hidra_input_folder = input_folder / \"HiDRA\"\n",
    "hidra_input_folder.mkdir(exist_ok=True)"
   ]
  },
  {
   "cell_type": "code",
   "execution_count": null,
   "metadata": {},
   "outputs": [],
   "source": [
    "import csv\n",
    "\n",
    "geneset_path = Path(\"../../../pkg/HiDRA/Training/geneset.gmt\")\n",
    "\n",
    "geneset = []\n",
    "geneset_dict = {}\n",
    "with open(geneset_path, \"r\") as f:\n",
    "    reader = csv.reader(f, delimiter=\"\\t\")\n",
    "    for row in reader:\n",
    "        common_genes = exp_genes.intersection(row[2:])\n",
    "        if len(common_genes) > 0:\n",
    "            geneset.extend(common_genes)\n",
    "            geneset_dict[row[0]] = sorted(list(common_genes))\n",
    "\n",
    "geneset = set(geneset)\n",
    "\n",
    "with open(hidra_input_folder / \"MetadataGeneSetDict.pickle\", \"wb\") as fh:\n",
    "    pickle.dump(geneset_dict, fh)"
   ]
  },
  {
   "cell_type": "code",
   "execution_count": null,
   "metadata": {},
   "outputs": [],
   "source": [
    "hidra_exp_matrix = exp_matrix[sorted(list(geneset))]\n",
    "n_genes = len(geneset)\n",
    "hidra_exp_matrix.to_csv(\n",
    "    hidra_input_folder / f\"FeatureCellToExpression{n_genes}HiDRAGenes.csv\"\n",
    ")"
   ]
  },
  {
   "cell_type": "markdown",
   "metadata": {},
   "source": [
    "### Generate ScreenDL features"
   ]
  },
  {
   "cell_type": "code",
   "execution_count": null,
   "metadata": {},
   "outputs": [],
   "source": [
    "screendl_input_folder = input_folder / \"ScreenDL\"\n",
    "screendl_input_folder.mkdir(exist_ok=True)"
   ]
  },
  {
   "cell_type": "code",
   "execution_count": null,
   "metadata": {},
   "outputs": [],
   "source": [
    "# NOTE: move to a separate ontolearn file for feature generation\n",
    "temp = pd.read_csv(\"../../../data/raw/DepMap/Model.csv\")\n",
    "temp = temp[temp[\"SangerModelID\"].isin(exp_matrix.index)].drop_duplicates(\n",
    "    subset=\"SangerModelID\"\n",
    ")\n",
    "\n",
    "from sklearn.preprocessing import OneHotEncoder\n",
    "\n",
    "counts = temp[\"OncotreeLineage\"].value_counts()\n",
    "# categories = list(counts[counts >=5].index)\n",
    "\n",
    "enc = OneHotEncoder(sparse_output=False)\n",
    "x = enc.fit_transform(temp[[\"OncotreeLineage\"]])\n",
    "ct_ohe = pd.DataFrame(x, index=temp[\"SangerModelID\"], columns=enc.categories_)\n",
    "ct_ohe = ct_ohe.loc[exp_matrix.index]\n",
    "\n",
    "ct_ohe.to_csv(screendl_input_folder / \"FeatureCellToOncotreeLineageOHE.csv\")"
   ]
  },
  {
   "cell_type": "code",
   "execution_count": null,
   "metadata": {},
   "outputs": [],
   "source": [
    "screendl_genes = set.intersection(mcg_genes, exp_genes)\n",
    "screendl_genes = sorted(list(screendl_genes))\n",
    "\n",
    "screendl_exp_matrix = exp_matrix[screendl_genes]\n",
    "\n",
    "n_genes = len(screendl_genes)\n",
    "\n",
    "# screendl_exp_matrix.to_csv(\n",
    "#     screendl_input_folder\n",
    "#     / f\"FeatureCellToExpression{n_genes}MCGGenesTPMLogp1.csv\"\n",
    "# )"
   ]
  },
  {
   "cell_type": "code",
   "execution_count": null,
   "metadata": {},
   "outputs": [],
   "source": [
    "screendl_genes_lincs = mcg_genes.union(lincs_genes).intersection(exp_genes)\n",
    "screendl_genes_lincs = sorted(list(screendl_genes_lincs))\n",
    "\n",
    "screendl_exp_matrix = exp_matrix[screendl_genes_lincs]\n",
    "\n",
    "n_genes = len(screendl_genes_lincs)\n",
    "\n",
    "# screendl_exp_matrix.to_csv(\n",
    "#     screendl_input_folder\n",
    "#     / f\"FeatureCellToExpression{n_genes}MCGAndLINCSGenesTPMLogp1.csv\"\n",
    "# )"
   ]
  },
  {
   "cell_type": "code",
   "execution_count": null,
   "metadata": {},
   "outputs": [],
   "source": [
    "screendl_genes_hallmark = hallmark_genes.intersection(exp_genes)\n",
    "screendl_genes_hallmark = sorted(list(screendl_genes_hallmark))\n",
    "\n",
    "screendl_exp_matrix = exp_matrix[screendl_genes_hallmark]\n",
    "\n",
    "n_genes = len(screendl_genes_hallmark)\n",
    "\n",
    "screendl_exp_matrix.to_csv(\n",
    "    screendl_input_folder\n",
    "    / f\"FeatureCellToExpression{n_genes}HallmarkGenesTPMLogp1.csv\"\n",
    ")"
   ]
  },
  {
   "cell_type": "code",
   "execution_count": null,
   "metadata": {},
   "outputs": [],
   "source": [
    "genes = set.intersection(cgc_genes, mut_genes)\n",
    "mut_maf_cgc = mut_maf[mut_maf[\"HugoSymbol\"].isin(genes)].copy()\n",
    "mut_maf_cgc.head()"
   ]
  },
  {
   "cell_type": "code",
   "execution_count": null,
   "metadata": {},
   "outputs": [],
   "source": [
    "# mut_maf_cgc_likely_driver = mut_maf_cgc[\n",
    "#     (mut_maf_cgc[\"LikelyDriver\"] == True) | (mut_maf_cgc[\"Driver\"] == True)\n",
    "# ]\n",
    "# (\n",
    "#     mut_maf_cgc_likely_driver.groupby([\"SangerModelID\", \"HugoSymbol\"])\n",
    "#     .size()\n",
    "#     .unstack()\n",
    "#     .fillna(0)\n",
    "#     .clip(upper=1)\n",
    "#     .astype(int)\n",
    "# ).sum(axis=1).mean()"
   ]
  },
  {
   "cell_type": "code",
   "execution_count": null,
   "metadata": {},
   "outputs": [],
   "source": [
    "# mut_maf_cgc_del = mut_maf_cgc[mut_maf_cgc[\"LoF\"] == True]\n",
    "# mut_maf_cgc_del = mut_maf_cgc[\n",
    "#     (mut_maf_cgc[\"CCLEDeleterious\"] == True) | (mut_maf_cgc[\"LoF\"] == True)\n",
    "# ]\n",
    "# mut_mat = (\n",
    "#     mut_maf_cgc_del.groupby([\"SangerModelID\", \"HugoSymbol\"])\n",
    "#     .size()\n",
    "#     .unstack()\n",
    "#     .fillna(0)\n",
    "#     .clip(upper=1)\n",
    "#     .astype(int)\n",
    "# )\n",
    "\n",
    "# n_genes = mut_mat.shape[1]\n",
    "\n",
    "# mut_mat.to_csv(\n",
    "#     screendl_input_folder\n",
    "#     / f\"FeatureCellToSomaticMutationsGeneEncoded{n_genes}CGCGenes.csv\"\n",
    "# )"
   ]
  },
  {
   "cell_type": "code",
   "execution_count": null,
   "metadata": {},
   "outputs": [],
   "source": [
    "# An alternative encoding would be to concatenate them with an individual column\n",
    "#   for gene_lof and gene_driver each binary encoded (so twice as many columns)"
   ]
  },
  {
   "cell_type": "code",
   "execution_count": null,
   "metadata": {},
   "outputs": [],
   "source": [
    "mut_maf.columns"
   ]
  },
  {
   "cell_type": "code",
   "execution_count": null,
   "metadata": {},
   "outputs": [],
   "source": [
    "# FIXME: DRIVERS MAY NOT BE CGC GENES - I should do the driver selection\n",
    "#   independently of the CGC gene list\n",
    "mut_maf_cgc[\"LoFFlag\"] = mut_maf_cgc[\"CCLEDeleterious\"] + mut_maf_cgc[\"LoF\"]\n",
    "mut_maf_cgc[\"DriverFlag\"] = mut_maf_cgc[\"Driver\"] + mut_maf_cgc[\"LikelyDriver\"]\n",
    "\n",
    "genes = sorted(list(mut_maf_cgc[\"HugoSymbol\"].unique()))\n",
    "samples = exp_matrix.index\n",
    "n_genes = len(genes)\n",
    "n_samples = len(samples)\n",
    "mut_matrix = pd.DataFrame(\n",
    "    np.zeros((n_samples, n_genes), dtype=int), index=samples, columns=genes\n",
    ")\n",
    "for row in mut_maf_cgc.itertuples():\n",
    "    if row.DriverFlag is True:\n",
    "        mut_matrix.loc[row.SangerModelID, row.HugoSymbol] = 1\n",
    "    elif row.LoFFlag is True:\n",
    "        mut_matrix.loc[row.SangerModelID, row.HugoSymbol] = -1\n",
    "\n",
    "counts = (mut_matrix != 0).sum()\n",
    "# restrict to genes mutated in at least 5 cell lines\n",
    "keep_genes = counts[counts > 5].index\n",
    "mut_matrix = mut_matrix[sorted(keep_genes)]\n",
    "\n",
    "n_genes = mut_matrix.shape[1]\n",
    "mut_matrix.to_csv(\n",
    "    screendl_input_folder\n",
    "    / f\"FeatureCellToSomaticMutationsGeneEncoded{n_genes}CGCGenes.csv\"\n",
    ")"
   ]
  },
  {
   "cell_type": "code",
   "execution_count": null,
   "metadata": {},
   "outputs": [],
   "source": [
    "mut_maf_cgc_driver = mut_maf_cgc[mut_maf_cgc[\"DriverFlag\"] == True]\n",
    "genes = sorted(list(mut_maf_cgc_driver[\"HugoSymbol\"].unique()))\n",
    "n_genes = len(genes)\n",
    "\n",
    "mut_matrix_driver = pd.DataFrame(\n",
    "    np.zeros((n_samples, n_genes), dtype=int), index=samples, columns=genes\n",
    ")\n",
    "\n",
    "for tup in mut_maf_cgc_driver.itertuples():\n",
    "    mut_matrix_driver.loc[tup.SangerModelID, tup.HugoSymbol] = 1\n",
    "\n",
    "mut_matrix_driver.columns = [f\"{c}_driver\" for c in mut_matrix_driver.columns]"
   ]
  },
  {
   "cell_type": "code",
   "execution_count": null,
   "metadata": {},
   "outputs": [],
   "source": [
    "mut_maf_cgc_lof = mut_maf_cgc[mut_maf_cgc[\"LoFFlag\"] == True]\n",
    "genes = sorted(list(mut_maf_cgc_lof[\"HugoSymbol\"].unique()))\n",
    "n_genes = len(genes)\n",
    "\n",
    "mut_matrix_lof = pd.DataFrame(\n",
    "    np.zeros((n_samples, n_genes), dtype=int), index=samples, columns=genes\n",
    ")\n",
    "\n",
    "for tup in mut_maf_cgc_lof.itertuples():\n",
    "    mut_matrix_lof.loc[tup.SangerModelID, tup.HugoSymbol] = 1\n",
    "\n",
    "mut_matrix_lof.columns = [f\"{c}_lof\" for c in mut_matrix_lof.columns]"
   ]
  },
  {
   "cell_type": "code",
   "execution_count": null,
   "metadata": {},
   "outputs": [],
   "source": [
    "mut_matrix_concat = pd.concat([mut_matrix_driver, mut_matrix_lof], axis=1)\n",
    "counts = mut_matrix_concat.sum()\n",
    "keep_cols = counts[counts >= 5].index\n",
    "\n",
    "mut_matrix_concat = mut_matrix_concat[keep_cols]\n",
    "\n",
    "n_features = mut_matrix_concat.shape[1]\n",
    "mut_matrix.to_csv(\n",
    "    screendl_input_folder\n",
    "    / f\"FeatureCellToSomaticMutationsTypeEncoded{n_features}CGCFeatures.csv\"\n",
    ")"
   ]
  },
  {
   "cell_type": "code",
   "execution_count": null,
   "metadata": {},
   "outputs": [],
   "source": [
    "screendl_genes = set.intersection(cgc_genes, cnv_genes)\n",
    "screendl_genes = sorted(list(screendl_genes))\n",
    "\n",
    "screendl_cnv_matrix = cnv_matrix[screendl_genes]\n",
    "\n",
    "n_genes = len(screendl_genes)\n",
    "\n",
    "screendl_cnv_matrix.to_csv(\n",
    "    screendl_input_folder\n",
    "    / f\"FeatureCellToCopyNumber{n_genes}CGCGenesCNRatioLogp1\"\n",
    ")"
   ]
  },
  {
   "cell_type": "markdown",
   "metadata": {},
   "source": [
    "### DeepCDR features"
   ]
  },
  {
   "cell_type": "code",
   "execution_count": null,
   "metadata": {},
   "outputs": [],
   "source": [
    "deepcdr_input_folder = input_folder / \"DeepCDR\"\n",
    "deepcdr_input_folder.mkdir(exist_ok=True)"
   ]
  },
  {
   "cell_type": "code",
   "execution_count": null,
   "metadata": {},
   "outputs": [],
   "source": [
    "# generate expression features\n",
    "\n",
    "# deepcdr_exp_path = \"https://raw.githubusercontent.com/kimmo1019/DeepCDR/master/data/CCLE/genomic_expression_561celllines_697genes_demap_features.csv\"\n",
    "# deepcdr_exp_genes = pd.read_csv(\n",
    "#     deepcdr_exp_path, index_col=0, nrows=1\n",
    "# ).columns.to_list()\n",
    "# deepcdr_exp_genes = set(deepcdr_exp_genes)\n",
    "deepcdr_exp_genes = cgc_genes\n",
    "\n",
    "deepcdr_exp_genes_filtered = set.intersection(deepcdr_exp_genes, exp_genes)\n",
    "deepcdr_exp_genes_filtered = sorted(list(deepcdr_exp_genes_filtered))\n",
    "print(len(deepcdr_exp_genes_filtered))\n",
    "\n",
    "deepcdr_exp_matrix = exp_matrix[deepcdr_exp_genes_filtered]\n",
    "n_genes = len(deepcdr_exp_genes_filtered)\n",
    "\n",
    "# deepcdr_exp_matrix.to_csv(\n",
    "#     deepcdr_input_folder\n",
    "#     / f\"FeatureCellToExpression{n_genes}CGCGenesTPMLogp1.csv\"\n",
    "# )"
   ]
  },
  {
   "cell_type": "code",
   "execution_count": null,
   "metadata": {},
   "outputs": [],
   "source": [
    "# generate mutation features\n",
    "\n",
    "# deepcdr_mut_path = \"https://raw.githubusercontent.com/kimmo1019/DeepCDR/master/data/CCLE/genomic_mutation_34673_demap_features.csv\"\n",
    "# deepcdr_mut_genes = (\n",
    "#     pd.read_csv(deepcdr_mut_path, index_col=0, nrows=2)\n",
    "#     .columns.map(lambda c: c.split(\".\")[0])\n",
    "#     .unique()\n",
    "#     .tolist()\n",
    "# )\n",
    "# deepcdr_mut_genes = set(deepcdr_mut_genes)\n",
    "deepcdr_mut_genes = cgc_genes\n",
    "deepcdr_mut_genes_filtered = set.intersection(deepcdr_mut_genes, mut_genes)\n",
    "print(len(deepcdr_mut_genes_filtered))\n",
    "\n",
    "deepcdr_mut_maf = mut_maf[mut_maf[\"HugoSymbol\"].isin(deepcdr_mut_genes)]\n",
    "\n",
    "# lazy check to make sure we didn't lose any cell lines\n",
    "old_cells = mut_maf[\"SangerModelID\"].unique().tolist()\n",
    "new_cells = deepcdr_mut_maf[\"SangerModelID\"].unique().tolist()\n",
    "assert set(old_cells) == set(new_cells)\n",
    "\n",
    "deepcdr_mut_matrix = (\n",
    "    deepcdr_mut_maf.groupby([\"SangerModelID\", \"id\"])\n",
    "    .size()\n",
    "    .unstack()\n",
    "    .fillna(0)\n",
    "    .clip(upper=1)\n",
    "    .astype(int)\n",
    ")\n",
    "n_genes = len(deepcdr_mut_genes_filtered)\n",
    "\n",
    "positions = deepcdr_mut_matrix.columns.to_list()\n",
    "positions = pd.DataFrame({\"pos\": positions})\n",
    "positions[\"gene\"] = positions[\"pos\"].map(lambda v: str(v).split(\":\")[0])\n",
    "positions[\"chr\"] = positions[\"pos\"].map(lambda v: str(v).split(\":\")[1])\n",
    "positions[\"start\"] = positions[\"pos\"].map(lambda v: int(str(v).split(\":\")[2]))\n",
    "\n",
    "mapping = {str(i): i for i in range(1, 23)}\n",
    "mapping[\"X\"] = 23\n",
    "mapping[\"Y\"] = 24\n",
    "positions[\"chr\"] = positions[\"chr\"].map(mapping)\n",
    "\n",
    "sorted_positions = positions.sort_values([\"chr\", \"start\"])[\"pos\"].to_list()\n",
    "\n",
    "deepcdr_mut_matrix = deepcdr_mut_matrix[sorted_positions]\n",
    "\n",
    "# deepcdr_mut_matrix.to_csv(\n",
    "#     deepcdr_input_folder\n",
    "#     / f\"FeatureCellToSomaticMutationsPositionEncoded{n_genes}CGCGenesAll.csv\"\n",
    "# )"
   ]
  },
  {
   "cell_type": "code",
   "execution_count": null,
   "metadata": {},
   "outputs": [],
   "source": [
    "deepcdr_mut_matrix"
   ]
  },
  {
   "cell_type": "markdown",
   "metadata": {},
   "source": [
    "### Generate DualGCN features"
   ]
  },
  {
   "cell_type": "code",
   "execution_count": null,
   "metadata": {},
   "outputs": [],
   "source": [
    "dualgcn_input_folder = input_folder / \"DualGCN\"\n",
    "dualgcn_input_folder.mkdir(exist_ok=True)"
   ]
  },
  {
   "cell_type": "code",
   "execution_count": null,
   "metadata": {},
   "outputs": [],
   "source": [
    "dualgcn_ppi = pd.read_csv(\n",
    "    dualgcn_folder / \"PPI_network.txt\",\n",
    "    sep=\"\\t\",\n",
    "    usecols=[0, 1],\n",
    "    names=[\"gene_1\", \"gene_2\"],\n",
    "    header=None,\n",
    ")\n",
    "\n",
    "dualgcn_ppi_genes = set.intersection(\n",
    "    set(dualgcn_ppi[\"gene_1\"].to_list()),\n",
    "    set(dualgcn_ppi[\"gene_2\"].to_list()),\n",
    ")\n",
    "\n",
    "dualgcn_ppi.head(n=2)"
   ]
  },
  {
   "cell_type": "code",
   "execution_count": null,
   "metadata": {},
   "outputs": [],
   "source": [
    "dualgcn_genes_filtered = set.intersection(\n",
    "    dualgcn_genes, dualgcn_ppi_genes, exp_genes, cnv_genes\n",
    ")\n",
    "dualgcn_genes_filtered = sorted(list(dualgcn_genes_filtered))\n",
    "\n",
    "dualgcn_exp_matrix = exp_matrix[dualgcn_genes_filtered]\n",
    "dualgcn_cnv_matrix = cnv_matrix[dualgcn_genes_filtered]\n",
    "dualgcn_ppi = dualgcn_ppi[\n",
    "    (dualgcn_ppi[\"gene_1\"].isin(dualgcn_genes_filtered))\n",
    "    & (dualgcn_ppi[\"gene_2\"].isin(dualgcn_genes_filtered))\n",
    "]\n",
    "\n",
    "n_genes = len(dualgcn_genes_filtered)\n",
    "\n",
    "# dualgcn_exp_matrix.to_csv(\n",
    "#     dualgcn_input_folder\n",
    "#     / f\"FeatureCellToExpression{n_genes}DualGCNGenesTPMLogp1.csv\"\n",
    "# )\n",
    "\n",
    "# dualgcn_cnv_matrix.to_csv(\n",
    "#     dualgcn_input_folder\n",
    "#     / f\"FeatureCellToCopyNumber{n_genes}DualGCNGenesCNRatioLogp1.csv\"\n",
    "# )\n",
    "\n",
    "# dualgcn_ppi.to_csv(\n",
    "#     dualgcn_input_folder / \"MetadataPPIEdgeList.csv\",\n",
    "#     index=False,\n",
    "# )"
   ]
  },
  {
   "attachments": {},
   "cell_type": "markdown",
   "metadata": {},
   "source": [
    "### Generate mutation features"
   ]
  },
  {
   "cell_type": "code",
   "execution_count": null,
   "metadata": {},
   "outputs": [],
   "source": [
    "# load mutation data\n",
    "mut_data_maf = pd.read_csv(\n",
    "    dataset_folder / \"OmicsSomaticMutationsHarmonizedMAF.csv\",\n",
    "    low_memory=False,\n",
    ")\n",
    "\n",
    "mut_data_maf[\"Chrom\"] = mut_data_maf[\"Chrom\"].map(\n",
    "    lambda v: str(v).replace(\"chr\", \"\")\n",
    ")\n",
    "mut_data_maf[\"id\"] = (\n",
    "    mut_data_maf[[\"HugoSymbol\", \"Chrom\", \"Pos\"]]\n",
    "    .astype(str)\n",
    "    .agg(\":\".join, axis=1)\n",
    ")\n",
    "\n",
    "mut_data_maf.head()"
   ]
  },
  {
   "cell_type": "code",
   "execution_count": null,
   "metadata": {},
   "outputs": [],
   "source": [
    "# positional encoding of mutations for convolutional models\n",
    "mut_data_cgc_genes = mut_data_maf[\n",
    "    mut_data_maf[\"HugoSymbol\"].isin(cgc_genes)\n",
    "]\n",
    "\n",
    "# lazy check to make sure we didn't lose any cell lines\n",
    "old_cell_ids = mut_data_maf[\"SangerModelID\"].unique().tolist()\n",
    "new_cell_ids = mut_data_cgc_genes[\"SangerModelID\"].unique().tolist()\n",
    "assert set(old_cell_ids) == set(new_cell_ids)\n",
    "\n",
    "mut_matrix = (\n",
    "    mut_data_cgc_genes.groupby([\"SangerModelID\", \"id\"])\n",
    "    .size()\n",
    "    .unstack()\n",
    "    .fillna(0)\n",
    "    .clip(upper=1)\n",
    "    .astype(int)\n",
    ")\n",
    "\n",
    "n_genes = mut_data_cgc_genes[\"HugoSymbol\"].nunique()\n",
    "\n",
    "# mut_matrix.to_csv(\n",
    "#     input_folder\n",
    "#     / f\"CellToSomaticMutationsPositionEncoded{n_genes}CGCGenesAll.csv\"\n",
    "# )"
   ]
  },
  {
   "cell_type": "code",
   "execution_count": null,
   "metadata": {},
   "outputs": [],
   "source": [
    "# all mutations encoded by gene\n",
    "mut_matrix_all = (\n",
    "    mut_data_maf.groupby([\"SangerModelID\", \"HugoSymbol\"])\n",
    "    .size()\n",
    "    .unstack()\n",
    "    .fillna(0)\n",
    "    .clip(upper=1)\n",
    "    .astype(int)\n",
    ")\n",
    "\n",
    "mut_matrix_all.head()"
   ]
  },
  {
   "cell_type": "code",
   "execution_count": null,
   "metadata": {},
   "outputs": [],
   "source": [
    "# gene encoded matrix CGC genes\n",
    "mut_matrix_all_cgc = mut_matrix_all.filter(items=cgc_genes, axis=1)\n",
    "mut_matrix_all_cgc = mut_matrix_all_cgc.sort_index(axis=1)\n",
    "\n",
    "n_genes = mut_matrix_all_cgc.shape[1]\n",
    "\n",
    "# mut_matrix_all_cgc.to_csv(\n",
    "#     input_folder / f\"CellToSomaticMutationsGeneEncoded{n_genes}CGCGenesAll.csv\"\n",
    "# )"
   ]
  },
  {
   "cell_type": "code",
   "execution_count": null,
   "metadata": {},
   "outputs": [],
   "source": [
    "mut_matrix_del = (\n",
    "    mut_data_maf[mut_data_maf[\"CCLEDeleterious\"] == True]\n",
    "    .groupby([\"SangerModelID\", \"HugoSymbol\"])\n",
    "    .size()\n",
    "    .unstack()\n",
    "    .fillna(0)\n",
    "    .clip(upper=1)\n",
    "    .astype(int)\n",
    ")\n",
    "\n",
    "mut_matrix_del"
   ]
  },
  {
   "cell_type": "code",
   "execution_count": null,
   "metadata": {},
   "outputs": [],
   "source": [
    "# mut_data_cgc_genes[\n",
    "#     (mut_data_cgc_genes[\"CCLEDeleterious\"] == True)\n",
    "#     | (mut_data_cgc_genes[\"HessDriver\"] == True)\n",
    "# ].shape"
   ]
  }
 ],
 "metadata": {
  "kernelspec": {
   "display_name": "cdrpy-tf-cpu",
   "language": "python",
   "name": "python3"
  },
  "language_info": {
   "codemirror_mode": {
    "name": "ipython",
    "version": 3
   },
   "file_extension": ".py",
   "mimetype": "text/x-python",
   "name": "python",
   "nbconvert_exporter": "python",
   "pygments_lexer": "ipython3",
   "version": "3.9.13"
  }
 },
 "nbformat": 4,
 "nbformat_minor": 2
}
