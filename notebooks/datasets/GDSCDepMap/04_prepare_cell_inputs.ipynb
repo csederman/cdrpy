{
 "cells": [
  {
   "attachments": {},
   "cell_type": "markdown",
   "metadata": {},
   "source": [
    "# Prepare Cell/Tumor Input Features"
   ]
  },
  {
   "cell_type": "code",
   "execution_count": null,
   "metadata": {},
   "outputs": [],
   "source": [
    "from __future__ import annotations\n",
    "\n",
    "import pickle\n",
    "\n",
    "import pandas as pd\n",
    "import networkx as nx\n",
    "import numpy as np\n",
    "import typing as t\n",
    "\n",
    "from pathlib import Path\n",
    "\n",
    "from cdrpy.util.io import read_list"
   ]
  },
  {
   "cell_type": "code",
   "execution_count": null,
   "metadata": {},
   "outputs": [],
   "source": [
    "dataset_folder = Path(\"../../../data/datasets/GDSCv2DepMap\")\n",
    "input_folder = Path(\"../../../data/inputs/GDSCv2DepMap\")\n",
    "genelist_folder =  Path(\"../../../data/genelists\")"
   ]
  },
  {
   "cell_type": "markdown",
   "metadata": {},
   "source": [
    "## Generate labels"
   ]
  },
  {
   "cell_type": "code",
   "execution_count": null,
   "metadata": {},
   "outputs": [],
   "source": [
    "screen_data = pd.read_csv(dataset_folder / \"ScreenDoseResponseLabels.csv\")\n",
    "\n",
    "screen_data[[\"id\", \"cell_id\", \"drug_id\", \"ln_ic50\"]].rename(\n",
    "    columns={\"ln_ic50\": \"label\"}\n",
    ").to_csv(input_folder / \"LabelsLogIC50.csv\", index=False)\n",
    "\n",
    "screen_data[[\"id\", \"cell_id\", \"drug_id\", \"auc\"]].rename(\n",
    "    columns={\"auc\": \"label\"}\n",
    ").to_csv(input_folder / \"LabelsAUC.csv\", index=False)"
   ]
  },
  {
   "cell_type": "code",
   "execution_count": null,
   "metadata": {},
   "outputs": [],
   "source": [
    "# load gene lists\n",
    "mcg_genes = pd.read_csv(genelist_folder / \"VermaatMiniCancerGenome.csv\")\n",
    "mcg_genes = set(mcg_genes[\"HGNC_SYMBOL\"].to_list())\n",
    "\n",
    "cgc_genes = pd.read_csv(genelist_folder / \"CancerGeneCensusFeb062023.csv\")\n",
    "cgc_genes = set(cgc_genes[\"Gene Symbol\"].to_list())"
   ]
  },
  {
   "cell_type": "code",
   "execution_count": null,
   "metadata": {},
   "outputs": [],
   "source": [
    "dualgcn_folder = Path(\"../../../data/raw/DualGCN\")\n",
    "dualgcn_genes = read_list(dualgcn_folder / \"gene_list.txt\")\n",
    "dualgcn_genes = set(dualgcn_genes)"
   ]
  },
  {
   "attachments": {},
   "cell_type": "markdown",
   "metadata": {},
   "source": [
    "### Load omics data"
   ]
  },
  {
   "cell_type": "code",
   "execution_count": null,
   "metadata": {},
   "outputs": [],
   "source": [
    "# load gene expression data\n",
    "exp_matrix = pd.read_csv(\n",
    "    dataset_folder / \"OmicsExpressionProteinCodingGenesTPMLogp1.csv\",\n",
    "    index_col=0,\n",
    ")\n",
    "exp_matrix.head()"
   ]
  },
  {
   "cell_type": "code",
   "execution_count": null,
   "metadata": {},
   "outputs": [],
   "source": [
    "# load copy number data\n",
    "cnv_matrix = pd.read_csv(\n",
    "    dataset_folder / \"OmicsCNGeneCNRatioLogp1.csv\", index_col=0\n",
    ")\n",
    "\n",
    "cnv_matrix.head()"
   ]
  },
  {
   "cell_type": "code",
   "execution_count": null,
   "metadata": {},
   "outputs": [],
   "source": [
    "exp_genes = set(exp_matrix.columns)\n",
    "cnv_genes = set(cnv_matrix.columns)"
   ]
  },
  {
   "cell_type": "markdown",
   "metadata": {},
   "source": [
    "### Generate DualGCN features"
   ]
  },
  {
   "cell_type": "code",
   "execution_count": null,
   "metadata": {},
   "outputs": [],
   "source": [
    "dualgcn_input_folder = input_folder / \"DualGCN\"\n",
    "dualgcn_input_folder.mkdir(exist_ok=True)"
   ]
  },
  {
   "cell_type": "code",
   "execution_count": null,
   "metadata": {},
   "outputs": [],
   "source": [
    "dualgcn_ppi = pd.read_csv(\n",
    "    dualgcn_folder / \"PPI_network.txt\",\n",
    "    sep=\"\\t\",\n",
    "    usecols=[0, 1],\n",
    "    names=[\"gene_1\", \"gene_2\"],\n",
    "    header=None,\n",
    ")\n",
    "\n",
    "dualgcn_ppi_genes = set.intersection(\n",
    "    set(dualgcn_ppi[\"gene_1\"].to_list()),\n",
    "    set(dualgcn_ppi[\"gene_2\"].to_list()),\n",
    ")\n",
    "\n",
    "dualgcn_ppi.head(n=2)"
   ]
  },
  {
   "cell_type": "code",
   "execution_count": null,
   "metadata": {},
   "outputs": [],
   "source": [
    "dualgcn_genes_filtered = set.intersection(\n",
    "    dualgcn_genes, dualgcn_ppi_genes, exp_genes, cnv_genes\n",
    ")\n",
    "dualgcn_genes_filtered = sorted(list(dualgcn_genes_filtered))\n",
    "\n",
    "dualgcn_exp_matrix = exp_matrix[dualgcn_genes_filtered]\n",
    "dualgcn_cnv_matrix = cnv_matrix[dualgcn_genes_filtered]\n",
    "dualgcn_ppi = dualgcn_ppi[\n",
    "    (dualgcn_ppi[\"gene_1\"].isin(dualgcn_genes_filtered))\n",
    "    & (dualgcn_ppi[\"gene_2\"].isin(dualgcn_genes_filtered))\n",
    "]\n",
    "\n",
    "n_genes = len(dualgcn_genes_filtered)\n",
    "\n",
    "dualgcn_exp_matrix.to_csv(\n",
    "    dualgcn_input_folder\n",
    "    / f\"FeatureCellToExpression{n_genes}DualGCNGenesTPMLogp1.csv\"\n",
    ")\n",
    "\n",
    "dualgcn_cnv_matrix.to_csv(\n",
    "    dualgcn_input_folder\n",
    "    / f\"FeatureCellToCopyNumber{n_genes}DualGCNGenesCNRatioLogp1.csv\"\n",
    ")\n",
    "\n",
    "dualgcn_ppi.to_csv(\n",
    "    dualgcn_input_folder / \"MetadataPPIEdgeList.csv\",\n",
    "    index=False,\n",
    ")"
   ]
  },
  {
   "attachments": {},
   "cell_type": "markdown",
   "metadata": {},
   "source": [
    "### Generate mutation features"
   ]
  },
  {
   "cell_type": "code",
   "execution_count": null,
   "metadata": {},
   "outputs": [],
   "source": [
    "# load mutation data\n",
    "mut_data_maf = pd.read_csv(\n",
    "    dataset_folder / \"OmicsSomaticMutationsHarmonizedMAF.csv\",\n",
    "    low_memory=False,\n",
    ")\n",
    "\n",
    "mut_data_maf[\"Chrom\"] = mut_data_maf[\"Chrom\"].map(\n",
    "    lambda v: str(v).replace(\"chr\", \"\")\n",
    ")\n",
    "mut_data_maf[\"id\"] = (\n",
    "    mut_data_maf[[\"HugoSymbol\", \"Chrom\", \"Pos\"]]\n",
    "    .astype(str)\n",
    "    .agg(\":\".join, axis=1)\n",
    ")\n",
    "\n",
    "mut_data_maf.head()"
   ]
  },
  {
   "cell_type": "code",
   "execution_count": null,
   "metadata": {},
   "outputs": [],
   "source": [
    "# positional encoding of mutations for convolutional models\n",
    "mut_data_cgc_genes = mut_data_maf[\n",
    "    mut_data_maf[\"HugoSymbol\"].isin(cgc_genes)\n",
    "]\n",
    "\n",
    "# lazy check to make sure we didn't lose any cell lines\n",
    "old_cell_ids = mut_data_maf[\"SangerModelID\"].unique().tolist()\n",
    "new_cell_ids = mut_data_cgc_genes[\"SangerModelID\"].unique().tolist()\n",
    "assert set(old_cell_ids) == set(new_cell_ids)\n",
    "\n",
    "mut_matrix = (\n",
    "    mut_data_cgc_genes.groupby([\"SangerModelID\", \"id\"])\n",
    "    .size()\n",
    "    .unstack()\n",
    "    .fillna(0)\n",
    "    .clip(upper=1)\n",
    "    .astype(int)\n",
    ")\n",
    "\n",
    "n_genes = mut_data_cgc_genes[\"HugoSymbol\"].nunique()\n",
    "\n",
    "mut_matrix.to_csv(\n",
    "    input_folder\n",
    "    / f\"CellToSomaticMutationsPositionEncoded{n_genes}CGCGenesAll.csv\"\n",
    ")"
   ]
  },
  {
   "cell_type": "code",
   "execution_count": null,
   "metadata": {},
   "outputs": [],
   "source": [
    "# all mutations encoded by gene\n",
    "mut_matrix_all = (\n",
    "    mut_data_maf.groupby([\"SangerModelID\", \"HugoSymbol\"])\n",
    "    .size()\n",
    "    .unstack()\n",
    "    .fillna(0)\n",
    "    .clip(upper=1)\n",
    "    .astype(int)\n",
    ")\n",
    "\n",
    "mut_matrix_all.head()"
   ]
  },
  {
   "cell_type": "code",
   "execution_count": null,
   "metadata": {},
   "outputs": [],
   "source": [
    "# gene encoded matrix CGC genes\n",
    "mut_matrix_all_cgc = mut_matrix_all.filter(items=cgc_genes, axis=1)\n",
    "mut_matrix_all_cgc = mut_matrix_all_cgc.sort_index(axis=1)\n",
    "\n",
    "n_genes = mut_matrix_all_cgc.shape[1]\n",
    "\n",
    "mut_matrix_all_cgc.to_csv(\n",
    "    input_folder / f\"CellToSomaticMutationsGeneEncoded{n_genes}CGCGenesAll.csv\"\n",
    ")"
   ]
  },
  {
   "cell_type": "code",
   "execution_count": null,
   "metadata": {},
   "outputs": [],
   "source": [
    "mut_matrix_del = (\n",
    "    mut_data_maf[mut_data_maf[\"CCLEDeleterious\"] == True]\n",
    "    .groupby([\"SangerModelID\", \"HugoSymbol\"])\n",
    "    .size()\n",
    "    .unstack()\n",
    "    .fillna(0)\n",
    "    .clip(upper=1)\n",
    "    .astype(int)\n",
    ")\n",
    "\n",
    "mut_matrix_del"
   ]
  },
  {
   "cell_type": "code",
   "execution_count": null,
   "metadata": {},
   "outputs": [],
   "source": [
    "# mut_data_cgc_genes[\n",
    "#     (mut_data_cgc_genes[\"CCLEDeleterious\"] == True)\n",
    "#     | (mut_data_cgc_genes[\"HessDriver\"] == True)\n",
    "# ].shape"
   ]
  }
 ],
 "metadata": {
  "kernelspec": {
   "display_name": "cdrpy-tf-cpu",
   "language": "python",
   "name": "python3"
  },
  "language_info": {
   "codemirror_mode": {
    "name": "ipython",
    "version": 3
   },
   "file_extension": ".py",
   "mimetype": "text/x-python",
   "name": "python",
   "nbconvert_exporter": "python",
   "pygments_lexer": "ipython3",
   "version": "3.9.13"
  }
 },
 "nbformat": 4,
 "nbformat_minor": 2
}
