{
 "cells": [
  {
   "cell_type": "markdown",
   "metadata": {},
   "source": [
    "# Generate Splits for the GDSC/DepMap dataset\n",
    "\n",
    "## TODO\n",
    "\n",
    "- [ ] Add check that there are no drugs in test that are not in train"
   ]
  },
  {
   "cell_type": "code",
   "execution_count": null,
   "metadata": {},
   "outputs": [],
   "source": [
    "from __future__ import annotations\n",
    "\n",
    "import pickle\n",
    "\n",
    "import pandas as pd\n",
    "import polars as pl\n",
    "import numpy as np\n",
    "\n",
    "from pathlib import Path\n",
    "from sklearn.model_selection import StratifiedKFold, KFold, train_test_split"
   ]
  },
  {
   "cell_type": "code",
   "execution_count": null,
   "metadata": {},
   "outputs": [],
   "source": [
    "SEED = 41\n",
    "np.random.seed(SEED)"
   ]
  },
  {
   "cell_type": "code",
   "execution_count": null,
   "metadata": {},
   "outputs": [],
   "source": [
    "data_folder = Path(\"../../../data/datasets/GDSCv2DepMap\")\n",
    "split_folder = Path(\"../../../data/inputs/GDSCv2DepMap/splits\")\n",
    "split_folder.mkdir(exist_ok=True)"
   ]
  },
  {
   "cell_type": "code",
   "execution_count": null,
   "metadata": {},
   "outputs": [],
   "source": [
    "model_info = pd.read_csv(data_folder / \"CellLineOncotreeAnnotations.csv\")\n",
    "model_info.head()"
   ]
  },
  {
   "cell_type": "code",
   "execution_count": null,
   "metadata": {},
   "outputs": [],
   "source": [
    "screen_data = pd.read_csv(data_folder / \"ScreenDoseResponseLabels.csv\")\n",
    "screen_data.head()"
   ]
  },
  {
   "cell_type": "code",
   "execution_count": null,
   "metadata": {},
   "outputs": [],
   "source": [
    "def strict_train_validation_split(\n",
    "    train_model_ids: np.ndarray, train_tissues: np.ndarray\n",
    ") -> tuple[np.ndarray, np.ndarray]:\n",
    "    \"\"\"\"\"\"\n",
    "    uniq_tissues, tissue_counts = np.unique(train_tissues, return_counts=True)\n",
    "    keep_tissues = uniq_tissues[tissue_counts >= 2]\n",
    "\n",
    "    mask = np.isin(train_tissues, keep_tissues)\n",
    "    train_tissues_subset = train_tissues[mask]\n",
    "    train_model_ids_subset = train_model_ids[mask]\n",
    "\n",
    "    _, val_model_ids = train_test_split(\n",
    "        train_model_ids_subset,\n",
    "        random_state=SEED,\n",
    "        stratify=train_tissues_subset,\n",
    "        test_size=0.11,\n",
    "    )\n",
    "\n",
    "    train_model_ids = train_model_ids[\n",
    "        np.isin(train_model_ids, val_model_ids, invert=True)\n",
    "    ]\n",
    "\n",
    "    return train_model_ids, val_model_ids"
   ]
  },
  {
   "cell_type": "code",
   "execution_count": null,
   "metadata": {},
   "outputs": [],
   "source": [
    "tumor_blind_folder = Path(split_folder / \"tumor_blind\")\n",
    "tumor_blind_folder.mkdir(exist_ok=True)"
   ]
  },
  {
   "cell_type": "code",
   "execution_count": null,
   "metadata": {},
   "outputs": [],
   "source": [
    "cell_ids = model_info[\"model_id\"].values\n",
    "tissues = model_info[\"oncotree_lineage\"].values\n",
    "\n",
    "skf = StratifiedKFold(n_splits=10, shuffle=True, random_state=SEED)\n",
    "split_iterator = skf.split(cell_ids, tissues)\n",
    "for i, (train_idx, test_idx) in enumerate(split_iterator, 1):\n",
    "    train_tissues = tissues[train_idx]\n",
    "    train_cell_ids = cell_ids[train_idx]\n",
    "    test_cell_ids = cell_ids[test_idx]\n",
    "\n",
    "    train_cell_ids, val_cell_ids = strict_train_validation_split(\n",
    "        train_cell_ids, train_tissues\n",
    "    )\n",
    "\n",
    "    train_ids = screen_data[screen_data[\"cell_id\"].isin(train_cell_ids)][\n",
    "        \"id\"\n",
    "    ].to_list()\n",
    "    val_ids = screen_data[screen_data[\"cell_id\"].isin(val_cell_ids)][\n",
    "        \"id\"\n",
    "    ].to_list()\n",
    "    test_ids = screen_data[screen_data[\"cell_id\"].isin(test_cell_ids)][\n",
    "        \"id\"\n",
    "    ].to_list()\n",
    "\n",
    "    with open(tumor_blind_folder / f\"train_{i}.pickle\", \"wb\") as fh:\n",
    "        pickle.dump(train_ids, fh)\n",
    "\n",
    "    with open(tumor_blind_folder / f\"val_{i}.pickle\", \"wb\") as fh:\n",
    "        pickle.dump(val_ids, fh)\n",
    "\n",
    "    with open(tumor_blind_folder / f\"test_{i}.pickle\", \"wb\") as fh:\n",
    "        pickle.dump(test_ids, fh)"
   ]
  },
  {
   "cell_type": "code",
   "execution_count": null,
   "metadata": {},
   "outputs": [],
   "source": [
    "mixed_folder = split_folder / \"mixed\"\n",
    "mixed_folder.mkdir(exist_ok=True, parents=True)"
   ]
  },
  {
   "cell_type": "code",
   "execution_count": null,
   "metadata": {},
   "outputs": [],
   "source": [
    "obs_ids = screen_data[\"id\"].values\n",
    "cell_ids = screen_data[\"cell_id\"].values\n",
    "\n",
    "skf = StratifiedKFold(n_splits=10, shuffle=True, random_state=SEED)\n",
    "split_iterator = skf.split(obs_ids, cell_ids)\n",
    "\n",
    "for i, (train_idx, test_idx) in enumerate(split_iterator, 1):\n",
    "    train_cell_ids = cell_ids[train_idx]\n",
    "    train_obs_ids = obs_ids[train_idx]\n",
    "    test_obs_ids = obs_ids[test_idx]\n",
    "\n",
    "    train_obs_ids, val_obs_ids = train_test_split(\n",
    "        train_obs_ids,\n",
    "        random_state=SEED,\n",
    "        stratify=train_cell_ids,\n",
    "        test_size=0.11,\n",
    "    )\n",
    "\n",
    "    with open(mixed_folder / f\"train_{i}.pickle\", \"wb\") as fh:\n",
    "        pickle.dump(train_obs_ids.tolist(), fh)\n",
    "\n",
    "    with open(mixed_folder / f\"val_{i}.pickle\", \"wb\") as fh:\n",
    "        pickle.dump(val_obs_ids.tolist(), fh)\n",
    "\n",
    "    with open(mixed_folder / f\"test_{i}.pickle\", \"wb\") as fh:\n",
    "        pickle.dump(test_obs_ids.tolist(), fh)"
   ]
  },
  {
   "cell_type": "code",
   "execution_count": null,
   "metadata": {},
   "outputs": [],
   "source": []
  }
 ],
 "metadata": {
  "kernelspec": {
   "display_name": "cdrpy-tf-cpu",
   "language": "python",
   "name": "python3"
  },
  "language_info": {
   "codemirror_mode": {
    "name": "ipython",
    "version": 3
   },
   "file_extension": ".py",
   "mimetype": "text/x-python",
   "name": "python",
   "nbconvert_exporter": "python",
   "pygments_lexer": "ipython3",
   "version": "3.9.13"
  }
 },
 "nbformat": 4,
 "nbformat_minor": 2
}
