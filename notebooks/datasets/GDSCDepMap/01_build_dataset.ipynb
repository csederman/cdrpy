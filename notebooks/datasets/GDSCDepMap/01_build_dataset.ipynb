{
 "cells": [
  {
   "attachments": {},
   "cell_type": "markdown",
   "metadata": {},
   "source": [
    "# Build a harmonized dataset for model benchmarking studies.\n",
    "\n",
    "For the first paper, it is okay to use the minimal dataset. For the next paper,\n",
    "I should create a larger datset for just training my model and the interpretability and for comparisons, I just use a subset that is shared across them.\n",
    "\n",
    "GO BACK TO JUST USING THE NORMALIZATION LAYER SINCE THIS CAN BE INTEGRATED INTO THE MODEL\n",
    "\n",
    "Harmonize DrugCell\n",
    "\n",
    "1. consider using the DepMap dataset instead for DeepCDR compatability\n",
    "2. get lists of drug targets and and SMILES strings\n",
    "\n",
    "\n",
    "1. reogranize - datasets folder (current inputs folder)\n",
    "   1. inputs folder - subfolder for each model with their inputs - each model has subfolder for each dataset with inputs\n",
    "2. refactor screendl model\n",
    "   1. ScreenDLModelWrapper, build_screendl_model, ScreenDL"
   ]
  },
  {
   "cell_type": "code",
   "execution_count": null,
   "metadata": {},
   "outputs": [],
   "source": [
    "from __future__ import annotations\n",
    "\n",
    "import pandas as pd\n",
    "import numpy as np\n",
    "\n",
    "from pathlib import Path"
   ]
  },
  {
   "cell_type": "code",
   "execution_count": null,
   "metadata": {},
   "outputs": [],
   "source": [
    "gdsc_folder = Path(\"../../../data/processed/GDSC\")\n",
    "depmap_folder = Path(\"../../../data/raw/DepMap\")\n",
    "genelist_folder =  Path(\"../../../data/genelists\")"
   ]
  },
  {
   "cell_type": "code",
   "execution_count": null,
   "metadata": {},
   "outputs": [],
   "source": [
    "dataset_folder = Path(\"../../../data/datasets/GDSCv2DepMap\")\n",
    "dataset_folder.mkdir(exist_ok=True)"
   ]
  },
  {
   "cell_type": "code",
   "execution_count": null,
   "metadata": {},
   "outputs": [],
   "source": [
    "drug_info = pd.read_csv(gdsc_folder / \"DrugAnnotations.csv\")\n",
    "screen_data = pd.read_csv(gdsc_folder / \"ScreenFittedDoseResponse.csv\")\n",
    "\n",
    "screen_data = screen_data[screen_data[\"dataset\"] == \"GDSC2\"]\n",
    "screen_data = screen_data.reset_index(drop=True)\n",
    "screen_data.head()"
   ]
  },
  {
   "cell_type": "code",
   "execution_count": null,
   "metadata": {},
   "outputs": [],
   "source": [
    "# load depmap model annotations\n",
    "model_info = pd.read_csv(depmap_folder / \"Model.csv\")\n",
    "model_info.head()"
   ]
  },
  {
   "cell_type": "code",
   "execution_count": null,
   "metadata": {},
   "outputs": [],
   "source": [
    "# create a mapping from depmap to sanger model ids\n",
    "depmap_to_sanger_id = model_info[[\"ModelID\", \"SangerModelID\"]].dropna()\n",
    "depmap_to_sanger_id = dict(\n",
    "    zip(depmap_to_sanger_id[\"ModelID\"], depmap_to_sanger_id[\"SangerModelID\"])\n",
    ")"
   ]
  },
  {
   "cell_type": "code",
   "execution_count": null,
   "metadata": {},
   "outputs": [],
   "source": [
    "# load the depmap expression data\n",
    "exp_data = pd.read_csv(\n",
    "    depmap_folder / \"OmicsExpressionProteinCodingGenesTPMLogp1.csv\",\n",
    "    index_col=0,\n",
    ")\n",
    "\n",
    "# map to sanger model ids\n",
    "exp_data = exp_data[exp_data.index.isin(depmap_to_sanger_id)]\n",
    "exp_data.index = exp_data.index.map(depmap_to_sanger_id)\n",
    "\n",
    "# parse columns and sort by gene name for convenience\n",
    "exp_data.columns = [str(c).split(\" \")[0] for c in exp_data.columns]\n",
    "exp_data = exp_data[sorted(exp_data.columns)].sort_index()\n",
    "\n",
    "exp_data.head()"
   ]
  },
  {
   "cell_type": "code",
   "execution_count": null,
   "metadata": {},
   "outputs": [],
   "source": [
    "# load somatic mutation data\n",
    "\n",
    "mut_data = pd.read_csv(\n",
    "    depmap_folder / \"OmicsSomaticMutations.csv\",\n",
    "    low_memory=False,\n",
    ")\n",
    "\n",
    "mut_data[\"SangerModelID\"] = mut_data[\"ModelID\"].map(depmap_to_sanger_id)\n",
    "mut_data = mut_data.dropna(subset=[\"SangerModelID\"])\n",
    "\n",
    "mut_data.head()"
   ]
  },
  {
   "cell_type": "code",
   "execution_count": null,
   "metadata": {},
   "outputs": [],
   "source": [
    "# load the copy number data\n",
    "cn_data = pd.read_csv(depmap_folder / \"OmicsCNGene.csv\", index_col=0)\n",
    "\n",
    "# map to sanger model ids\n",
    "cn_data = cn_data[cn_data.index.isin(depmap_to_sanger_id)]\n",
    "cn_data.index = cn_data.index.map(depmap_to_sanger_id)\n",
    "\n",
    "# parse columns and sort by gene name for convenience\n",
    "cn_data.columns = [str(c).split(\" \")[0] for c in cn_data.columns]\n",
    "cn_data = cn_data[sorted(cn_data.columns)].sort_index()\n",
    "\n",
    "cn_data.head()"
   ]
  },
  {
   "cell_type": "code",
   "execution_count": null,
   "metadata": {},
   "outputs": [],
   "source": [
    "# load methylation data\n",
    "\n",
    "methyl_data = pd.read_csv(\n",
    "    depmap_folder / \"Methylation_(1kb_upstream_TSS).csv\",\n",
    "    index_col=0,\n",
    ")\n",
    "\n",
    "# map to sanger model ids\n",
    "methyl_data = methyl_data[methyl_data.index.isin(depmap_to_sanger_id)]\n",
    "methyl_data.index = methyl_data.index.map(depmap_to_sanger_id)\n",
    "\n",
    "# extract gene names from columns\n",
    "methyl_data.columns = [str(c).split(\"_\")[0] for c in methyl_data.columns]\n",
    "\n",
    "methyl_data.head()"
   ]
  },
  {
   "attachments": {},
   "cell_type": "markdown",
   "metadata": {},
   "source": [
    "## Harmonize Data Modalities"
   ]
  },
  {
   "cell_type": "code",
   "execution_count": null,
   "metadata": {},
   "outputs": [],
   "source": [
    "mut_cell_ids = set(mut_data[\"SangerModelID\"].unique().tolist())\n",
    "exp_cell_ids = set(exp_data.index.to_list())\n",
    "cn_cell_ids = set(cn_data.index.to_list())\n",
    "methyl_cell_ids = set(methyl_data.index.to_list())\n",
    "\n",
    "screen_cell_ids = set(screen_data[\"model_id\"].unique().tolist())\n",
    "\n",
    "common_cell_ids = set.intersection(\n",
    "    mut_cell_ids, exp_cell_ids, cn_cell_ids, screen_cell_ids\n",
    ")"
   ]
  },
  {
   "cell_type": "code",
   "execution_count": null,
   "metadata": {},
   "outputs": [],
   "source": [
    "# harmonize screen data\n",
    "\n",
    "screen_data_common = (\n",
    "    screen_data[screen_data[\"model_id\"].isin(common_cell_ids)][\n",
    "        [\"model_id\", \"canonical_smiles\", \"auc\", \"ln_ic50\"]\n",
    "    ]\n",
    "    .sort_values([\"model_id\", \"canonical_smiles\"])\n",
    "    .rename(columns={\"model_id\": \"cell_id\", \"canonical_smiles\": \"drug_id\"})\n",
    "    .reset_index(drop=True)\n",
    ")"
   ]
  },
  {
   "cell_type": "code",
   "execution_count": null,
   "metadata": {},
   "outputs": [],
   "source": [
    "screen_data_common[\"id\"] = range(screen_data_common.shape[0])\n",
    "\n",
    "screen_data_common.to_csv(\n",
    "    dataset_folder / \"ScreenDoseResponseLabels.csv\",\n",
    "    index=False,\n",
    ")"
   ]
  },
  {
   "cell_type": "code",
   "execution_count": null,
   "metadata": {},
   "outputs": [],
   "source": [
    "# harmonize omics data\n",
    "\n",
    "mut_data_common = mut_data[\n",
    "    mut_data[\"SangerModelID\"].isin(common_cell_ids)\n",
    "].reset_index(drop=True)\n",
    "\n",
    "exp_data_common = exp_data.loc[list(common_cell_ids)].sort_index()\n",
    "\n",
    "cn_data_common = cn_data.loc[list(common_cell_ids)].sort_index()"
   ]
  },
  {
   "cell_type": "code",
   "execution_count": null,
   "metadata": {},
   "outputs": [],
   "source": [
    "mut_data_common.to_csv(\n",
    "    dataset_folder / \"OmicsSomaticMutationsHarmonizedMAF.csv\",\n",
    "    index=False,\n",
    ")"
   ]
  },
  {
   "cell_type": "code",
   "execution_count": null,
   "metadata": {},
   "outputs": [],
   "source": [
    "exp_data_common = exp_data_common.rename_axis(index=\"model_id\")\n",
    "exp_data_common.to_csv(\n",
    "    dataset_folder / \"OmicsExpressionProteinCodingGenesTPMLogp1.csv\"\n",
    ")"
   ]
  },
  {
   "cell_type": "code",
   "execution_count": null,
   "metadata": {},
   "outputs": [],
   "source": [
    "cn_data_common = cn_data_common.rename_axis(index=\"model_id\")\n",
    "cn_data_common.to_csv(\n",
    "    dataset_folder / \"OmicsCNGeneCNRatioLogp1.csv\"\n",
    ")"
   ]
  },
  {
   "cell_type": "code",
   "execution_count": null,
   "metadata": {},
   "outputs": [],
   "source": [
    "model_info_common = model_info[\n",
    "    model_info[\"SangerModelID\"].isin(common_cell_ids)\n",
    "].drop_duplicates(subset=[\"SangerModelID\"])\n",
    "\n",
    "col_mapping = {\n",
    "    \"SangerModelID\": \"model_id\",\n",
    "    \"OncotreeCode\": \"oncotree_code\",\n",
    "    \"OncotreePrimaryDisease\": \"oncotree_primary_disease\",\n",
    "    \"OncotreeLineage\": \"oncotree_lineage\",\n",
    "}\n",
    "model_info_common = model_info_common[list(col_mapping)].rename(\n",
    "    columns=col_mapping\n",
    ")\n",
    "\n",
    "model_info_common.to_csv(\n",
    "    dataset_folder / \"CellLineOncotreeAnnotations.csv\", index=False\n",
    ")"
   ]
  },
  {
   "cell_type": "code",
   "execution_count": null,
   "metadata": {},
   "outputs": [],
   "source": [
    "common_smiles = screen_data_common[\"drug_id\"].unique()\n",
    "drug_info_common = drug_info[drug_info[\"canonical_smiles\"].isin(common_smiles)]\n",
    "\n",
    "drug_info_common.to_csv(dataset_folder / \"DrugAnnotations.csv\", index=False)"
   ]
  }
 ],
 "metadata": {
  "kernelspec": {
   "display_name": "cdrpy-tf-cpu",
   "language": "python",
   "name": "python3"
  },
  "language_info": {
   "codemirror_mode": {
    "name": "ipython",
    "version": 3
   },
   "file_extension": ".py",
   "mimetype": "text/x-python",
   "name": "python",
   "nbconvert_exporter": "python",
   "pygments_lexer": "ipython3",
   "version": "3.9.13"
  }
 },
 "nbformat": 4,
 "nbformat_minor": 2
}
