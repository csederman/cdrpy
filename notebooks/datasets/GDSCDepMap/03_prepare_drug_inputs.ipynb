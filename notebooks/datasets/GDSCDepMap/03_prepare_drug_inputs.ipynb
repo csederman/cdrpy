{
 "cells": [
  {
   "attachments": {},
   "cell_type": "markdown",
   "metadata": {},
   "source": [
    "# Prepare Input Features\n",
    "\n",
    "Just create a DictEncoder class that takes a dict and provides some utility methods"
   ]
  },
  {
   "cell_type": "code",
   "execution_count": null,
   "metadata": {},
   "outputs": [],
   "source": [
    "# NOTE: Why do we need to precompute the features? - bc for features with random walks\n",
    "#   and similar features we want them to be the same.\n",
    "# NOTE: Just have a DictEncoder class that has a from_frame method that can take a dataframe and an index\n",
    "# column and create the encoding dictionary\n",
    "# NOTE: The dataset needs to exist as a join table (the responses) and independent features\n",
    "#   that get registered with the datsets\n",
    "#   When we encode the dataset, the features are encoded along the join table\n",
    "#   The features should exist a singletons since the are dict based\n",
    "# NOTE: Can have different version of the encoders for dict, dataframe, etc.\n",
    "# NOTE: We want to keep things as dataframes where possible so we can reconsitute things for interpretation and analysis"
   ]
  },
  {
   "cell_type": "code",
   "execution_count": null,
   "metadata": {},
   "outputs": [],
   "source": [
    "from __future__ import annotations\n",
    "\n",
    "import pickle\n",
    "\n",
    "import deepchem as dc\n",
    "import pandas as pd\n",
    "import polars as pl\n",
    "import numpy as np\n",
    "import typing as t\n",
    "\n",
    "from pathlib import Path\n",
    "from sklearn.impute import KNNImputer\n",
    "\n",
    "from rdkit import Chem\n",
    "from rdkit.Chem import AllChem as AllChem\n",
    "from rdkit.Chem import Descriptors, MACCSkeys\n",
    "from rdkit.Chem.rdchem import Mol as RDKitMol\n",
    "from rdkit.ML.Descriptors import MoleculeDescriptors"
   ]
  },
  {
   "cell_type": "code",
   "execution_count": null,
   "metadata": {},
   "outputs": [],
   "source": [
    "dataset_folder = Path(\"../../../data/datasets/GDSCv2DepMap\")\n",
    "genelist_folder =  Path(\"../../../data/genelists\")\n",
    "\n",
    "input_folder = Path(\"../../../data/inputs/GDSCv2DepMap\")\n",
    "input_folder.mkdir(exist_ok=True, parents=True)"
   ]
  },
  {
   "cell_type": "code",
   "execution_count": null,
   "metadata": {},
   "outputs": [],
   "source": [
    "# load drug screening data\n",
    "\n",
    "screen_data = pd.read_csv(dataset_folder / \"ScreenDoseResponseLabels.csv\")\n",
    "screen_data.head()"
   ]
  },
  {
   "cell_type": "code",
   "execution_count": null,
   "metadata": {},
   "outputs": [],
   "source": [
    "smiles_strs = screen_data[\"drug_id\"].unique()"
   ]
  },
  {
   "cell_type": "code",
   "execution_count": null,
   "metadata": {},
   "outputs": [],
   "source": [
    "# 512 bit morgan fingerprints\n",
    "\n",
    "smiles_to_morgan_512 = []\n",
    "for smiles in smiles_strs:\n",
    "    mol = Chem.MolFromSmiles(smiles)\n",
    "    fp = AllChem.GetMorganFingerprintAsBitVect(mol, 2, nBits=512)\n",
    "    smiles_to_morgan_512.append([smiles, *list(fp)])\n",
    "\n",
    "smiles_to_morgan_512 = pd.DataFrame(smiles_to_morgan_512)\n",
    "smiles_to_morgan_512.columns = [\"drug_id\", *list(map(str, range(512)))]\n",
    "\n",
    "# smiles_to_morgan_512.to_csv(\n",
    "#     input_folder / \"DrugToMorganFingerprint512Bit.csv\",\n",
    "#     index=False,\n",
    "# )"
   ]
  },
  {
   "cell_type": "code",
   "execution_count": null,
   "metadata": {},
   "outputs": [],
   "source": [
    "# 1024 bit morgan fingerprints\n",
    "\n",
    "smiles_to_morgan_1024 = []\n",
    "for smiles in smiles_strs:\n",
    "    mol = Chem.MolFromSmiles(smiles)\n",
    "    fp = AllChem.GetMorganFingerprintAsBitVect(mol, 2, nBits=1024)\n",
    "    smiles_to_morgan_1024.append([smiles, *list(fp)])\n",
    "\n",
    "smiles_to_morgan_1024 = pd.DataFrame(smiles_to_morgan_1024)\n",
    "smiles_to_morgan_1024.columns = [\"drug_id\", *list(map(str, range(1024)))]\n",
    "\n",
    "# smiles_to_morgan_1024.to_csv(\n",
    "#     input_folder / \"DrugToMorganFingerprint1024Bit.csv\",\n",
    "#     index=False,\n",
    "# )"
   ]
  },
  {
   "cell_type": "code",
   "execution_count": null,
   "metadata": {},
   "outputs": [],
   "source": [
    "# 2048 bit morgan fingerprints\n",
    "\n",
    "smiles_to_morgan_2048 = []\n",
    "for smiles in smiles_strs:\n",
    "    mol = Chem.MolFromSmiles(smiles)\n",
    "    fp = AllChem.GetMorganFingerprintAsBitVect(mol, 2, nBits=2048)\n",
    "    smiles_to_morgan_2048.append([smiles, *list(fp)])\n",
    "\n",
    "smiles_to_morgan_2048 = pd.DataFrame(smiles_to_morgan_2048)\n",
    "smiles_to_morgan_2048.columns = [\"drug_id\", *list(map(str, range(2048)))]\n",
    "\n",
    "# smiles_to_morgan_2048.to_csv(\n",
    "#     input_folder / \"DrugToMorganFingerprint2048Bit.csv\",\n",
    "#     index=False,\n",
    "# )"
   ]
  },
  {
   "cell_type": "code",
   "execution_count": null,
   "metadata": {},
   "outputs": [],
   "source": [
    "# conv mol features\n",
    "\n",
    "smiles_to_graph_features = {}\n",
    "for smiles in smiles_strs:\n",
    "    mol = Chem.MolFromSmiles(smiles)\n",
    "    featurizer = dc.feat.graph_features.ConvMolFeaturizer()\n",
    "    mol_object = featurizer.featurize([mol])\n",
    "\n",
    "    smiles_to_graph_features[smiles] = (\n",
    "        mol_object[0].atom_features,\n",
    "        mol_object[0].deg_list,\n",
    "        mol_object[0].canon_adj_list,\n",
    "    )\n",
    "\n",
    "# check that there are no nan feature values\n",
    "assert (\n",
    "    np.max([np.isnan(v[0]).sum() for v in smiles_to_graph_features.values()])\n",
    "    == 0\n",
    ")\n",
    "\n",
    "# with open(input_folder / \"DrugToConvMolFeatures.pickle\", \"wb\") as fh:\n",
    "#     pickle.dump(smiles_to_graph_features, fh)"
   ]
  },
  {
   "cell_type": "code",
   "execution_count": null,
   "metadata": {},
   "outputs": [],
   "source": [
    "# molecule descriptors\n",
    "\n",
    "desc_list = [x[0] for x in Descriptors._descList]\n",
    "calc = MoleculeDescriptors.MolecularDescriptorCalculator(desc_list)\n",
    "\n",
    "smiles_to_descriptors = []\n",
    "for smiles in smiles_strs:\n",
    "    mol = Chem.MolFromSmiles(smiles)\n",
    "    ds = calc.CalcDescriptors(mol)\n",
    "    smiles_to_descriptors.append([smiles, *list(ds)])\n",
    "\n",
    "desc_names = list(calc.GetDescriptorNames())\n",
    "smiles_to_descriptors = pd.DataFrame(\n",
    "    smiles_to_descriptors, columns=[\"drug_id\", *desc_names]\n",
    ")\n",
    "\n",
    "imputer = KNNImputer(n_neighbors=2)\n",
    "smiles_to_descriptors.iloc[:, 1:] = imputer.fit_transform(\n",
    "    smiles_to_descriptors.iloc[:, 1:]\n",
    ")\n",
    "\n",
    "smiles_to_descriptors.to_csv(\n",
    "    input_folder / \"DrugToMoleculeDescriptors.csv\",\n",
    "    index=False,\n",
    ")"
   ]
  },
  {
   "cell_type": "code",
   "execution_count": null,
   "metadata": {},
   "outputs": [],
   "source": [
    "# MACCS encoding\n",
    "\n",
    "smiles_to_maccs = []\n",
    "for smiles in smiles_strs:\n",
    "    mol = Chem.MolFromSmiles(smiles)\n",
    "    maccs = MACCSkeys.GenMACCSKeys(mol).ToBitString()\n",
    "    smiles_to_maccs.append([smiles, *list(maccs)])\n",
    "\n",
    "smiles_to_maccs = pd.DataFrame(\n",
    "    smiles_to_maccs, columns=[\"drug_id\", *list(map(str, range(167)))]\n",
    ")\n",
    "\n",
    "smiles_to_descriptors.to_csv(\n",
    "    input_folder / \"DrugToMACCSKeys.csv\",\n",
    "    index=False,\n",
    ")"
   ]
  },
  {
   "cell_type": "code",
   "execution_count": null,
   "metadata": {},
   "outputs": [],
   "source": [
    "# Mordred features\n",
    "# NOTE: Only required for tDNN\n",
    "\n",
    "# from mordred import Calculator, descriptors\n",
    "# from mordred.RingCount import RingCount\n",
    "\n",
    "# # NOTE: these will need KNN imputer for NaN values\n",
    "\n",
    "# def get_ringsizes(mol: RDKitMol) -> list[int]:\n",
    "#     \"\"\"Returns counts of macrolide rings for ring sizes from 3 to 100\"\"\"\n",
    "#     rs = [RingCount(order=o)(mol) for o in range(3, 101)]\n",
    "#     nonzero_inds = np.nonzero(rs)[0]\n",
    "#     if len(nonzero_inds) > 0:\n",
    "#         rs.extend([nonzero_inds[0], nonzero_inds[-1]])\n",
    "#     else:\n",
    "#         rs.extend([0, 0])\n",
    "\n",
    "\n",
    "# calc = Calculator(descriptors, ignore_3D=True)\n",
    "\n",
    "# # Just going to \n",
    "# mols = [Chem.MolFromSmiles(s) for s in smiles_strs]\n",
    "# descs = calc.pandas(mols, quiet=True)"
   ]
  }
 ],
 "metadata": {
  "kernelspec": {
   "display_name": "cdrpy-tf-cpu",
   "language": "python",
   "name": "python3"
  },
  "language_info": {
   "codemirror_mode": {
    "name": "ipython",
    "version": 3
   },
   "file_extension": ".py",
   "mimetype": "text/x-python",
   "name": "python",
   "nbconvert_exporter": "python",
   "pygments_lexer": "ipython3",
   "version": "3.9.13"
  }
 },
 "nbformat": 4,
 "nbformat_minor": 2
}
