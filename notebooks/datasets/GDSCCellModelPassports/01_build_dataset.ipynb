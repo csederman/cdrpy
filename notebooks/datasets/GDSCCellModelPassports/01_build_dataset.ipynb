{
 "cells": [
  {
   "attachments": {},
   "cell_type": "markdown",
   "metadata": {},
   "source": [
    "# Prepare inputs for cell line data\n",
    "\n",
    "## DO NOT CHANGE THIS CODE:\n",
    "## Create folder under preprocessing for each dataset that is generated\n",
    "## Replicate or adjust these files within each of those folders"
   ]
  },
  {
   "cell_type": "code",
   "execution_count": null,
   "metadata": {},
   "outputs": [],
   "source": [
    "from __future__ import annotations\n",
    "\n",
    "import polars as pl\n",
    "import pandas as pd\n",
    "import numpy as np\n",
    "\n",
    "from pathlib import Path\n",
    "\n",
    "from rdkit import Chem\n",
    "from rdkit.Chem import AllChem as AllChem"
   ]
  },
  {
   "cell_type": "code",
   "execution_count": null,
   "metadata": {},
   "outputs": [],
   "source": [
    "gdsc_folder = Path(\"../../data/processed/GDSC\")\n",
    "cmp_folder = Path(\"../../data/processed/CellModelPassports\")\n",
    "genelist_folder =  Path(\"../../data/genelists\")"
   ]
  },
  {
   "cell_type": "code",
   "execution_count": null,
   "metadata": {},
   "outputs": [],
   "source": [
    "output_folder = Path(\"../../data/inputs/GDSCv1v2\")\n",
    "output_folder.mkdir(exist_ok=True)"
   ]
  },
  {
   "cell_type": "code",
   "execution_count": null,
   "metadata": {},
   "outputs": [],
   "source": [
    "drug_info = pl.read_csv(gdsc_folder / \"DrugAnnotations.csv\")\n",
    "screen_data = pl.read_csv(gdsc_folder / \"ScreenFittedDoseResponse.csv\")"
   ]
  },
  {
   "cell_type": "code",
   "execution_count": null,
   "metadata": {},
   "outputs": [],
   "source": [
    "model_info = pl.read_csv(cmp_folder / \"ModelAnnotations.csv\")\n",
    "mut_data = pl.read_csv(cmp_folder / \"OmicsDriverMutations.csv\")\n",
    "exp_data = pl.read_csv(\n",
    "    cmp_folder / \"OmicsExpressionProteinCodingGenesFPKMLogp1.csv\"\n",
    ")"
   ]
  },
  {
   "cell_type": "code",
   "execution_count": null,
   "metadata": {},
   "outputs": [],
   "source": [
    "mcg_genes = pl.read_csv(genelist_folder / \"VermaatMiniCancerGenome.csv\")\n",
    "mcg_genes = set(mcg_genes[\"HGNC_SYMBOL\"].to_list())"
   ]
  },
  {
   "cell_type": "code",
   "execution_count": null,
   "metadata": {},
   "outputs": [],
   "source": [
    "mp_genes = pl.read_csv(genelist_folder / \"MutPanningSignificantGenes.csv\")\n",
    "mp_genes = set(mp_genes[\"Gene\"].to_list())"
   ]
  },
  {
   "cell_type": "code",
   "execution_count": null,
   "metadata": {},
   "outputs": [],
   "source": [
    "exp_model_ids = set(exp_data[\"model_id\"].to_list())\n",
    "mut_model_ids = set(mut_data[\"model_id\"].to_list())\n",
    "screen_model_ids = set(screen_data[\"model_id\"].to_list())\n",
    "\n",
    "common_model_ids = set.intersection(\n",
    "    exp_model_ids, mut_model_ids, screen_model_ids\n",
    ")"
   ]
  },
  {
   "cell_type": "code",
   "execution_count": null,
   "metadata": {},
   "outputs": [],
   "source": [
    "filter_expr = pl.col(\"model_id\").is_in(common_model_ids)\n",
    "\n",
    "exp_data_harm = exp_data.filter(filter_expr).sort(\"model_id\")\n",
    "mut_data_harm = mut_data.filter(filter_expr).sort(\"model_id\")\n",
    "\n",
    "screen_data_harm = (\n",
    "    screen_data.filter(filter_expr)\n",
    "    .sort([\"model_id\", \"canonical_smiles\"])\n",
    "    .select([\"model_id\", \"canonical_smiles\", \"ln_ic50\", \"auc\"])\n",
    ")"
   ]
  },
  {
   "cell_type": "code",
   "execution_count": null,
   "metadata": {},
   "outputs": [],
   "source": [
    "exp_genes = set(exp_data_harm.columns[1:])\n",
    "exp_mcg_genes = set.intersection(exp_genes, mcg_genes)\n",
    "exp_mcg_genes = sorted(list(exp_mcg_genes))\n",
    "exp_data_harm_mcg_genes = exp_data_harm.select([\"model_id\", *exp_mcg_genes])\n",
    "exp_data_harm_mcg_genes.head()"
   ]
  },
  {
   "cell_type": "code",
   "execution_count": null,
   "metadata": {},
   "outputs": [],
   "source": [
    "mut_genes = set(mut_data_harm.columns[1:])\n",
    "mut_mp_genes = set.intersection(mut_genes, mp_genes)\n",
    "mut_mp_genes = sorted(list(mut_mp_genes))\n",
    "mut_data_harm_mp_genes = mut_data_harm.select([\"model_id\", *mut_mp_genes])\n",
    "mut_data_harm_mp_genes.head()"
   ]
  },
  {
   "cell_type": "code",
   "execution_count": null,
   "metadata": {},
   "outputs": [],
   "source": [
    "min_muts_per_gene = 5\n",
    "mut_counts = mut_data_harm_mp_genes.select(mut_mp_genes).sum()\n",
    "mut_counts = mut_counts.melt(variable_name=\"gene_symbol\", value_name=\"count\")\n",
    "\n",
    "mut_counts_filt = mut_counts.filter(pl.col(\"count\") >= min_muts_per_gene)\n",
    "keep_mut_genes = sorted(mut_counts_filt[\"gene_symbol\"].to_list())\n",
    "\n",
    "mut_data_harm_mp_genes = mut_data_harm_mp_genes.select(\n",
    "    [\"model_id\", *keep_mut_genes]\n",
    ")\n",
    "mut_data_harm_mp_genes.head()"
   ]
  },
  {
   "cell_type": "code",
   "execution_count": null,
   "metadata": {},
   "outputs": [],
   "source": [
    "len(exp_data_harm_mcg_genes.columns[1:])"
   ]
  },
  {
   "cell_type": "code",
   "execution_count": null,
   "metadata": {},
   "outputs": [],
   "source": [
    "mut_data_harm_mp_genes.write_csv(\n",
    "    output_folder / \"FeatureOmicsDriverMutations186MutPanningGenes.csv\"\n",
    ")\n",
    "exp_data_harm_mcg_genes.write_csv(\n",
    "    output_folder\n",
    "    / \"FeatureOmicsExpression1771MiniCancerGenomeGenesFPKMLogp1.csv\"\n",
    ")"
   ]
  },
  {
   "cell_type": "code",
   "execution_count": null,
   "metadata": {},
   "outputs": [],
   "source": [
    "smiles_strs = screen_data_harm[\"canonical_smiles\"].unique().sort()\n",
    "fingerprints = []\n",
    "for smiles in smiles_strs:\n",
    "    mol = Chem.MolFromSmiles(smiles)\n",
    "    fp = AllChem.GetMorganFingerprintAsBitVect(mol, 2, nBits=1024)\n",
    "    fingerprints.append([smiles, *list(fp)])\n",
    "\n",
    "fingerprints = pl.DataFrame(fingerprints)\n",
    "fingerprints.columns = [\"drug_id\", *list(map(str, range(1024)))]\n",
    "fingerprints.head()"
   ]
  },
  {
   "cell_type": "code",
   "execution_count": null,
   "metadata": {},
   "outputs": [],
   "source": [
    "fingerprints.write_csv(\n",
    "    output_folder / \"FeatureChemMorganFingerprint1024Bit.csv\"\n",
    ")"
   ]
  },
  {
   "cell_type": "code",
   "execution_count": null,
   "metadata": {},
   "outputs": [],
   "source": [
    "screen_data_harm = screen_data_harm.with_row_count(\"id\")\n",
    "screen_data_harm.head()"
   ]
  },
  {
   "cell_type": "code",
   "execution_count": null,
   "metadata": {},
   "outputs": [],
   "source": [
    "screen_data_harm.rename(\n",
    "    {\"model_id\": \"cell_id\", \"canonical_smiles\": \"drug_id\"}\n",
    ").write_csv(output_folder / \"LabelDoseResponse.csv\")"
   ]
  },
  {
   "cell_type": "code",
   "execution_count": null,
   "metadata": {},
   "outputs": [],
   "source": [
    "model_info_harm = (\n",
    "    model_info.filter(pl.col(\"model_id\").is_in(common_model_ids))\n",
    "    .select([\"model_id\", \"tissue\", \"cancer_type\", \"cancer_type_detail\"])\n",
    "    .sort(\"model_id\")\n",
    ")\n",
    "\n",
    "model_info_harm.write_csv(output_folder / \"MetaModelAnnotations.csv\")"
   ]
  }
 ],
 "metadata": {
  "kernelspec": {
   "display_name": "cdrpy-cpu",
   "language": "python",
   "name": "python3"
  },
  "language_info": {
   "codemirror_mode": {
    "name": "ipython",
    "version": 3
   },
   "file_extension": ".py",
   "mimetype": "text/x-python",
   "name": "python",
   "nbconvert_exporter": "python",
   "pygments_lexer": "ipython3",
   "version": "3.9.13"
  }
 },
 "nbformat": 4,
 "nbformat_minor": 2
}
