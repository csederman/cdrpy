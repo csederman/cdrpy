{
 "cells": [
  {
   "attachments": {},
   "cell_type": "markdown",
   "metadata": {},
   "source": [
    "# Exploration and visualization of Welm lab organoid data"
   ]
  },
  {
   "cell_type": "code",
   "execution_count": null,
   "metadata": {},
   "outputs": [],
   "source": [
    "import colorcet as cc\n",
    "import pandas as pd\n",
    "import polars as pl\n",
    "import numpy as np\n",
    "\n",
    "from bokeh.io import output_notebook\n",
    "from bokeh.models import ColumnDataSource, Label\n",
    "from bokeh.palettes import Category10, Category20\n",
    "from bokeh.plotting import figure, show\n",
    "from bokeh.transform import factor_cmap\n",
    "\n",
    "from pathlib import Path\n",
    "from scipy import stats\n",
    "\n",
    "from sklearn import metrics\n",
    "from sklearn.decomposition import PCA\n",
    "from sklearn.manifold import TSNE\n",
    "from sklearn.preprocessing import StandardScaler\n",
    "from sklearn.cluster import KMeans"
   ]
  },
  {
   "cell_type": "code",
   "execution_count": null,
   "metadata": {},
   "outputs": [],
   "source": [
    "output_notebook()"
   ]
  },
  {
   "cell_type": "code",
   "execution_count": null,
   "metadata": {},
   "outputs": [],
   "source": [
    "data_folder = Path(\"../../../../CDRP-benchmarking-analysis/data/raw\")\n",
    "welm_data_folder = data_folder / \"Welm\"\n",
    "welm_omics_folder = welm_data_folder / \"omics\"\n",
    "welm_screen_folder = welm_data_folder / \"screen\""
   ]
  },
  {
   "cell_type": "code",
   "execution_count": null,
   "metadata": {},
   "outputs": [],
   "source": [
    "screen_id_map = pd.read_csv(welm_screen_folder / \"idMAP.txt\", sep=\"\\t\")\n",
    "screen_id_map[\"Adjusted\"] = screen_id_map[\"Adjusted\"].map(\n",
    "    lambda id: str(id).replace(\"-\", \"\")\n",
    ")\n",
    "screen_id_map.columns = [\"model_id_original\", \"model_id_adjusted\"]"
   ]
  },
  {
   "cell_type": "code",
   "execution_count": null,
   "metadata": {},
   "outputs": [],
   "source": [
    "file_fmt = str(welm_screen_folder / \"Combined.Screen{}.gr50.scores.txt\")\n",
    "\n",
    "welm_screen_a_data = pd.read_csv(file_fmt.format(\"A\"), sep=\"\\t\")\n",
    "welm_screen_a_data[\"screen_id\"] = \"A\"\n",
    "\n",
    "welm_screen_b_data = pd.read_csv(file_fmt.format(\"B\"), sep=\"\\t\")\n",
    "welm_screen_b_data[\"screen_id\"] = \"B\"\n",
    "\n",
    "welm_screen_c_data = pd.read_csv(file_fmt.format(\"C\"), sep=\"\\t\")\n",
    "welm_screen_c_data[\"screen_id\"] = \"C\""
   ]
  },
  {
   "cell_type": "code",
   "execution_count": null,
   "metadata": {},
   "outputs": [],
   "source": [
    "welm_screens = [welm_screen_a_data, welm_screen_b_data, welm_screen_c_data]\n",
    "welm_screen_data = pd.concat(welm_screens).merge(\n",
    "    screen_id_map, left_on=\"HCIid\", right_on=\"model_id_adjusted\", how=\"inner\"\n",
    ")\n",
    "\n",
    "welm_screen_data.head()"
   ]
  },
  {
   "cell_type": "code",
   "execution_count": null,
   "metadata": {},
   "outputs": [],
   "source": [
    "nan_vals = [np.nan, np.inf, -np.inf]\n",
    "welm_screen_data = welm_screen_data[~welm_screen_data[\"IC50\"].isin(nan_vals)]\n",
    "welm_screen_data[\"LN_IC50\"] = np.log(welm_screen_data[\"IC50\"])\n",
    "welm_screen_data[\"LN_EC50\"] = np.log(welm_screen_data[\"EC50\"])\n",
    "\n",
    "groups = welm_screen_data.groupby(\"drug\", group_keys=False)\n",
    "ic50_zscores = groups.apply(lambda g: stats.zscore(g[\"LN_IC50\"])).to_frame(\n",
    "    name=\"ZSCORE_LN_IC50\"\n",
    ")\n",
    "ec50_zscores = groups.apply(lambda g: stats.zscore(g[\"LN_EC50\"])).to_frame(\n",
    "    name=\"ZSCORE_LN_EC50\"\n",
    ")\n",
    "\n",
    "welm_screen_data = welm_screen_data.join(ic50_zscores).join(ec50_zscores)\n",
    "welm_screen_data.head()"
   ]
  },
  {
   "cell_type": "code",
   "execution_count": null,
   "metadata": {},
   "outputs": [],
   "source": [
    "corr = stats.pearsonr(welm_screen_data[\"LN_IC50\"], welm_screen_data[\"LN_EC50\"])\n",
    "print(\"ln(IC50) : ln(EC50)\", corr)\n",
    "\n",
    "corr = stats.pearsonr(\n",
    "    welm_screen_data[\"ZSCORE_LN_IC50\"], welm_screen_data[\"ZSCORE_LN_EC50\"]\n",
    ")\n",
    "print(\"zscore ln(IC50) : zscore ln(EC50)\", corr)"
   ]
  },
  {
   "cell_type": "code",
   "execution_count": null,
   "metadata": {},
   "outputs": [],
   "source": [
    "welm_rnaseq_fpkm_file = (\n",
    "    welm_omics_folder / \"combined.FPKM.welmRNA.wide.cleaned.txt\"\n",
    ")\n",
    "welm_rnaseq_fpkm = pd.read_csv(welm_rnaseq_fpkm_file, sep=\"\\t\")\n",
    "\n",
    "welm_rnaseq_fpkm.head()"
   ]
  },
  {
   "cell_type": "code",
   "execution_count": null,
   "metadata": {},
   "outputs": [],
   "source": [
    "welm_rnaseq_samples = welm_rnaseq_fpkm.columns[2:]\n",
    "welm_rnaseq_sample_metadata = [[c, *c.split(\"_\")] for c in welm_rnaseq_samples]\n",
    "welm_rnaseq_sample_metadata = pd.DataFrame(\n",
    "    welm_rnaseq_sample_metadata,\n",
    "    columns=[\n",
    "        \"rna_sample_id\",\n",
    "        \"model_id\",\n",
    "        \"model_type\",\n",
    "        \"model_passage\",\n",
    "        \"model_organoid_day\",\n",
    "        \"rna_seq_method\",\n",
    "        \"rna_seq_accession\",\n",
    "    ],\n",
    ")\n",
    "welm_rnaseq_sample_metadata[\"has_rna\"] = True\n",
    "welm_rnaseq_sample_metadata.head()"
   ]
  },
  {
   "cell_type": "code",
   "execution_count": null,
   "metadata": {},
   "outputs": [],
   "source": [
    "# convert to feature matrix with shape (n_samples, n_features)\n",
    "welm_rnaseq_fpkm_t = welm_rnaseq_fpkm[welm_rnaseq_samples].transpose()\n",
    "welm_rnaseq_genes = welm_rnaseq_fpkm[\"Approved symbol\"].to_list()\n",
    "welm_rnaseq_fpkm_t.columns = welm_rnaseq_genes\n",
    "welm_rnaseq_fpkm_t = welm_rnaseq_fpkm_t.rename_axis(\n",
    "    index=\"sample_id\", columns=\"gene_id\"\n",
    ")\n",
    "\n",
    "welm_rnaseq_log2fpkm_t: pd.DataFrame = np.log2(welm_rnaseq_fpkm_t + 1)\n",
    "welm_rnaseq_log2fpkm_t.head()"
   ]
  },
  {
   "cell_type": "code",
   "execution_count": null,
   "metadata": {},
   "outputs": [],
   "source": [
    "# reduce dimensionality for visualization of expression data\n",
    "\n",
    "reducer = TSNE(n_components=2, random_state=41)\n",
    "\n",
    "X = welm_rnaseq_log2fpkm_t.to_numpy()\n",
    "X_scaled = StandardScaler().fit_transform(X)\n",
    "X_reduced = reducer.fit_transform(X_scaled)"
   ]
  },
  {
   "cell_type": "code",
   "execution_count": null,
   "metadata": {},
   "outputs": [],
   "source": [
    "X_df = (\n",
    "    pd.DataFrame(\n",
    "        X_reduced,\n",
    "        index=welm_rnaseq_log2fpkm_t.index,\n",
    "        columns=[\"tsne_1\", \"tsne_2\"],\n",
    "    )\n",
    "    .reset_index()\n",
    "    .merge(\n",
    "        welm_rnaseq_sample_metadata,\n",
    "        left_on=\"sample_id\",\n",
    "        right_on=\"rna_sample_id\",\n",
    "    )\n",
    ")\n",
    "\n",
    "X_df.head()"
   ]
  },
  {
   "cell_type": "code",
   "execution_count": null,
   "metadata": {},
   "outputs": [],
   "source": [
    "n_clusters = len(X_df[\"model_id\"].unique())\n",
    "clustering = KMeans(n_clusters=n_clusters, n_init=\"auto\", random_state=41).fit(\n",
    "    X_scaled\n",
    ")\n",
    "\n",
    "X_df[\"cluster_label\"] = clustering.labels_\n",
    "X_df.head()"
   ]
  },
  {
   "cell_type": "code",
   "execution_count": null,
   "metadata": {},
   "outputs": [],
   "source": [
    "print(metrics.rand_score(X_df[\"model_id\"], X_df[\"cluster_label\"]))\n",
    "print(\n",
    "    metrics.normalized_mutual_info_score(X_df[\"model_id\"], X_df[\"cluster_label\"])\n",
    ")"
   ]
  },
  {
   "cell_type": "code",
   "execution_count": null,
   "metadata": {},
   "outputs": [],
   "source": [
    "# only plot models with more than one sample\n",
    "\n",
    "model_id_counts = X_df[\"model_id\"].value_counts()\n",
    "keep_model_ids = model_id_counts[model_id_counts > 1].index\n",
    "X_df_plot = X_df[X_df[\"model_id\"].isin(keep_model_ids)]\n",
    "X_df_plot.head()"
   ]
  },
  {
   "cell_type": "code",
   "execution_count": null,
   "metadata": {},
   "outputs": [],
   "source": [
    "source = ColumnDataSource(X_df_plot)\n",
    "\n",
    "factors = X_df_plot[\"model_id\"].unique()\n",
    "cmap = dict(zip(factors, cc.glasbey_light))\n",
    "cmap = factor_cmap(\n",
    "    \"model_id\", palette=list(cmap.values()), factors=list(cmap.keys())\n",
    ")\n",
    "\n",
    "TOOLTIPS = [\n",
    "    (\"ID\", \"@model_id\"),\n",
    "    (\"Type\", \"@model_type\"),\n",
    "    (\"Passage\", \"@model_passage\"),\n",
    "    (\"Seq Method\", \"@rna_seq_method\"),\n",
    "    (\"Cluster\", \"@cluster_label\"),\n",
    "]\n",
    "\n",
    "p = figure(\n",
    "    width=1500,\n",
    "    height=900,\n",
    "    tools=\"hover\",\n",
    "    tooltips=TOOLTIPS,\n",
    "    title=\"TSNE: Welm gene expression\",\n",
    ")\n",
    "\n",
    "p.scatter(\n",
    "    \"tsne_1\", \"tsne_2\", color=cmap, source=source, size=20, fill_alpha=0.6\n",
    ")\n",
    "\n",
    "p.xaxis.axis_label = \"TSNE 1\"\n",
    "p.yaxis.axis_label = \"TSNE 2\"\n",
    "\n",
    "show(p)"
   ]
  },
  {
   "cell_type": "code",
   "execution_count": null,
   "metadata": {},
   "outputs": [],
   "source": []
  }
 ],
 "metadata": {
  "kernelspec": {
   "display_name": "cdrpy-cpu",
   "language": "python",
   "name": "python3"
  },
  "language_info": {
   "codemirror_mode": {
    "name": "ipython",
    "version": 3
   },
   "file_extension": ".py",
   "mimetype": "text/x-python",
   "name": "python",
   "nbconvert_exporter": "python",
   "pygments_lexer": "ipython3",
   "version": "3.8.16"
  }
 },
 "nbformat": 4,
 "nbformat_minor": 2
}
