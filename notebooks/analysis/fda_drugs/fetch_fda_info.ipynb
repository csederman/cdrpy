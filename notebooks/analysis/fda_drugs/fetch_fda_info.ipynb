{
 "cells": [
  {
   "attachments": {},
   "cell_type": "markdown",
   "metadata": {},
   "source": [
    "# Fetch FDA approval annotations"
   ]
  },
  {
   "cell_type": "code",
   "execution_count": null,
   "metadata": {},
   "outputs": [],
   "source": [
    "from __future__ import annotations\n",
    "\n",
    "import re\n",
    "import requests\n",
    "import pandas as pd\n",
    "\n",
    "from bs4 import BeautifulSoup, Tag, NavigableString\n",
    "from pathlib import Path\n",
    "from urllib import parse"
   ]
  },
  {
   "attachments": {},
   "cell_type": "markdown",
   "metadata": {},
   "source": [
    "## Old"
   ]
  },
  {
   "cell_type": "code",
   "execution_count": null,
   "metadata": {},
   "outputs": [],
   "source": [
    "base_url = \"https://www.cancer.gov\""
   ]
  },
  {
   "cell_type": "code",
   "execution_count": null,
   "metadata": {},
   "outputs": [],
   "source": [
    "url = parse.urljoin(base_url, \"/about-cancer/treatment/drugs/cancer-type\")\n",
    "\n",
    "response = requests.get(url.format(\"/about-cancer/treatment/drugs/cancer-type\"))\n",
    "soup = BeautifulSoup(response.content, \"html.parser\")\n",
    "\n",
    "cancer_links = []\n",
    "article = soup.find(\"article\")\n",
    "for link in article.find_all(\"a\", href=True):\n",
    "    href = link[\"href\"]\n",
    "    if href.startswith(\"/about-cancer/treatment/drugs/\"):\n",
    "        cancer_links.append(link)"
   ]
  },
  {
   "cell_type": "code",
   "execution_count": null,
   "metadata": {},
   "outputs": [],
   "source": [
    "results = []\n",
    "for cancer_link in cancer_links:\n",
    "    cancer_name = cancer_link.text\n",
    "    cancer_id = cancer_link[\"href\"].split(\"/\")[-1]\n",
    "\n",
    "    response = requests.get(parse.urljoin(base_url, cancer_link[\"href\"]))\n",
    "    soup = BeautifulSoup(response.content, \"html.parser\")\n",
    "\n",
    "    article = soup.find(\"article\")\n",
    "    lists = article.select(\"ul:not(nav ul)\")\n",
    "\n",
    "    for lst in lists:\n",
    "        h2 = lst.find_previous(\"h2\")\n",
    "        for link in lst.find_all(\"a\", href=True):\n",
    "            href = link[\"href\"]\n",
    "            if href.startswith(\"/about-cancer/treatment/drugs\"):\n",
    "                drug_id = href.split(\"/\")[-1]\n",
    "                drug_name = link.text\n",
    "                results.append(\n",
    "                    [cancer_name, drug_name, h2.text, cancer_id, drug_id]\n",
    "                )"
   ]
  },
  {
   "cell_type": "code",
   "execution_count": null,
   "metadata": {},
   "outputs": [],
   "source": [
    "results_df = pd.DataFrame(\n",
    "    results,\n",
    "    columns=[\n",
    "        \"cancer_name\",\n",
    "        \"drug_name\",\n",
    "        \"indication\",\n",
    "        \"cancer_link_str\",\n",
    "        \"drug_link_str\",\n",
    "    ],\n",
    ")\n",
    "\n",
    "results_df[\"indication\"] = results_df[\"indication\"].str.strip(\"\\n\")\n",
    "results_df[\"cancer_name\"] = results_df[\"cancer_name\"].str.replace(\n",
    "    \"Drugs Approved for \", \"\"\n",
    ")\n",
    "\n",
    "results_df = results_df.sort_values([\"cancer_name\", \"indication\", \"drug_name\"])\n",
    "\n",
    "results_df.head()"
   ]
  },
  {
   "cell_type": "code",
   "execution_count": null,
   "metadata": {},
   "outputs": [],
   "source": [
    "results_df[\"indication\"][\n",
    "    results_df[\"indication\"].str.startswith(\"Drugs Approved to Prevent\")\n",
    "] = \"prevention\"\n",
    "\n",
    "results_df[\"indication\"][\n",
    "    results_df[\"indication\"].str.startswith(\"Drug Combinations\")\n",
    "] = \"combination\"\n",
    "\n",
    "results_df[\"indication\"][\n",
    "    (results_df[\"indication\"].str.startswith(\"Drugs Approved for\"))\n",
    "    | (results_df[\"indication\"].str.startswith(\"Drugs Approved to Treat\"))\n",
    "] = \"treatment\""
   ]
  },
  {
   "cell_type": "code",
   "execution_count": null,
   "metadata": {},
   "outputs": [],
   "source": [
    "out_dir = Path(\"../../../data/raw/NCICancerGov\")\n",
    "out_dir.mkdir(exist_ok=True)\n",
    "\n",
    "results_df.to_csv(out_dir / \"FDAApprovedDrugsByCancerType.csv\", index=False)"
   ]
  },
  {
   "cell_type": "code",
   "execution_count": null,
   "metadata": {},
   "outputs": [],
   "source": [
    "cancer_types = results_df[[\"cancer_name\", \"cancer_link_str\"]].drop_duplicates()\n",
    "cancer_types.to_csv(out_dir / \"CancerTypes.csv\", index=False)"
   ]
  },
  {
   "cell_type": "code",
   "execution_count": null,
   "metadata": {},
   "outputs": [],
   "source": [
    "drug_list = results_df[[\"drug_name\", \"drug_link_str\"]].drop_duplicates()\n",
    "drug_list.to_csv(out_dir / \"DrugList.csv\", index=False)"
   ]
  },
  {
   "attachments": {},
   "cell_type": "markdown",
   "metadata": {},
   "source": [
    "## Current"
   ]
  },
  {
   "cell_type": "code",
   "execution_count": null,
   "metadata": {},
   "outputs": [],
   "source": [
    "url = parse.urljoin(base_url, \"about-cancer/treatment/drugs\")\n",
    "resp = requests.get(url)\n",
    "soup = BeautifulSoup(resp.content, \"html.parser\")\n",
    "\n",
    "drug_lists = soup.find(\"article\").select(\"ul:not(nav ul)\")\n",
    "drug_to_link = {}\n",
    "for drug_list in drug_lists:\n",
    "    for a in drug_list.find_all(\"a\", href=True):\n",
    "        href = str(a[\"href\"])\n",
    "        if href.startswith(\"/about-cancer/treatment/drugs\"):\n",
    "            drug_name = a.text\n",
    "            drug_to_link[drug_name] = parse.urljoin(base_url, href)"
   ]
  },
  {
   "cell_type": "code",
   "execution_count": null,
   "metadata": {},
   "outputs": [],
   "source": [
    "def get_fda_status(article: Tag | NavigableString) -> str | None:\n",
    "    \"\"\"Extract FDA status from soup.\"\"\"\n",
    "    div = article.find(\"div\", string=\"FDA Approved\")\n",
    "    if div is not None:\n",
    "        fda_status = list(div.parent.children)[1].text\n",
    "        return fda_status\n",
    "\n",
    "\n",
    "def get_daily_mail_link(article: Tag | NavigableString) -> str | None:\n",
    "    \"\"\"Extract daily mail link from soup if present.\"\"\"\n",
    "    a = article.find(\"a\", {\"href\": re.compile(r\"dailymed\\.nlm\\.nih\\.gov\")})\n",
    "    if a is not None:\n",
    "        daily_mail_link = a[\"href\"]\n",
    "        return daily_mail_link\n",
    "\n",
    "\n",
    "def get_nci_drug_link(article: Tag | NavigableString) -> str | None:\n",
    "    \"\"\"Extract NCI drug dictionary link from soup if present.\"\"\"\n",
    "    pattern = re.compile(r\"publications\\/dictionaries\\/cancer-drug\")\n",
    "    a = article.find(\"a\", {\"href\": pattern})\n",
    "    if a is not None:\n",
    "        nci_drug_link = a[\"href\"]\n",
    "        return nci_drug_link\n",
    "    \n",
    "def get_cancer_types(article: Tag | NavigableString) -> list[str] | None:\n",
    "    \"\"\"Extract approved cancer types from soup.\"\"\"\n",
    "    h2 = article.find(\"h2\", string=\"Use in Cancer\")\n",
    "    if h2 is not None:\n",
    "        use_in_cancer_ul = h2.parent.find(\"ul\", recursive=False)\n",
    "        strongs = use_in_cancer_ul.find_all(\"strong\")\n",
    "        cancer_types = set()\n",
    "        if strongs is not None:\n",
    "            for el in strongs:\n",
    "                a = el.find(\"a\")\n",
    "                if a is not None:\n",
    "                    cancer_types.add(a.text)\n",
    "            return list(cancer_types)"
   ]
  },
  {
   "cell_type": "code",
   "execution_count": null,
   "metadata": {},
   "outputs": [],
   "source": [
    "drug_to_soup = {}\n",
    "for drug_name, drug_link in drug_to_link.items():\n",
    "    resp = requests.get(drug_link)\n",
    "    soup = BeautifulSoup(resp.content, \"html.parser\")\n",
    "    drug_to_soup[drug_name] = soup"
   ]
  },
  {
   "cell_type": "code",
   "execution_count": null,
   "metadata": {},
   "outputs": [],
   "source": [
    "results = []\n",
    "for drug_name, soup in drug_to_soup.items():\n",
    "    article = soup.find(\"article\")\n",
    "    if article is not None:\n",
    "        fda_status = get_fda_status(article)\n",
    "        nci_drug_link = get_nci_drug_link(article)\n",
    "        daily_mail_link = get_daily_mail_link(article)\n",
    "        cancer_types = get_cancer_types(article)\n",
    "        if cancer_types is None:\n",
    "            results.append(\n",
    "                [\n",
    "                    drug_name,\n",
    "                    None,\n",
    "                    fda_status,\n",
    "                    daily_mail_link,\n",
    "                    nci_drug_link,\n",
    "                ]\n",
    "            )\n",
    "        else:\n",
    "            for cancer_type in cancer_types:\n",
    "                results.append(\n",
    "                    [\n",
    "                        drug_name,\n",
    "                        cancer_type,\n",
    "                        fda_status,\n",
    "                        daily_mail_link,\n",
    "                        nci_drug_link,\n",
    "                    ]\n",
    "                )"
   ]
  },
  {
   "cell_type": "code",
   "execution_count": null,
   "metadata": {},
   "outputs": [],
   "source": [
    "results = pd.DataFrame(\n",
    "    results,\n",
    "    columns=[\n",
    "        \"drug_name\",\n",
    "        \"cancer_type\",\n",
    "        \"fda_status\",\n",
    "        \"daily_mail_link\",\n",
    "        \"nci_drug_dict_link\",\n",
    "    ],\n",
    ")\n",
    "results.head()"
   ]
  },
  {
   "cell_type": "code",
   "execution_count": null,
   "metadata": {},
   "outputs": [],
   "source": [
    "results.to_csv(out_dir / \"FDAApprovedDrugCancerTypeCombos.csv\", index=False)"
   ]
  },
  {
   "cell_type": "code",
   "execution_count": null,
   "metadata": {},
   "outputs": [],
   "source": [
    "cancer_list = results[[\"cancer_type\"]].drop_duplicates()\n",
    "cancer_list.to_csv(out_dir / \"CancerTypeList.csv\", index=False)"
   ]
  },
  {
   "cell_type": "code",
   "execution_count": null,
   "metadata": {},
   "outputs": [],
   "source": [
    "drug_list = results[[\"drug_name\", \"nci_drug_dict_link\"]].drop_duplicates()\n"
   ]
  },
  {
   "cell_type": "code",
   "execution_count": null,
   "metadata": {},
   "outputs": [],
   "source": [
    "link = drug_list[\"nci_drug_dict_link\"][0]\n",
    "resp = requests.get(link, allow_redirects=True)\n",
    "soup = BeautifulSoup(resp.content, \"html.parser\")"
   ]
  },
  {
   "cell_type": "code",
   "execution_count": null,
   "metadata": {},
   "outputs": [],
   "source": [
    "drug_list.to_csv(out_dir / \"DrugList.csv\", index=False)"
   ]
  }
 ],
 "metadata": {
  "kernelspec": {
   "display_name": "cdrpy-tf-cpu",
   "language": "python",
   "name": "python3"
  },
  "language_info": {
   "codemirror_mode": {
    "name": "ipython",
    "version": 3
   },
   "file_extension": ".py",
   "mimetype": "text/x-python",
   "name": "python",
   "nbconvert_exporter": "python",
   "pygments_lexer": "ipython3",
   "version": "3.9.13"
  }
 },
 "nbformat": 4,
 "nbformat_minor": 2
}
