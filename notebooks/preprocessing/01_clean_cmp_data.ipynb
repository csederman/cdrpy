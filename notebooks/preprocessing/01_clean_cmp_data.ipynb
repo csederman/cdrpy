{
 "cells": [
  {
   "attachments": {},
   "cell_type": "markdown",
   "metadata": {},
   "source": [
    "# Clean and preprocess Cell Model Passports data"
   ]
  },
  {
   "cell_type": "code",
   "execution_count": null,
   "metadata": {},
   "outputs": [],
   "source": [
    "from __future__ import annotations\n",
    "\n",
    "import polars as pl\n",
    "import pandas as pd\n",
    "import numpy as np\n",
    "\n",
    "from pathlib import Path"
   ]
  },
  {
   "cell_type": "code",
   "execution_count": null,
   "metadata": {},
   "outputs": [],
   "source": [
    "cmp_data_folder = Path(\"../../data/raw/CellModelPassports\")\n",
    "cmp_output_folder = Path(\"../../data/processed/CellModelPassports\")\n",
    "cmp_output_folder.mkdir(exist_ok=True)"
   ]
  },
  {
   "cell_type": "code",
   "execution_count": null,
   "metadata": {},
   "outputs": [],
   "source": [
    "cmp_model_list = pl.read_csv(cmp_data_folder / \"model_list_20230608.csv\")\n",
    "cmp_model_meta = cmp_model_list.select([\n",
    "    \"model_id\",\n",
    "    \"model_name\",\n",
    "    \"tissue\",\n",
    "    \"cancer_type\",\n",
    "    \"cancer_type_detail\",\n",
    "    \"cancer_type_ncit_id\",\n",
    "    pl.col(\"CCLE_ID\").alias(\"ccle_id\"),\n",
    "    pl.col(\"BROAD_ID\").alias(\"broad_id\")\n",
    "])\n",
    "cmp_model_meta.head()"
   ]
  },
  {
   "cell_type": "code",
   "execution_count": null,
   "metadata": {},
   "outputs": [],
   "source": [
    "# cmp_model_meta.write_csv(cmp_output_folder / \"ModelAnnotations.csv\")"
   ]
  },
  {
   "cell_type": "code",
   "execution_count": null,
   "metadata": {},
   "outputs": [],
   "source": [
    "cmp_gene_identifiers = pl.read_csv(\n",
    "    cmp_data_folder / \"gene_identifiers_20191101.csv\",\n",
    "    dtypes={\"entrez_id\": str},\n",
    ")\n",
    "cmp_gene_identifiers.head()"
   ]
  },
  {
   "cell_type": "code",
   "execution_count": null,
   "metadata": {},
   "outputs": [],
   "source": [
    "cmp_wes_maf = pl.read_csv(cmp_data_folder / \"mutations_all_20230202.csv\")\n",
    "cmp_wes_maf.head(n=2)"
   ]
  },
  {
   "attachments": {},
   "cell_type": "markdown",
   "metadata": {},
   "source": [
    "## Clean the WES data"
   ]
  },
  {
   "cell_type": "code",
   "execution_count": null,
   "metadata": {},
   "outputs": [],
   "source": [
    "cmp_wes_matrix = (\n",
    "    cmp_wes_maf.with_columns(pl.col(\"cancer_driver\").cast(int))\n",
    "    .pivot(\n",
    "        values=\"cancer_driver\",\n",
    "        index=\"model_id\",\n",
    "        columns=\"gene_symbol\",\n",
    "        aggregate_function=\"max\",\n",
    "    )\n",
    "    .fill_null(0)\n",
    ")\n",
    "\n",
    "mut_genes = sorted(cmp_wes_matrix.columns[1:])\n",
    "cmp_wes_matrix = cmp_wes_matrix.select([\"model_id\", *mut_genes])\n",
    "\n",
    "cmp_wes_matrix.head(n=2)"
   ]
  },
  {
   "cell_type": "code",
   "execution_count": null,
   "metadata": {},
   "outputs": [],
   "source": [
    "cmp_wes_matrix.write_csv(cmp_output_folder / \"OmicsDriverMutations.csv\")"
   ]
  },
  {
   "attachments": {},
   "cell_type": "markdown",
   "metadata": {},
   "source": [
    "## Clean the RNA seq data"
   ]
  },
  {
   "cell_type": "code",
   "execution_count": null,
   "metadata": {},
   "outputs": [],
   "source": [
    "cmp_rnaseq_fpkm_matrix = (\n",
    "    pd.read_csv(\n",
    "        cmp_data_folder / \"rnaseq_fpkm_20220624.csv\",\n",
    "        skiprows=[1, 2, 3, 4],\n",
    "    )\n",
    "    .drop(columns=[\"model_id\"])\n",
    "    .rename(columns={\"Unnamed: 1\": \"gene_symbol\"})\n",
    ")\n",
    "\n",
    "cmp_rnaseq_fpkm_matrix.head()"
   ]
  },
  {
   "cell_type": "code",
   "execution_count": null,
   "metadata": {},
   "outputs": [],
   "source": [
    "gene_symbols = cmp_rnaseq_fpkm_matrix[\"gene_symbol\"]\n",
    "model_ids = cmp_rnaseq_fpkm_matrix.columns[1:]\n",
    "\n",
    "cmp_rnaseq_fpkm_matrix_t = cmp_rnaseq_fpkm_matrix[model_ids].transpose()\n",
    "cmp_rnaseq_fpkm_matrix_t.columns = gene_symbols\n",
    "cmp_rnaseq_fpkm_matrix_t = cmp_rnaseq_fpkm_matrix_t.rename_axis(\n",
    "    columns={\"gene_symbol\": None}\n",
    ")\n",
    "\n",
    "cmp_rnaseq_log2fpkm_matrix_t: pd.DataFrame = np.log2(\n",
    "    cmp_rnaseq_fpkm_matrix_t + 1\n",
    ")\n",
    "\n",
    "cmp_rnaseq_log2fpkm_matrix_t = (\n",
    "    cmp_rnaseq_log2fpkm_matrix_t.reset_index().rename(\n",
    "        columns={\"index\": \"model_id\"}\n",
    "    )\n",
    ")\n",
    "\n",
    "cmp_rnaseq_log2fpkm_matrix_t.head()"
   ]
  },
  {
   "cell_type": "code",
   "execution_count": null,
   "metadata": {},
   "outputs": [],
   "source": [
    "cmp_rnaseq_log2fpkm_matrix_t.to_csv(\n",
    "    cmp_output_folder / \"OmicsExpressionProteinCodingGenesFPKMLogp1.csv\",\n",
    "    index=False,\n",
    ")"
   ]
  },
  {
   "cell_type": "code",
   "execution_count": null,
   "metadata": {},
   "outputs": [],
   "source": [
    "cmp_rnaseq_tpm_matrix = (\n",
    "    pd.read_csv(\n",
    "        cmp_data_folder / \"rnaseq_tpm_20220624.csv\",\n",
    "        skiprows=[1, 2, 3, 4],\n",
    "    )\n",
    "    .drop(columns=[\"model_id\"])\n",
    "    .rename(columns={\"Unnamed: 1\": \"gene_symbol\"})\n",
    ")\n",
    "\n",
    "cmp_rnaseq_tpm_matrix.head()"
   ]
  },
  {
   "cell_type": "code",
   "execution_count": null,
   "metadata": {},
   "outputs": [],
   "source": [
    "gene_symbols = cmp_rnaseq_tpm_matrix[\"gene_symbol\"]\n",
    "model_ids = cmp_rnaseq_tpm_matrix.columns[1:]\n",
    "\n",
    "cmp_rnaseq_tpm_matrix_t = cmp_rnaseq_tpm_matrix[model_ids].transpose()\n",
    "cmp_rnaseq_tpm_matrix_t.columns = gene_symbols\n",
    "cmp_rnaseq_tpm_matrix_t = cmp_rnaseq_tpm_matrix_t.rename_axis(\n",
    "    columns={\"gene_symbol\": None}\n",
    ")\n",
    "\n",
    "cmp_rnaseq_log2tpm_matrix_t: pd.DataFrame = np.log2(\n",
    "    cmp_rnaseq_tpm_matrix_t + 1\n",
    ")\n",
    "\n",
    "cmp_rnaseq_log2tpm_matrix_t = (\n",
    "    cmp_rnaseq_log2tpm_matrix_t.reset_index().rename(\n",
    "        columns={\"index\": \"model_id\"}\n",
    "    )\n",
    ")\n",
    "\n",
    "cmp_rnaseq_log2tpm_matrix_t.head()"
   ]
  },
  {
   "cell_type": "code",
   "execution_count": null,
   "metadata": {},
   "outputs": [],
   "source": [
    "cmp_rnaseq_log2tpm_matrix_t.to_csv(\n",
    "    cmp_output_folder / \"OmicsExpressionProteinCodingGenesTPMLogp1.csv\",\n",
    "    index=False,\n",
    ")"
   ]
  },
  {
   "attachments": {},
   "cell_type": "markdown",
   "metadata": {},
   "source": [
    "## Copy number data"
   ]
  },
  {
   "cell_type": "code",
   "execution_count": null,
   "metadata": {},
   "outputs": [],
   "source": [
    "cmp_cnv_matrix = pd.read_csv(\n",
    "    cmp_data_folder / \"WES_pureCN_CNV_genes_total_copy_number_20221213.csv\",\n",
    "    skiprows=[0, 2, 3],\n",
    "    index_col=0,\n",
    ")\n",
    "cmp_cnv_matrix.head()"
   ]
  },
  {
   "cell_type": "code",
   "execution_count": null,
   "metadata": {},
   "outputs": [],
   "source": [
    "cmp_cnv_matrix.columns"
   ]
  }
 ],
 "metadata": {
  "kernelspec": {
   "display_name": "cdrpy-cpu",
   "language": "python",
   "name": "python3"
  },
  "language_info": {
   "codemirror_mode": {
    "name": "ipython",
    "version": 3
   },
   "file_extension": ".py",
   "mimetype": "text/x-python",
   "name": "python",
   "nbconvert_exporter": "python",
   "pygments_lexer": "ipython3",
   "version": "3.9.13"
  }
 },
 "nbformat": 4,
 "nbformat_minor": 2
}
