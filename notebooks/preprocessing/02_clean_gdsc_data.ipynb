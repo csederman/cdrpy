{
 "cells": [
  {
   "attachments": {},
   "cell_type": "markdown",
   "metadata": {},
   "source": [
    "# Clean and preprocess the GDSC dataset"
   ]
  },
  {
   "cell_type": "code",
   "execution_count": null,
   "metadata": {},
   "outputs": [],
   "source": [
    "from __future__ import annotations\n",
    "\n",
    "import polars as pl\n",
    "import pandas as pd\n",
    "import numpy as np\n",
    "\n",
    "from pathlib import Path"
   ]
  },
  {
   "cell_type": "code",
   "execution_count": null,
   "metadata": {},
   "outputs": [],
   "source": [
    "data_folder = Path(\"../../data/raw/GDSC\")\n",
    "output_folder = Path(\"../../data/processed/GDSC\")\n",
    "output_folder.mkdir(exist_ok=True)"
   ]
  },
  {
   "cell_type": "code",
   "execution_count": null,
   "metadata": {},
   "outputs": [],
   "source": [
    "# load drug info\n",
    "\n",
    "drug_info = pd.read_csv(\n",
    "    data_folder / \"drug_list_2023_06_23_curation_annotated.csv\",\n",
    ")\n",
    "\n",
    "drug_info.head()"
   ]
  },
  {
   "cell_type": "code",
   "execution_count": null,
   "metadata": {},
   "outputs": [],
   "source": [
    "# load drug screening data\n",
    "\n",
    "screen_v2 = pd.read_excel(\n",
    "    data_folder / \"GDSC2_fitted_dose_response_24Jul22.xlsx\",\n",
    ")\n",
    "screen_v1 = pd.read_excel(\n",
    "    data_folder / \"GDSC1_fitted_dose_response_24Jul22.xlsx\",\n",
    ")"
   ]
  },
  {
   "cell_type": "code",
   "execution_count": null,
   "metadata": {},
   "outputs": [],
   "source": [
    "combined_screen = pd.concat([screen_v1, screen_v2])\n",
    "combined_screen.head()"
   ]
  },
  {
   "cell_type": "code",
   "execution_count": null,
   "metadata": {},
   "outputs": [],
   "source": [
    "# where possible, choose GDSC2\n",
    "# if there are two for GDSC2, choose the one with the most cell lines"
   ]
  },
  {
   "cell_type": "code",
   "execution_count": null,
   "metadata": {},
   "outputs": [],
   "source": [
    "# add smiles string annotations\n",
    "\n",
    "drug_annots = (\n",
    "    drug_info[[\"Drug Id\", \"CanonicalSMILES__PubCHEM\", \"Title__PubCHEM\"]]\n",
    "    .dropna(subset=\"CanonicalSMILES__PubCHEM\")\n",
    "    .drop_duplicates(subset=[\"Drug Id\", \"CanonicalSMILES__PubCHEM\"])\n",
    ")\n",
    "\n",
    "combined_screen = combined_screen.merge(\n",
    "    drug_annots,\n",
    "    left_on=\"DRUG_ID\",\n",
    "    right_on=\"Drug Id\",\n",
    "    how=\"inner\",\n",
    ")\n",
    "\n",
    "combined_screen[\"ID\"] = (\n",
    "    combined_screen[[\"DRUG_ID\", \"DATASET\"]].astype(str).agg(\"-\".join, axis=1)\n",
    ")"
   ]
  },
  {
   "cell_type": "code",
   "execution_count": null,
   "metadata": {},
   "outputs": [],
   "source": [
    "cell_line_counts = (\n",
    "    combined_screen.groupby(\n",
    "        [\"CanonicalSMILES__PubCHEM\", \"DRUG_ID\", \"DATASET\"]\n",
    "    )[\"SANGER_MODEL_ID\"]\n",
    "    .size()\n",
    "    .to_frame(name=\"count\")\n",
    "    .reset_index()\n",
    "    .sort_values(\n",
    "        [\"CanonicalSMILES__PubCHEM\", \"DATASET\", \"count\"],\n",
    "        ascending=[True, False, False],\n",
    "    )\n",
    ")\n",
    "\n",
    "cell_line_counts[\"ID\"] = (\n",
    "    cell_line_counts[[\"DRUG_ID\", \"DATASET\"]].astype(str).agg(\"-\".join, axis=1)\n",
    ")\n",
    "\n",
    "keep_ids = cell_line_counts.drop_duplicates(\n",
    "    subset=[\"CanonicalSMILES__PubCHEM\"], keep=\"first\"\n",
    ")[\"ID\"].to_list()\n",
    "\n",
    "combined_screen = combined_screen[combined_screen[\"ID\"].isin(keep_ids)]"
   ]
  },
  {
   "cell_type": "code",
   "execution_count": null,
   "metadata": {},
   "outputs": [],
   "source": [
    "col_map = {\n",
    "    \"SANGER_MODEL_ID\": \"model_id\",\n",
    "    \"DRUG_ID\": \"drug_id\",\n",
    "    \"DRUG_NAME\": \"drug_name\",\n",
    "    \"Title__PubCHEM\": \"drug_name\",\n",
    "    \"CanonicalSMILES__PubCHEM\": \"canonical_smiles\",\n",
    "    \"LN_IC50\": \"ln_ic50\",\n",
    "    \"AUC\": \"auc\",\n",
    "    \"DATASET\": \"dataset\",\n",
    "}\n",
    "\n",
    "combined_screen_clean = (\n",
    "    combined_screen[list(col_map)].rename(columns=col_map).reset_index()\n",
    ")\n",
    "\n",
    "combined_screen_clean.head()"
   ]
  },
  {
   "cell_type": "code",
   "execution_count": null,
   "metadata": {},
   "outputs": [],
   "source": [
    "combined_screen_clean.to_csv(\n",
    "    output_folder / \"ScreenFittedDoseResponse.csv\", index=False\n",
    ")"
   ]
  },
  {
   "cell_type": "code",
   "execution_count": null,
   "metadata": {},
   "outputs": [],
   "source": [
    "drug_info[\"ID\"] = (\n",
    "    drug_info[[\"Drug Id\", \"Datasets\"]].astype(str).agg(\"-\".join, axis=1)\n",
    ")\n",
    "\n",
    "col_map = {\n",
    "    \"Drug Id\": \"drug_id\",\n",
    "    \"Name\": \"drug_name\",\n",
    "    \"Datasets\": \"dataset\",\n",
    "    \"CanonicalSMILES__PubCHEM\": \"canonical_smiles\",\n",
    "    \"Targets\": \"targets\",\n",
    "    \"Target pathway\": \"target_pathway\",\n",
    "    \"Screening site\": \"screening_site\",\n",
    "    \"PubCHEM__curation\": \"pubchem_id\",\n",
    "    \"Title__PubCHEM\": \"pubchem_drug_name\",\n",
    "    \"MolecularFormula__PubCHEM\": \"pubchem_molecular_formula\",\n",
    "    \"MolecularWeight__PubCHEM\": \"pubchem_molecular_weight\",\n",
    "    \"InChIKey__PubCHEM\": \"pubchem_inchi_key\",\n",
    "}\n",
    "\n",
    "drug_info_clean = (\n",
    "    drug_info[list(col_map)][drug_info[\"ID\"].isin(keep_ids)]\n",
    "    .rename(columns=col_map)\n",
    "    .reset_index()\n",
    ")\n",
    "\n",
    "drug_info_clean.head()"
   ]
  },
  {
   "cell_type": "code",
   "execution_count": null,
   "metadata": {},
   "outputs": [],
   "source": [
    "drug_info_clean.to_csv(output_folder / \"DrugAnnotations.csv\", index=False)"
   ]
  },
  {
   "attachments": {},
   "cell_type": "markdown",
   "metadata": {},
   "source": [
    "# End main\n",
    "## Additional analyses\n",
    "## TODO - migrate below to analysis/datasets/gdsc_data_exploration.ipynb"
   ]
  },
  {
   "cell_type": "code",
   "execution_count": null,
   "metadata": {},
   "outputs": [],
   "source": []
  },
  {
   "cell_type": "code",
   "execution_count": null,
   "metadata": {},
   "outputs": [],
   "source": [
    "gdsc_drug_annots = (\n",
    "    gdsc_drug_list.select(\n",
    "        [\"Drug Id\", \"CanonicalSMILES__PubCHEM\", \"Screening site\", \"Datasets\"]\n",
    "    )\n",
    "    .unique(subset=[\"Drug Id\", \"CanonicalSMILES__PubCHEM\"])\n",
    "    .drop_nulls()\n",
    ")\n",
    "\n",
    "gdsc_drug_annots.head()"
   ]
  },
  {
   "cell_type": "code",
   "execution_count": null,
   "metadata": {},
   "outputs": [],
   "source": [
    "# for each drug with a smiles string, I want to choose the drug id with the most associated cell lines"
   ]
  },
  {
   "cell_type": "code",
   "execution_count": null,
   "metadata": {},
   "outputs": [],
   "source": [
    "gdsc_combined_screen_smiles = gdsc_combined_screen.join(\n",
    "    gdsc_drug_annots,\n",
    "    left_on=\"DRUG_ID\",\n",
    "    right_on=\"Drug Id\",\n",
    "    how=\"left\",\n",
    "    validate=\"m:1\",\n",
    ")\n",
    "\n",
    "gdsc_combined_screen_smiles"
   ]
  },
  {
   "attachments": {},
   "cell_type": "markdown",
   "metadata": {},
   "source": [
    "## Business rules\n",
    "\n",
    "For each cell line with duplicate smiles strings, we first try to choose the response from GDSC2 and then we choose the response from SANGER over MGH"
   ]
  },
  {
   "cell_type": "code",
   "execution_count": null,
   "metadata": {},
   "outputs": [],
   "source": [
    "# remove duplicate drug response observations\n",
    "gdsc_combined_screen_smiles = (\n",
    "    gdsc_combined_screen_smiles.drop_nulls(subset=\"CanonicalSMILES__PubCHEM\")\n",
    "    .sort(\n",
    "        [\n",
    "            \"SANGER_MODEL_ID\",\n",
    "            \"CanonicalSMILES__PubCHEM\",\n",
    "            \"DATASET\",\n",
    "            \"Screening site\",\n",
    "        ],\n",
    "        descending=[False, False, True, True],\n",
    "    )\n",
    "    .unique(\n",
    "        subset=[\"SANGER_MODEL_ID\", \"CanonicalSMILES__PubCHEM\"],\n",
    "        keep=\"first\",\n",
    "        maintain_order=True,\n",
    "    )\n",
    ")\n",
    "\n",
    "gdsc_combined_screen_smiles.head()"
   ]
  },
  {
   "cell_type": "code",
   "execution_count": null,
   "metadata": {},
   "outputs": [],
   "source": [
    "gdsc_combined_screen_smiles.select(\n",
    "    [\n",
    "        pl.col(\"SANGER_MODEL_ID\").alias(\"model_id\"),\n",
    "        pl.col(\"DRUG_ID\").alias(\"drug_id\"),\n",
    "        pl.col(\"CanonicalSMILES__PubCHEM\").alias(\"canonical_smiles\"),\n",
    "        pl.col(\"LN_IC50\").alias(\"ln_ic50\"),\n",
    "        pl.col(\"AUC\").alias(\"auc\"),\n",
    "        pl.col(\"DATASET\").alias(\"dataset\"),\n",
    "        pl.col(\"Screening site\").alias(\"screening_site\"),\n",
    "    ]\n",
    ").write_csv(gdsc_output_folder / \"ScreenFittedDoseResponse.csv\")"
   ]
  },
  {
   "cell_type": "code",
   "execution_count": null,
   "metadata": {},
   "outputs": [],
   "source": [
    "left_cols = [\n",
    "    \"DRUG_ID\",\n",
    "    \"DATASET\",\n",
    "    \"CanonicalSMILES__PubCHEM\",\n",
    "    \"Screening site\",\n",
    "]\n",
    "right_cols = [\n",
    "    \"Drug Id\",\n",
    "    \"Datasets\",\n",
    "    \"CanonicalSMILES__PubCHEM\",\n",
    "    \"Screening site\",\n",
    "]\n",
    "gdsc_combined_screen_smiles.select(left_cols).unique().join(\n",
    "    gdsc_drug_list,\n",
    "    left_on=left_cols,\n",
    "    right_on=right_cols,\n",
    "    how=\"inner\",\n",
    ")[\"CanonicalSMILES__PubCHEM\"].n_unique()"
   ]
  },
  {
   "cell_type": "code",
   "execution_count": null,
   "metadata": {},
   "outputs": [],
   "source": [
    "# assess correlation between GDSCv1 and GDSCv2 responses\n",
    "\n",
    "gdsc_v1_ic50 = (\n",
    "    gdsc_v1_screen[[\"DRUG_ID\", \"SANGER_MODEL_ID\", \"LN_IC50\"]]\n",
    "    .join(\n",
    "        drug_to_smiles,\n",
    "        left_on=\"DRUG_ID\",\n",
    "        right_on=\"Drug Id\",\n",
    "        how=\"inner\",\n",
    "        validate=\"m:1\",\n",
    "    )\n",
    "    .rename({\"LN_IC50\": \"LN_IC50_v1\", \"DRUG_ID\": \"DRUG_ID_v1\"})\n",
    ")\n",
    "\n",
    "gdsc_v2_ic50 = (\n",
    "    gdsc_v2_screen[[\"DRUG_ID\", \"SANGER_MODEL_ID\", \"LN_IC50\"]]\n",
    "    .join(\n",
    "        drug_to_smiles,\n",
    "        left_on=\"DRUG_ID\",\n",
    "        right_on=\"Drug Id\",\n",
    "        how=\"inner\",\n",
    "        validate=\"m:1\",\n",
    "    )\n",
    "    .rename({\"LN_IC50\": \"LN_IC50_v2\", \"DRUG_ID\": \"DRUG_ID_v2\"})\n",
    ")"
   ]
  },
  {
   "cell_type": "code",
   "execution_count": null,
   "metadata": {},
   "outputs": [],
   "source": [
    "from scipy import stats\n",
    "\n",
    "def pearsonr(s: pl.Struct) -> float:\n",
    "    if s[0].shape[0] > 3:\n",
    "        result = stats.pearsonr(s[0], s[1])\n",
    "        return result[0]\n",
    "    return np.nan"
   ]
  },
  {
   "cell_type": "code",
   "execution_count": null,
   "metadata": {},
   "outputs": [],
   "source": [
    "gdsc_v1_v2_screen_common = gdsc_v2_ic50.join(\n",
    "    gdsc_v1_ic50,\n",
    "    on=[\"CanonicalSMILES__PubCHEM\", \"SANGER_MODEL_ID\"],\n",
    "    how=\"inner\",\n",
    ")\n",
    "\n",
    "gdsc_v1_v2_screen_common.head()"
   ]
  },
  {
   "cell_type": "code",
   "execution_count": null,
   "metadata": {},
   "outputs": [],
   "source": [
    "gdsc_v1_v2_corr = (\n",
    "    gdsc_v1_v2_screen_common.groupby(\"CanonicalSMILES__PubCHEM\")\n",
    "    .agg(pl.apply([\"LN_IC50_v2\", \"LN_IC50_v1\"], pearsonr).alias(\"pearson\"))\n",
    "    .sort(\"pearson\", descending=True)\n",
    ")\n",
    "\n",
    "gdsc_v1_v2_corr.head()"
   ]
  },
  {
   "cell_type": "code",
   "execution_count": null,
   "metadata": {},
   "outputs": [],
   "source": [
    "gdsc_v1_v2_corr[\"pearson\"].describe()"
   ]
  }
 ],
 "metadata": {
  "kernelspec": {
   "display_name": "cdrpy-cpu",
   "language": "python",
   "name": "python3"
  },
  "language_info": {
   "codemirror_mode": {
    "name": "ipython",
    "version": 3
   },
   "file_extension": ".py",
   "mimetype": "text/x-python",
   "name": "python",
   "nbconvert_exporter": "python",
   "pygments_lexer": "ipython3",
   "version": "3.9.13"
  }
 },
 "nbformat": 4,
 "nbformat_minor": 2
}
